{
  "nbformat": 4,
  "nbformat_minor": 0,
  "metadata": {
    "colab": {
      "provenance": [],
      "include_colab_link": true
    },
    "kernelspec": {
      "name": "python3",
      "display_name": "Python 3"
    },
    "language_info": {
      "name": "python"
    },
    "widgets": {
      "application/vnd.jupyter.widget-state+json": {
        "5d5cdfb567044c64b046d16021aa1055": {
          "model_module": "@jupyter-widgets/controls",
          "model_name": "HBoxModel",
          "model_module_version": "1.5.0",
          "state": {
            "_dom_classes": [],
            "_model_module": "@jupyter-widgets/controls",
            "_model_module_version": "1.5.0",
            "_model_name": "HBoxModel",
            "_view_count": null,
            "_view_module": "@jupyter-widgets/controls",
            "_view_module_version": "1.5.0",
            "_view_name": "HBoxView",
            "box_style": "",
            "children": [
              "IPY_MODEL_02c384a1406543d1861073b48de13915",
              "IPY_MODEL_650bf5102c2843f78bd1f9727a75cfb1",
              "IPY_MODEL_a920ab9bfeba4564bf322720722bbedc"
            ],
            "layout": "IPY_MODEL_2aa2f6ce2891442f96bc2e89ff6c61f5"
          }
        },
        "02c384a1406543d1861073b48de13915": {
          "model_module": "@jupyter-widgets/controls",
          "model_name": "HTMLModel",
          "model_module_version": "1.5.0",
          "state": {
            "_dom_classes": [],
            "_model_module": "@jupyter-widgets/controls",
            "_model_module_version": "1.5.0",
            "_model_name": "HTMLModel",
            "_view_count": null,
            "_view_module": "@jupyter-widgets/controls",
            "_view_module_version": "1.5.0",
            "_view_name": "HTMLView",
            "description": "",
            "description_tooltip": null,
            "layout": "IPY_MODEL_ede18bd6507e44cf98722c6cf5648b9f",
            "placeholder": "​",
            "style": "IPY_MODEL_8272839da1894998932dd7aaeb1929c7",
            "value": "modules.json: 100%"
          }
        },
        "650bf5102c2843f78bd1f9727a75cfb1": {
          "model_module": "@jupyter-widgets/controls",
          "model_name": "FloatProgressModel",
          "model_module_version": "1.5.0",
          "state": {
            "_dom_classes": [],
            "_model_module": "@jupyter-widgets/controls",
            "_model_module_version": "1.5.0",
            "_model_name": "FloatProgressModel",
            "_view_count": null,
            "_view_module": "@jupyter-widgets/controls",
            "_view_module_version": "1.5.0",
            "_view_name": "ProgressView",
            "bar_style": "success",
            "description": "",
            "description_tooltip": null,
            "layout": "IPY_MODEL_cc7541879ef64366a5cfdd71f7df1eaa",
            "max": 229,
            "min": 0,
            "orientation": "horizontal",
            "style": "IPY_MODEL_d5747d37fe50497e8041e893d940efc8",
            "value": 229
          }
        },
        "a920ab9bfeba4564bf322720722bbedc": {
          "model_module": "@jupyter-widgets/controls",
          "model_name": "HTMLModel",
          "model_module_version": "1.5.0",
          "state": {
            "_dom_classes": [],
            "_model_module": "@jupyter-widgets/controls",
            "_model_module_version": "1.5.0",
            "_model_name": "HTMLModel",
            "_view_count": null,
            "_view_module": "@jupyter-widgets/controls",
            "_view_module_version": "1.5.0",
            "_view_name": "HTMLView",
            "description": "",
            "description_tooltip": null,
            "layout": "IPY_MODEL_b11807a7a14246c59309b985bcd60c39",
            "placeholder": "​",
            "style": "IPY_MODEL_ff1bfb3862e646c4bee344b711df868c",
            "value": " 229/229 [00:00&lt;00:00, 18.0kB/s]"
          }
        },
        "2aa2f6ce2891442f96bc2e89ff6c61f5": {
          "model_module": "@jupyter-widgets/base",
          "model_name": "LayoutModel",
          "model_module_version": "1.2.0",
          "state": {
            "_model_module": "@jupyter-widgets/base",
            "_model_module_version": "1.2.0",
            "_model_name": "LayoutModel",
            "_view_count": null,
            "_view_module": "@jupyter-widgets/base",
            "_view_module_version": "1.2.0",
            "_view_name": "LayoutView",
            "align_content": null,
            "align_items": null,
            "align_self": null,
            "border": null,
            "bottom": null,
            "display": null,
            "flex": null,
            "flex_flow": null,
            "grid_area": null,
            "grid_auto_columns": null,
            "grid_auto_flow": null,
            "grid_auto_rows": null,
            "grid_column": null,
            "grid_gap": null,
            "grid_row": null,
            "grid_template_areas": null,
            "grid_template_columns": null,
            "grid_template_rows": null,
            "height": null,
            "justify_content": null,
            "justify_items": null,
            "left": null,
            "margin": null,
            "max_height": null,
            "max_width": null,
            "min_height": null,
            "min_width": null,
            "object_fit": null,
            "object_position": null,
            "order": null,
            "overflow": null,
            "overflow_x": null,
            "overflow_y": null,
            "padding": null,
            "right": null,
            "top": null,
            "visibility": null,
            "width": null
          }
        },
        "ede18bd6507e44cf98722c6cf5648b9f": {
          "model_module": "@jupyter-widgets/base",
          "model_name": "LayoutModel",
          "model_module_version": "1.2.0",
          "state": {
            "_model_module": "@jupyter-widgets/base",
            "_model_module_version": "1.2.0",
            "_model_name": "LayoutModel",
            "_view_count": null,
            "_view_module": "@jupyter-widgets/base",
            "_view_module_version": "1.2.0",
            "_view_name": "LayoutView",
            "align_content": null,
            "align_items": null,
            "align_self": null,
            "border": null,
            "bottom": null,
            "display": null,
            "flex": null,
            "flex_flow": null,
            "grid_area": null,
            "grid_auto_columns": null,
            "grid_auto_flow": null,
            "grid_auto_rows": null,
            "grid_column": null,
            "grid_gap": null,
            "grid_row": null,
            "grid_template_areas": null,
            "grid_template_columns": null,
            "grid_template_rows": null,
            "height": null,
            "justify_content": null,
            "justify_items": null,
            "left": null,
            "margin": null,
            "max_height": null,
            "max_width": null,
            "min_height": null,
            "min_width": null,
            "object_fit": null,
            "object_position": null,
            "order": null,
            "overflow": null,
            "overflow_x": null,
            "overflow_y": null,
            "padding": null,
            "right": null,
            "top": null,
            "visibility": null,
            "width": null
          }
        },
        "8272839da1894998932dd7aaeb1929c7": {
          "model_module": "@jupyter-widgets/controls",
          "model_name": "DescriptionStyleModel",
          "model_module_version": "1.5.0",
          "state": {
            "_model_module": "@jupyter-widgets/controls",
            "_model_module_version": "1.5.0",
            "_model_name": "DescriptionStyleModel",
            "_view_count": null,
            "_view_module": "@jupyter-widgets/base",
            "_view_module_version": "1.2.0",
            "_view_name": "StyleView",
            "description_width": ""
          }
        },
        "cc7541879ef64366a5cfdd71f7df1eaa": {
          "model_module": "@jupyter-widgets/base",
          "model_name": "LayoutModel",
          "model_module_version": "1.2.0",
          "state": {
            "_model_module": "@jupyter-widgets/base",
            "_model_module_version": "1.2.0",
            "_model_name": "LayoutModel",
            "_view_count": null,
            "_view_module": "@jupyter-widgets/base",
            "_view_module_version": "1.2.0",
            "_view_name": "LayoutView",
            "align_content": null,
            "align_items": null,
            "align_self": null,
            "border": null,
            "bottom": null,
            "display": null,
            "flex": null,
            "flex_flow": null,
            "grid_area": null,
            "grid_auto_columns": null,
            "grid_auto_flow": null,
            "grid_auto_rows": null,
            "grid_column": null,
            "grid_gap": null,
            "grid_row": null,
            "grid_template_areas": null,
            "grid_template_columns": null,
            "grid_template_rows": null,
            "height": null,
            "justify_content": null,
            "justify_items": null,
            "left": null,
            "margin": null,
            "max_height": null,
            "max_width": null,
            "min_height": null,
            "min_width": null,
            "object_fit": null,
            "object_position": null,
            "order": null,
            "overflow": null,
            "overflow_x": null,
            "overflow_y": null,
            "padding": null,
            "right": null,
            "top": null,
            "visibility": null,
            "width": null
          }
        },
        "d5747d37fe50497e8041e893d940efc8": {
          "model_module": "@jupyter-widgets/controls",
          "model_name": "ProgressStyleModel",
          "model_module_version": "1.5.0",
          "state": {
            "_model_module": "@jupyter-widgets/controls",
            "_model_module_version": "1.5.0",
            "_model_name": "ProgressStyleModel",
            "_view_count": null,
            "_view_module": "@jupyter-widgets/base",
            "_view_module_version": "1.2.0",
            "_view_name": "StyleView",
            "bar_color": null,
            "description_width": ""
          }
        },
        "b11807a7a14246c59309b985bcd60c39": {
          "model_module": "@jupyter-widgets/base",
          "model_name": "LayoutModel",
          "model_module_version": "1.2.0",
          "state": {
            "_model_module": "@jupyter-widgets/base",
            "_model_module_version": "1.2.0",
            "_model_name": "LayoutModel",
            "_view_count": null,
            "_view_module": "@jupyter-widgets/base",
            "_view_module_version": "1.2.0",
            "_view_name": "LayoutView",
            "align_content": null,
            "align_items": null,
            "align_self": null,
            "border": null,
            "bottom": null,
            "display": null,
            "flex": null,
            "flex_flow": null,
            "grid_area": null,
            "grid_auto_columns": null,
            "grid_auto_flow": null,
            "grid_auto_rows": null,
            "grid_column": null,
            "grid_gap": null,
            "grid_row": null,
            "grid_template_areas": null,
            "grid_template_columns": null,
            "grid_template_rows": null,
            "height": null,
            "justify_content": null,
            "justify_items": null,
            "left": null,
            "margin": null,
            "max_height": null,
            "max_width": null,
            "min_height": null,
            "min_width": null,
            "object_fit": null,
            "object_position": null,
            "order": null,
            "overflow": null,
            "overflow_x": null,
            "overflow_y": null,
            "padding": null,
            "right": null,
            "top": null,
            "visibility": null,
            "width": null
          }
        },
        "ff1bfb3862e646c4bee344b711df868c": {
          "model_module": "@jupyter-widgets/controls",
          "model_name": "DescriptionStyleModel",
          "model_module_version": "1.5.0",
          "state": {
            "_model_module": "@jupyter-widgets/controls",
            "_model_module_version": "1.5.0",
            "_model_name": "DescriptionStyleModel",
            "_view_count": null,
            "_view_module": "@jupyter-widgets/base",
            "_view_module_version": "1.2.0",
            "_view_name": "StyleView",
            "description_width": ""
          }
        },
        "664342f49842443391738cbb5aed1fca": {
          "model_module": "@jupyter-widgets/controls",
          "model_name": "HBoxModel",
          "model_module_version": "1.5.0",
          "state": {
            "_dom_classes": [],
            "_model_module": "@jupyter-widgets/controls",
            "_model_module_version": "1.5.0",
            "_model_name": "HBoxModel",
            "_view_count": null,
            "_view_module": "@jupyter-widgets/controls",
            "_view_module_version": "1.5.0",
            "_view_name": "HBoxView",
            "box_style": "",
            "children": [
              "IPY_MODEL_b0b132cf47ae4bab9a36dbdfbcd3febd",
              "IPY_MODEL_85b0a1fb9a434cbb80b00404a35c3674",
              "IPY_MODEL_5085dba0e2fe4188be5f85a768add0b7"
            ],
            "layout": "IPY_MODEL_2b89ff53285a476395773f339f18451d"
          }
        },
        "b0b132cf47ae4bab9a36dbdfbcd3febd": {
          "model_module": "@jupyter-widgets/controls",
          "model_name": "HTMLModel",
          "model_module_version": "1.5.0",
          "state": {
            "_dom_classes": [],
            "_model_module": "@jupyter-widgets/controls",
            "_model_module_version": "1.5.0",
            "_model_name": "HTMLModel",
            "_view_count": null,
            "_view_module": "@jupyter-widgets/controls",
            "_view_module_version": "1.5.0",
            "_view_name": "HTMLView",
            "description": "",
            "description_tooltip": null,
            "layout": "IPY_MODEL_34cea46e2d03443791ed93ef3bdd2981",
            "placeholder": "​",
            "style": "IPY_MODEL_25103e4112174ffe9a64649a7746a1c9",
            "value": "config_sentence_transformers.json: 100%"
          }
        },
        "85b0a1fb9a434cbb80b00404a35c3674": {
          "model_module": "@jupyter-widgets/controls",
          "model_name": "FloatProgressModel",
          "model_module_version": "1.5.0",
          "state": {
            "_dom_classes": [],
            "_model_module": "@jupyter-widgets/controls",
            "_model_module_version": "1.5.0",
            "_model_name": "FloatProgressModel",
            "_view_count": null,
            "_view_module": "@jupyter-widgets/controls",
            "_view_module_version": "1.5.0",
            "_view_name": "ProgressView",
            "bar_style": "success",
            "description": "",
            "description_tooltip": null,
            "layout": "IPY_MODEL_4f83a7e5177d48c4a6c72d0c95b20db7",
            "max": 122,
            "min": 0,
            "orientation": "horizontal",
            "style": "IPY_MODEL_81d8b36cda2643fe88b2615ff50ca352",
            "value": 122
          }
        },
        "5085dba0e2fe4188be5f85a768add0b7": {
          "model_module": "@jupyter-widgets/controls",
          "model_name": "HTMLModel",
          "model_module_version": "1.5.0",
          "state": {
            "_dom_classes": [],
            "_model_module": "@jupyter-widgets/controls",
            "_model_module_version": "1.5.0",
            "_model_name": "HTMLModel",
            "_view_count": null,
            "_view_module": "@jupyter-widgets/controls",
            "_view_module_version": "1.5.0",
            "_view_name": "HTMLView",
            "description": "",
            "description_tooltip": null,
            "layout": "IPY_MODEL_7ca40280860b444cb029b19816d7aa2f",
            "placeholder": "​",
            "style": "IPY_MODEL_73392c25fb5c44a2b6b9ba7f1d688702",
            "value": " 122/122 [00:00&lt;00:00, 6.86kB/s]"
          }
        },
        "2b89ff53285a476395773f339f18451d": {
          "model_module": "@jupyter-widgets/base",
          "model_name": "LayoutModel",
          "model_module_version": "1.2.0",
          "state": {
            "_model_module": "@jupyter-widgets/base",
            "_model_module_version": "1.2.0",
            "_model_name": "LayoutModel",
            "_view_count": null,
            "_view_module": "@jupyter-widgets/base",
            "_view_module_version": "1.2.0",
            "_view_name": "LayoutView",
            "align_content": null,
            "align_items": null,
            "align_self": null,
            "border": null,
            "bottom": null,
            "display": null,
            "flex": null,
            "flex_flow": null,
            "grid_area": null,
            "grid_auto_columns": null,
            "grid_auto_flow": null,
            "grid_auto_rows": null,
            "grid_column": null,
            "grid_gap": null,
            "grid_row": null,
            "grid_template_areas": null,
            "grid_template_columns": null,
            "grid_template_rows": null,
            "height": null,
            "justify_content": null,
            "justify_items": null,
            "left": null,
            "margin": null,
            "max_height": null,
            "max_width": null,
            "min_height": null,
            "min_width": null,
            "object_fit": null,
            "object_position": null,
            "order": null,
            "overflow": null,
            "overflow_x": null,
            "overflow_y": null,
            "padding": null,
            "right": null,
            "top": null,
            "visibility": null,
            "width": null
          }
        },
        "34cea46e2d03443791ed93ef3bdd2981": {
          "model_module": "@jupyter-widgets/base",
          "model_name": "LayoutModel",
          "model_module_version": "1.2.0",
          "state": {
            "_model_module": "@jupyter-widgets/base",
            "_model_module_version": "1.2.0",
            "_model_name": "LayoutModel",
            "_view_count": null,
            "_view_module": "@jupyter-widgets/base",
            "_view_module_version": "1.2.0",
            "_view_name": "LayoutView",
            "align_content": null,
            "align_items": null,
            "align_self": null,
            "border": null,
            "bottom": null,
            "display": null,
            "flex": null,
            "flex_flow": null,
            "grid_area": null,
            "grid_auto_columns": null,
            "grid_auto_flow": null,
            "grid_auto_rows": null,
            "grid_column": null,
            "grid_gap": null,
            "grid_row": null,
            "grid_template_areas": null,
            "grid_template_columns": null,
            "grid_template_rows": null,
            "height": null,
            "justify_content": null,
            "justify_items": null,
            "left": null,
            "margin": null,
            "max_height": null,
            "max_width": null,
            "min_height": null,
            "min_width": null,
            "object_fit": null,
            "object_position": null,
            "order": null,
            "overflow": null,
            "overflow_x": null,
            "overflow_y": null,
            "padding": null,
            "right": null,
            "top": null,
            "visibility": null,
            "width": null
          }
        },
        "25103e4112174ffe9a64649a7746a1c9": {
          "model_module": "@jupyter-widgets/controls",
          "model_name": "DescriptionStyleModel",
          "model_module_version": "1.5.0",
          "state": {
            "_model_module": "@jupyter-widgets/controls",
            "_model_module_version": "1.5.0",
            "_model_name": "DescriptionStyleModel",
            "_view_count": null,
            "_view_module": "@jupyter-widgets/base",
            "_view_module_version": "1.2.0",
            "_view_name": "StyleView",
            "description_width": ""
          }
        },
        "4f83a7e5177d48c4a6c72d0c95b20db7": {
          "model_module": "@jupyter-widgets/base",
          "model_name": "LayoutModel",
          "model_module_version": "1.2.0",
          "state": {
            "_model_module": "@jupyter-widgets/base",
            "_model_module_version": "1.2.0",
            "_model_name": "LayoutModel",
            "_view_count": null,
            "_view_module": "@jupyter-widgets/base",
            "_view_module_version": "1.2.0",
            "_view_name": "LayoutView",
            "align_content": null,
            "align_items": null,
            "align_self": null,
            "border": null,
            "bottom": null,
            "display": null,
            "flex": null,
            "flex_flow": null,
            "grid_area": null,
            "grid_auto_columns": null,
            "grid_auto_flow": null,
            "grid_auto_rows": null,
            "grid_column": null,
            "grid_gap": null,
            "grid_row": null,
            "grid_template_areas": null,
            "grid_template_columns": null,
            "grid_template_rows": null,
            "height": null,
            "justify_content": null,
            "justify_items": null,
            "left": null,
            "margin": null,
            "max_height": null,
            "max_width": null,
            "min_height": null,
            "min_width": null,
            "object_fit": null,
            "object_position": null,
            "order": null,
            "overflow": null,
            "overflow_x": null,
            "overflow_y": null,
            "padding": null,
            "right": null,
            "top": null,
            "visibility": null,
            "width": null
          }
        },
        "81d8b36cda2643fe88b2615ff50ca352": {
          "model_module": "@jupyter-widgets/controls",
          "model_name": "ProgressStyleModel",
          "model_module_version": "1.5.0",
          "state": {
            "_model_module": "@jupyter-widgets/controls",
            "_model_module_version": "1.5.0",
            "_model_name": "ProgressStyleModel",
            "_view_count": null,
            "_view_module": "@jupyter-widgets/base",
            "_view_module_version": "1.2.0",
            "_view_name": "StyleView",
            "bar_color": null,
            "description_width": ""
          }
        },
        "7ca40280860b444cb029b19816d7aa2f": {
          "model_module": "@jupyter-widgets/base",
          "model_name": "LayoutModel",
          "model_module_version": "1.2.0",
          "state": {
            "_model_module": "@jupyter-widgets/base",
            "_model_module_version": "1.2.0",
            "_model_name": "LayoutModel",
            "_view_count": null,
            "_view_module": "@jupyter-widgets/base",
            "_view_module_version": "1.2.0",
            "_view_name": "LayoutView",
            "align_content": null,
            "align_items": null,
            "align_self": null,
            "border": null,
            "bottom": null,
            "display": null,
            "flex": null,
            "flex_flow": null,
            "grid_area": null,
            "grid_auto_columns": null,
            "grid_auto_flow": null,
            "grid_auto_rows": null,
            "grid_column": null,
            "grid_gap": null,
            "grid_row": null,
            "grid_template_areas": null,
            "grid_template_columns": null,
            "grid_template_rows": null,
            "height": null,
            "justify_content": null,
            "justify_items": null,
            "left": null,
            "margin": null,
            "max_height": null,
            "max_width": null,
            "min_height": null,
            "min_width": null,
            "object_fit": null,
            "object_position": null,
            "order": null,
            "overflow": null,
            "overflow_x": null,
            "overflow_y": null,
            "padding": null,
            "right": null,
            "top": null,
            "visibility": null,
            "width": null
          }
        },
        "73392c25fb5c44a2b6b9ba7f1d688702": {
          "model_module": "@jupyter-widgets/controls",
          "model_name": "DescriptionStyleModel",
          "model_module_version": "1.5.0",
          "state": {
            "_model_module": "@jupyter-widgets/controls",
            "_model_module_version": "1.5.0",
            "_model_name": "DescriptionStyleModel",
            "_view_count": null,
            "_view_module": "@jupyter-widgets/base",
            "_view_module_version": "1.2.0",
            "_view_name": "StyleView",
            "description_width": ""
          }
        },
        "6ba04c2c166e4ebabf76ba047e968e8a": {
          "model_module": "@jupyter-widgets/controls",
          "model_name": "HBoxModel",
          "model_module_version": "1.5.0",
          "state": {
            "_dom_classes": [],
            "_model_module": "@jupyter-widgets/controls",
            "_model_module_version": "1.5.0",
            "_model_name": "HBoxModel",
            "_view_count": null,
            "_view_module": "@jupyter-widgets/controls",
            "_view_module_version": "1.5.0",
            "_view_name": "HBoxView",
            "box_style": "",
            "children": [
              "IPY_MODEL_7dcdf52a4acc42d4af644aa84b2e7d1b",
              "IPY_MODEL_63912e2826c04eb98994535ea5222239",
              "IPY_MODEL_39bb0981edf243e8a314387a50ff651f"
            ],
            "layout": "IPY_MODEL_184e6ced2c7546abacd7957f9c47b5bb"
          }
        },
        "7dcdf52a4acc42d4af644aa84b2e7d1b": {
          "model_module": "@jupyter-widgets/controls",
          "model_name": "HTMLModel",
          "model_module_version": "1.5.0",
          "state": {
            "_dom_classes": [],
            "_model_module": "@jupyter-widgets/controls",
            "_model_module_version": "1.5.0",
            "_model_name": "HTMLModel",
            "_view_count": null,
            "_view_module": "@jupyter-widgets/controls",
            "_view_module_version": "1.5.0",
            "_view_name": "HTMLView",
            "description": "",
            "description_tooltip": null,
            "layout": "IPY_MODEL_86e2cfb8bd31445da68fa2d136829c6e",
            "placeholder": "​",
            "style": "IPY_MODEL_3181a5b19ac54f3197298a3394d3ff78",
            "value": "README.md: 100%"
          }
        },
        "63912e2826c04eb98994535ea5222239": {
          "model_module": "@jupyter-widgets/controls",
          "model_name": "FloatProgressModel",
          "model_module_version": "1.5.0",
          "state": {
            "_dom_classes": [],
            "_model_module": "@jupyter-widgets/controls",
            "_model_module_version": "1.5.0",
            "_model_name": "FloatProgressModel",
            "_view_count": null,
            "_view_module": "@jupyter-widgets/controls",
            "_view_module_version": "1.5.0",
            "_view_name": "ProgressView",
            "bar_style": "success",
            "description": "",
            "description_tooltip": null,
            "layout": "IPY_MODEL_77421ed7c1bc432a8cdae8886c2ab150",
            "max": 3896,
            "min": 0,
            "orientation": "horizontal",
            "style": "IPY_MODEL_93f76c21ca114bafaa36fc04542a0686",
            "value": 3896
          }
        },
        "39bb0981edf243e8a314387a50ff651f": {
          "model_module": "@jupyter-widgets/controls",
          "model_name": "HTMLModel",
          "model_module_version": "1.5.0",
          "state": {
            "_dom_classes": [],
            "_model_module": "@jupyter-widgets/controls",
            "_model_module_version": "1.5.0",
            "_model_name": "HTMLModel",
            "_view_count": null,
            "_view_module": "@jupyter-widgets/controls",
            "_view_module_version": "1.5.0",
            "_view_name": "HTMLView",
            "description": "",
            "description_tooltip": null,
            "layout": "IPY_MODEL_bac941bd028848dcbe0744e2979fa10f",
            "placeholder": "​",
            "style": "IPY_MODEL_51b87d2f939b4a0998ddc1534d9503cc",
            "value": " 3.90k/3.90k [00:00&lt;00:00, 214kB/s]"
          }
        },
        "184e6ced2c7546abacd7957f9c47b5bb": {
          "model_module": "@jupyter-widgets/base",
          "model_name": "LayoutModel",
          "model_module_version": "1.2.0",
          "state": {
            "_model_module": "@jupyter-widgets/base",
            "_model_module_version": "1.2.0",
            "_model_name": "LayoutModel",
            "_view_count": null,
            "_view_module": "@jupyter-widgets/base",
            "_view_module_version": "1.2.0",
            "_view_name": "LayoutView",
            "align_content": null,
            "align_items": null,
            "align_self": null,
            "border": null,
            "bottom": null,
            "display": null,
            "flex": null,
            "flex_flow": null,
            "grid_area": null,
            "grid_auto_columns": null,
            "grid_auto_flow": null,
            "grid_auto_rows": null,
            "grid_column": null,
            "grid_gap": null,
            "grid_row": null,
            "grid_template_areas": null,
            "grid_template_columns": null,
            "grid_template_rows": null,
            "height": null,
            "justify_content": null,
            "justify_items": null,
            "left": null,
            "margin": null,
            "max_height": null,
            "max_width": null,
            "min_height": null,
            "min_width": null,
            "object_fit": null,
            "object_position": null,
            "order": null,
            "overflow": null,
            "overflow_x": null,
            "overflow_y": null,
            "padding": null,
            "right": null,
            "top": null,
            "visibility": null,
            "width": null
          }
        },
        "86e2cfb8bd31445da68fa2d136829c6e": {
          "model_module": "@jupyter-widgets/base",
          "model_name": "LayoutModel",
          "model_module_version": "1.2.0",
          "state": {
            "_model_module": "@jupyter-widgets/base",
            "_model_module_version": "1.2.0",
            "_model_name": "LayoutModel",
            "_view_count": null,
            "_view_module": "@jupyter-widgets/base",
            "_view_module_version": "1.2.0",
            "_view_name": "LayoutView",
            "align_content": null,
            "align_items": null,
            "align_self": null,
            "border": null,
            "bottom": null,
            "display": null,
            "flex": null,
            "flex_flow": null,
            "grid_area": null,
            "grid_auto_columns": null,
            "grid_auto_flow": null,
            "grid_auto_rows": null,
            "grid_column": null,
            "grid_gap": null,
            "grid_row": null,
            "grid_template_areas": null,
            "grid_template_columns": null,
            "grid_template_rows": null,
            "height": null,
            "justify_content": null,
            "justify_items": null,
            "left": null,
            "margin": null,
            "max_height": null,
            "max_width": null,
            "min_height": null,
            "min_width": null,
            "object_fit": null,
            "object_position": null,
            "order": null,
            "overflow": null,
            "overflow_x": null,
            "overflow_y": null,
            "padding": null,
            "right": null,
            "top": null,
            "visibility": null,
            "width": null
          }
        },
        "3181a5b19ac54f3197298a3394d3ff78": {
          "model_module": "@jupyter-widgets/controls",
          "model_name": "DescriptionStyleModel",
          "model_module_version": "1.5.0",
          "state": {
            "_model_module": "@jupyter-widgets/controls",
            "_model_module_version": "1.5.0",
            "_model_name": "DescriptionStyleModel",
            "_view_count": null,
            "_view_module": "@jupyter-widgets/base",
            "_view_module_version": "1.2.0",
            "_view_name": "StyleView",
            "description_width": ""
          }
        },
        "77421ed7c1bc432a8cdae8886c2ab150": {
          "model_module": "@jupyter-widgets/base",
          "model_name": "LayoutModel",
          "model_module_version": "1.2.0",
          "state": {
            "_model_module": "@jupyter-widgets/base",
            "_model_module_version": "1.2.0",
            "_model_name": "LayoutModel",
            "_view_count": null,
            "_view_module": "@jupyter-widgets/base",
            "_view_module_version": "1.2.0",
            "_view_name": "LayoutView",
            "align_content": null,
            "align_items": null,
            "align_self": null,
            "border": null,
            "bottom": null,
            "display": null,
            "flex": null,
            "flex_flow": null,
            "grid_area": null,
            "grid_auto_columns": null,
            "grid_auto_flow": null,
            "grid_auto_rows": null,
            "grid_column": null,
            "grid_gap": null,
            "grid_row": null,
            "grid_template_areas": null,
            "grid_template_columns": null,
            "grid_template_rows": null,
            "height": null,
            "justify_content": null,
            "justify_items": null,
            "left": null,
            "margin": null,
            "max_height": null,
            "max_width": null,
            "min_height": null,
            "min_width": null,
            "object_fit": null,
            "object_position": null,
            "order": null,
            "overflow": null,
            "overflow_x": null,
            "overflow_y": null,
            "padding": null,
            "right": null,
            "top": null,
            "visibility": null,
            "width": null
          }
        },
        "93f76c21ca114bafaa36fc04542a0686": {
          "model_module": "@jupyter-widgets/controls",
          "model_name": "ProgressStyleModel",
          "model_module_version": "1.5.0",
          "state": {
            "_model_module": "@jupyter-widgets/controls",
            "_model_module_version": "1.5.0",
            "_model_name": "ProgressStyleModel",
            "_view_count": null,
            "_view_module": "@jupyter-widgets/base",
            "_view_module_version": "1.2.0",
            "_view_name": "StyleView",
            "bar_color": null,
            "description_width": ""
          }
        },
        "bac941bd028848dcbe0744e2979fa10f": {
          "model_module": "@jupyter-widgets/base",
          "model_name": "LayoutModel",
          "model_module_version": "1.2.0",
          "state": {
            "_model_module": "@jupyter-widgets/base",
            "_model_module_version": "1.2.0",
            "_model_name": "LayoutModel",
            "_view_count": null,
            "_view_module": "@jupyter-widgets/base",
            "_view_module_version": "1.2.0",
            "_view_name": "LayoutView",
            "align_content": null,
            "align_items": null,
            "align_self": null,
            "border": null,
            "bottom": null,
            "display": null,
            "flex": null,
            "flex_flow": null,
            "grid_area": null,
            "grid_auto_columns": null,
            "grid_auto_flow": null,
            "grid_auto_rows": null,
            "grid_column": null,
            "grid_gap": null,
            "grid_row": null,
            "grid_template_areas": null,
            "grid_template_columns": null,
            "grid_template_rows": null,
            "height": null,
            "justify_content": null,
            "justify_items": null,
            "left": null,
            "margin": null,
            "max_height": null,
            "max_width": null,
            "min_height": null,
            "min_width": null,
            "object_fit": null,
            "object_position": null,
            "order": null,
            "overflow": null,
            "overflow_x": null,
            "overflow_y": null,
            "padding": null,
            "right": null,
            "top": null,
            "visibility": null,
            "width": null
          }
        },
        "51b87d2f939b4a0998ddc1534d9503cc": {
          "model_module": "@jupyter-widgets/controls",
          "model_name": "DescriptionStyleModel",
          "model_module_version": "1.5.0",
          "state": {
            "_model_module": "@jupyter-widgets/controls",
            "_model_module_version": "1.5.0",
            "_model_name": "DescriptionStyleModel",
            "_view_count": null,
            "_view_module": "@jupyter-widgets/base",
            "_view_module_version": "1.2.0",
            "_view_name": "StyleView",
            "description_width": ""
          }
        },
        "f9f7b652b047422c8ce90a4dc3b6509a": {
          "model_module": "@jupyter-widgets/controls",
          "model_name": "HBoxModel",
          "model_module_version": "1.5.0",
          "state": {
            "_dom_classes": [],
            "_model_module": "@jupyter-widgets/controls",
            "_model_module_version": "1.5.0",
            "_model_name": "HBoxModel",
            "_view_count": null,
            "_view_module": "@jupyter-widgets/controls",
            "_view_module_version": "1.5.0",
            "_view_name": "HBoxView",
            "box_style": "",
            "children": [
              "IPY_MODEL_0f8d4a583dcb45a9b53059b6a95f3905",
              "IPY_MODEL_26878486360249e58e3bd23c740c47f0",
              "IPY_MODEL_d778d2ead69848f89557a11fcf7e0d8f"
            ],
            "layout": "IPY_MODEL_5de020d6241a48569736bf0fe9888bc7"
          }
        },
        "0f8d4a583dcb45a9b53059b6a95f3905": {
          "model_module": "@jupyter-widgets/controls",
          "model_name": "HTMLModel",
          "model_module_version": "1.5.0",
          "state": {
            "_dom_classes": [],
            "_model_module": "@jupyter-widgets/controls",
            "_model_module_version": "1.5.0",
            "_model_name": "HTMLModel",
            "_view_count": null,
            "_view_module": "@jupyter-widgets/controls",
            "_view_module_version": "1.5.0",
            "_view_name": "HTMLView",
            "description": "",
            "description_tooltip": null,
            "layout": "IPY_MODEL_cfecfc7ea3ab4f5badd6557d681d6ce0",
            "placeholder": "​",
            "style": "IPY_MODEL_70e3bfd69c5341ebaf665fd65a597661",
            "value": "sentence_bert_config.json: 100%"
          }
        },
        "26878486360249e58e3bd23c740c47f0": {
          "model_module": "@jupyter-widgets/controls",
          "model_name": "FloatProgressModel",
          "model_module_version": "1.5.0",
          "state": {
            "_dom_classes": [],
            "_model_module": "@jupyter-widgets/controls",
            "_model_module_version": "1.5.0",
            "_model_name": "FloatProgressModel",
            "_view_count": null,
            "_view_module": "@jupyter-widgets/controls",
            "_view_module_version": "1.5.0",
            "_view_name": "ProgressView",
            "bar_style": "success",
            "description": "",
            "description_tooltip": null,
            "layout": "IPY_MODEL_74dc5a227fc64d4f99502d55cef1efc4",
            "max": 53,
            "min": 0,
            "orientation": "horizontal",
            "style": "IPY_MODEL_8abd87e97254443c9e305739ad2a9fba",
            "value": 53
          }
        },
        "d778d2ead69848f89557a11fcf7e0d8f": {
          "model_module": "@jupyter-widgets/controls",
          "model_name": "HTMLModel",
          "model_module_version": "1.5.0",
          "state": {
            "_dom_classes": [],
            "_model_module": "@jupyter-widgets/controls",
            "_model_module_version": "1.5.0",
            "_model_name": "HTMLModel",
            "_view_count": null,
            "_view_module": "@jupyter-widgets/controls",
            "_view_module_version": "1.5.0",
            "_view_name": "HTMLView",
            "description": "",
            "description_tooltip": null,
            "layout": "IPY_MODEL_1d7f368fdfc74514aa492c0d6e7940f5",
            "placeholder": "​",
            "style": "IPY_MODEL_6cbaa46085dd47578345f3195f244df9",
            "value": " 53.0/53.0 [00:00&lt;00:00, 3.77kB/s]"
          }
        },
        "5de020d6241a48569736bf0fe9888bc7": {
          "model_module": "@jupyter-widgets/base",
          "model_name": "LayoutModel",
          "model_module_version": "1.2.0",
          "state": {
            "_model_module": "@jupyter-widgets/base",
            "_model_module_version": "1.2.0",
            "_model_name": "LayoutModel",
            "_view_count": null,
            "_view_module": "@jupyter-widgets/base",
            "_view_module_version": "1.2.0",
            "_view_name": "LayoutView",
            "align_content": null,
            "align_items": null,
            "align_self": null,
            "border": null,
            "bottom": null,
            "display": null,
            "flex": null,
            "flex_flow": null,
            "grid_area": null,
            "grid_auto_columns": null,
            "grid_auto_flow": null,
            "grid_auto_rows": null,
            "grid_column": null,
            "grid_gap": null,
            "grid_row": null,
            "grid_template_areas": null,
            "grid_template_columns": null,
            "grid_template_rows": null,
            "height": null,
            "justify_content": null,
            "justify_items": null,
            "left": null,
            "margin": null,
            "max_height": null,
            "max_width": null,
            "min_height": null,
            "min_width": null,
            "object_fit": null,
            "object_position": null,
            "order": null,
            "overflow": null,
            "overflow_x": null,
            "overflow_y": null,
            "padding": null,
            "right": null,
            "top": null,
            "visibility": null,
            "width": null
          }
        },
        "cfecfc7ea3ab4f5badd6557d681d6ce0": {
          "model_module": "@jupyter-widgets/base",
          "model_name": "LayoutModel",
          "model_module_version": "1.2.0",
          "state": {
            "_model_module": "@jupyter-widgets/base",
            "_model_module_version": "1.2.0",
            "_model_name": "LayoutModel",
            "_view_count": null,
            "_view_module": "@jupyter-widgets/base",
            "_view_module_version": "1.2.0",
            "_view_name": "LayoutView",
            "align_content": null,
            "align_items": null,
            "align_self": null,
            "border": null,
            "bottom": null,
            "display": null,
            "flex": null,
            "flex_flow": null,
            "grid_area": null,
            "grid_auto_columns": null,
            "grid_auto_flow": null,
            "grid_auto_rows": null,
            "grid_column": null,
            "grid_gap": null,
            "grid_row": null,
            "grid_template_areas": null,
            "grid_template_columns": null,
            "grid_template_rows": null,
            "height": null,
            "justify_content": null,
            "justify_items": null,
            "left": null,
            "margin": null,
            "max_height": null,
            "max_width": null,
            "min_height": null,
            "min_width": null,
            "object_fit": null,
            "object_position": null,
            "order": null,
            "overflow": null,
            "overflow_x": null,
            "overflow_y": null,
            "padding": null,
            "right": null,
            "top": null,
            "visibility": null,
            "width": null
          }
        },
        "70e3bfd69c5341ebaf665fd65a597661": {
          "model_module": "@jupyter-widgets/controls",
          "model_name": "DescriptionStyleModel",
          "model_module_version": "1.5.0",
          "state": {
            "_model_module": "@jupyter-widgets/controls",
            "_model_module_version": "1.5.0",
            "_model_name": "DescriptionStyleModel",
            "_view_count": null,
            "_view_module": "@jupyter-widgets/base",
            "_view_module_version": "1.2.0",
            "_view_name": "StyleView",
            "description_width": ""
          }
        },
        "74dc5a227fc64d4f99502d55cef1efc4": {
          "model_module": "@jupyter-widgets/base",
          "model_name": "LayoutModel",
          "model_module_version": "1.2.0",
          "state": {
            "_model_module": "@jupyter-widgets/base",
            "_model_module_version": "1.2.0",
            "_model_name": "LayoutModel",
            "_view_count": null,
            "_view_module": "@jupyter-widgets/base",
            "_view_module_version": "1.2.0",
            "_view_name": "LayoutView",
            "align_content": null,
            "align_items": null,
            "align_self": null,
            "border": null,
            "bottom": null,
            "display": null,
            "flex": null,
            "flex_flow": null,
            "grid_area": null,
            "grid_auto_columns": null,
            "grid_auto_flow": null,
            "grid_auto_rows": null,
            "grid_column": null,
            "grid_gap": null,
            "grid_row": null,
            "grid_template_areas": null,
            "grid_template_columns": null,
            "grid_template_rows": null,
            "height": null,
            "justify_content": null,
            "justify_items": null,
            "left": null,
            "margin": null,
            "max_height": null,
            "max_width": null,
            "min_height": null,
            "min_width": null,
            "object_fit": null,
            "object_position": null,
            "order": null,
            "overflow": null,
            "overflow_x": null,
            "overflow_y": null,
            "padding": null,
            "right": null,
            "top": null,
            "visibility": null,
            "width": null
          }
        },
        "8abd87e97254443c9e305739ad2a9fba": {
          "model_module": "@jupyter-widgets/controls",
          "model_name": "ProgressStyleModel",
          "model_module_version": "1.5.0",
          "state": {
            "_model_module": "@jupyter-widgets/controls",
            "_model_module_version": "1.5.0",
            "_model_name": "ProgressStyleModel",
            "_view_count": null,
            "_view_module": "@jupyter-widgets/base",
            "_view_module_version": "1.2.0",
            "_view_name": "StyleView",
            "bar_color": null,
            "description_width": ""
          }
        },
        "1d7f368fdfc74514aa492c0d6e7940f5": {
          "model_module": "@jupyter-widgets/base",
          "model_name": "LayoutModel",
          "model_module_version": "1.2.0",
          "state": {
            "_model_module": "@jupyter-widgets/base",
            "_model_module_version": "1.2.0",
            "_model_name": "LayoutModel",
            "_view_count": null,
            "_view_module": "@jupyter-widgets/base",
            "_view_module_version": "1.2.0",
            "_view_name": "LayoutView",
            "align_content": null,
            "align_items": null,
            "align_self": null,
            "border": null,
            "bottom": null,
            "display": null,
            "flex": null,
            "flex_flow": null,
            "grid_area": null,
            "grid_auto_columns": null,
            "grid_auto_flow": null,
            "grid_auto_rows": null,
            "grid_column": null,
            "grid_gap": null,
            "grid_row": null,
            "grid_template_areas": null,
            "grid_template_columns": null,
            "grid_template_rows": null,
            "height": null,
            "justify_content": null,
            "justify_items": null,
            "left": null,
            "margin": null,
            "max_height": null,
            "max_width": null,
            "min_height": null,
            "min_width": null,
            "object_fit": null,
            "object_position": null,
            "order": null,
            "overflow": null,
            "overflow_x": null,
            "overflow_y": null,
            "padding": null,
            "right": null,
            "top": null,
            "visibility": null,
            "width": null
          }
        },
        "6cbaa46085dd47578345f3195f244df9": {
          "model_module": "@jupyter-widgets/controls",
          "model_name": "DescriptionStyleModel",
          "model_module_version": "1.5.0",
          "state": {
            "_model_module": "@jupyter-widgets/controls",
            "_model_module_version": "1.5.0",
            "_model_name": "DescriptionStyleModel",
            "_view_count": null,
            "_view_module": "@jupyter-widgets/base",
            "_view_module_version": "1.2.0",
            "_view_name": "StyleView",
            "description_width": ""
          }
        },
        "006f2f9306a74704a69129049ddb21a2": {
          "model_module": "@jupyter-widgets/controls",
          "model_name": "HBoxModel",
          "model_module_version": "1.5.0",
          "state": {
            "_dom_classes": [],
            "_model_module": "@jupyter-widgets/controls",
            "_model_module_version": "1.5.0",
            "_model_name": "HBoxModel",
            "_view_count": null,
            "_view_module": "@jupyter-widgets/controls",
            "_view_module_version": "1.5.0",
            "_view_name": "HBoxView",
            "box_style": "",
            "children": [
              "IPY_MODEL_bca1d5c871244bf0a12c9494779b2385",
              "IPY_MODEL_dec03c78bc944ef19e5e36f7f413b0b2",
              "IPY_MODEL_064e4b4d56864b5c8f17c1d6e7e4dd34"
            ],
            "layout": "IPY_MODEL_c2c8cd43820c43c99e8a4da3b278da49"
          }
        },
        "bca1d5c871244bf0a12c9494779b2385": {
          "model_module": "@jupyter-widgets/controls",
          "model_name": "HTMLModel",
          "model_module_version": "1.5.0",
          "state": {
            "_dom_classes": [],
            "_model_module": "@jupyter-widgets/controls",
            "_model_module_version": "1.5.0",
            "_model_name": "HTMLModel",
            "_view_count": null,
            "_view_module": "@jupyter-widgets/controls",
            "_view_module_version": "1.5.0",
            "_view_name": "HTMLView",
            "description": "",
            "description_tooltip": null,
            "layout": "IPY_MODEL_f7e9d21e35f24af48aa1aca76f4aa41a",
            "placeholder": "​",
            "style": "IPY_MODEL_ab69db4ca84347c4a3a813efe6cfa660",
            "value": "config.json: 100%"
          }
        },
        "dec03c78bc944ef19e5e36f7f413b0b2": {
          "model_module": "@jupyter-widgets/controls",
          "model_name": "FloatProgressModel",
          "model_module_version": "1.5.0",
          "state": {
            "_dom_classes": [],
            "_model_module": "@jupyter-widgets/controls",
            "_model_module_version": "1.5.0",
            "_model_name": "FloatProgressModel",
            "_view_count": null,
            "_view_module": "@jupyter-widgets/controls",
            "_view_module_version": "1.5.0",
            "_view_name": "ProgressView",
            "bar_style": "success",
            "description": "",
            "description_tooltip": null,
            "layout": "IPY_MODEL_05c9f30005434912b412a637acdd670a",
            "max": 723,
            "min": 0,
            "orientation": "horizontal",
            "style": "IPY_MODEL_4c5273eb32884a8192fc48399b4fd622",
            "value": 723
          }
        },
        "064e4b4d56864b5c8f17c1d6e7e4dd34": {
          "model_module": "@jupyter-widgets/controls",
          "model_name": "HTMLModel",
          "model_module_version": "1.5.0",
          "state": {
            "_dom_classes": [],
            "_model_module": "@jupyter-widgets/controls",
            "_model_module_version": "1.5.0",
            "_model_name": "HTMLModel",
            "_view_count": null,
            "_view_module": "@jupyter-widgets/controls",
            "_view_module_version": "1.5.0",
            "_view_name": "HTMLView",
            "description": "",
            "description_tooltip": null,
            "layout": "IPY_MODEL_16dbd634afcf40208f7cd8cf026c9806",
            "placeholder": "​",
            "style": "IPY_MODEL_afb31494436443cb869789b5704ac5af",
            "value": " 723/723 [00:00&lt;00:00, 49.6kB/s]"
          }
        },
        "c2c8cd43820c43c99e8a4da3b278da49": {
          "model_module": "@jupyter-widgets/base",
          "model_name": "LayoutModel",
          "model_module_version": "1.2.0",
          "state": {
            "_model_module": "@jupyter-widgets/base",
            "_model_module_version": "1.2.0",
            "_model_name": "LayoutModel",
            "_view_count": null,
            "_view_module": "@jupyter-widgets/base",
            "_view_module_version": "1.2.0",
            "_view_name": "LayoutView",
            "align_content": null,
            "align_items": null,
            "align_self": null,
            "border": null,
            "bottom": null,
            "display": null,
            "flex": null,
            "flex_flow": null,
            "grid_area": null,
            "grid_auto_columns": null,
            "grid_auto_flow": null,
            "grid_auto_rows": null,
            "grid_column": null,
            "grid_gap": null,
            "grid_row": null,
            "grid_template_areas": null,
            "grid_template_columns": null,
            "grid_template_rows": null,
            "height": null,
            "justify_content": null,
            "justify_items": null,
            "left": null,
            "margin": null,
            "max_height": null,
            "max_width": null,
            "min_height": null,
            "min_width": null,
            "object_fit": null,
            "object_position": null,
            "order": null,
            "overflow": null,
            "overflow_x": null,
            "overflow_y": null,
            "padding": null,
            "right": null,
            "top": null,
            "visibility": null,
            "width": null
          }
        },
        "f7e9d21e35f24af48aa1aca76f4aa41a": {
          "model_module": "@jupyter-widgets/base",
          "model_name": "LayoutModel",
          "model_module_version": "1.2.0",
          "state": {
            "_model_module": "@jupyter-widgets/base",
            "_model_module_version": "1.2.0",
            "_model_name": "LayoutModel",
            "_view_count": null,
            "_view_module": "@jupyter-widgets/base",
            "_view_module_version": "1.2.0",
            "_view_name": "LayoutView",
            "align_content": null,
            "align_items": null,
            "align_self": null,
            "border": null,
            "bottom": null,
            "display": null,
            "flex": null,
            "flex_flow": null,
            "grid_area": null,
            "grid_auto_columns": null,
            "grid_auto_flow": null,
            "grid_auto_rows": null,
            "grid_column": null,
            "grid_gap": null,
            "grid_row": null,
            "grid_template_areas": null,
            "grid_template_columns": null,
            "grid_template_rows": null,
            "height": null,
            "justify_content": null,
            "justify_items": null,
            "left": null,
            "margin": null,
            "max_height": null,
            "max_width": null,
            "min_height": null,
            "min_width": null,
            "object_fit": null,
            "object_position": null,
            "order": null,
            "overflow": null,
            "overflow_x": null,
            "overflow_y": null,
            "padding": null,
            "right": null,
            "top": null,
            "visibility": null,
            "width": null
          }
        },
        "ab69db4ca84347c4a3a813efe6cfa660": {
          "model_module": "@jupyter-widgets/controls",
          "model_name": "DescriptionStyleModel",
          "model_module_version": "1.5.0",
          "state": {
            "_model_module": "@jupyter-widgets/controls",
            "_model_module_version": "1.5.0",
            "_model_name": "DescriptionStyleModel",
            "_view_count": null,
            "_view_module": "@jupyter-widgets/base",
            "_view_module_version": "1.2.0",
            "_view_name": "StyleView",
            "description_width": ""
          }
        },
        "05c9f30005434912b412a637acdd670a": {
          "model_module": "@jupyter-widgets/base",
          "model_name": "LayoutModel",
          "model_module_version": "1.2.0",
          "state": {
            "_model_module": "@jupyter-widgets/base",
            "_model_module_version": "1.2.0",
            "_model_name": "LayoutModel",
            "_view_count": null,
            "_view_module": "@jupyter-widgets/base",
            "_view_module_version": "1.2.0",
            "_view_name": "LayoutView",
            "align_content": null,
            "align_items": null,
            "align_self": null,
            "border": null,
            "bottom": null,
            "display": null,
            "flex": null,
            "flex_flow": null,
            "grid_area": null,
            "grid_auto_columns": null,
            "grid_auto_flow": null,
            "grid_auto_rows": null,
            "grid_column": null,
            "grid_gap": null,
            "grid_row": null,
            "grid_template_areas": null,
            "grid_template_columns": null,
            "grid_template_rows": null,
            "height": null,
            "justify_content": null,
            "justify_items": null,
            "left": null,
            "margin": null,
            "max_height": null,
            "max_width": null,
            "min_height": null,
            "min_width": null,
            "object_fit": null,
            "object_position": null,
            "order": null,
            "overflow": null,
            "overflow_x": null,
            "overflow_y": null,
            "padding": null,
            "right": null,
            "top": null,
            "visibility": null,
            "width": null
          }
        },
        "4c5273eb32884a8192fc48399b4fd622": {
          "model_module": "@jupyter-widgets/controls",
          "model_name": "ProgressStyleModel",
          "model_module_version": "1.5.0",
          "state": {
            "_model_module": "@jupyter-widgets/controls",
            "_model_module_version": "1.5.0",
            "_model_name": "ProgressStyleModel",
            "_view_count": null,
            "_view_module": "@jupyter-widgets/base",
            "_view_module_version": "1.2.0",
            "_view_name": "StyleView",
            "bar_color": null,
            "description_width": ""
          }
        },
        "16dbd634afcf40208f7cd8cf026c9806": {
          "model_module": "@jupyter-widgets/base",
          "model_name": "LayoutModel",
          "model_module_version": "1.2.0",
          "state": {
            "_model_module": "@jupyter-widgets/base",
            "_model_module_version": "1.2.0",
            "_model_name": "LayoutModel",
            "_view_count": null,
            "_view_module": "@jupyter-widgets/base",
            "_view_module_version": "1.2.0",
            "_view_name": "LayoutView",
            "align_content": null,
            "align_items": null,
            "align_self": null,
            "border": null,
            "bottom": null,
            "display": null,
            "flex": null,
            "flex_flow": null,
            "grid_area": null,
            "grid_auto_columns": null,
            "grid_auto_flow": null,
            "grid_auto_rows": null,
            "grid_column": null,
            "grid_gap": null,
            "grid_row": null,
            "grid_template_areas": null,
            "grid_template_columns": null,
            "grid_template_rows": null,
            "height": null,
            "justify_content": null,
            "justify_items": null,
            "left": null,
            "margin": null,
            "max_height": null,
            "max_width": null,
            "min_height": null,
            "min_width": null,
            "object_fit": null,
            "object_position": null,
            "order": null,
            "overflow": null,
            "overflow_x": null,
            "overflow_y": null,
            "padding": null,
            "right": null,
            "top": null,
            "visibility": null,
            "width": null
          }
        },
        "afb31494436443cb869789b5704ac5af": {
          "model_module": "@jupyter-widgets/controls",
          "model_name": "DescriptionStyleModel",
          "model_module_version": "1.5.0",
          "state": {
            "_model_module": "@jupyter-widgets/controls",
            "_model_module_version": "1.5.0",
            "_model_name": "DescriptionStyleModel",
            "_view_count": null,
            "_view_module": "@jupyter-widgets/base",
            "_view_module_version": "1.2.0",
            "_view_name": "StyleView",
            "description_width": ""
          }
        },
        "87c400b5d7584a2a86591def69876b09": {
          "model_module": "@jupyter-widgets/controls",
          "model_name": "HBoxModel",
          "model_module_version": "1.5.0",
          "state": {
            "_dom_classes": [],
            "_model_module": "@jupyter-widgets/controls",
            "_model_module_version": "1.5.0",
            "_model_name": "HBoxModel",
            "_view_count": null,
            "_view_module": "@jupyter-widgets/controls",
            "_view_module_version": "1.5.0",
            "_view_name": "HBoxView",
            "box_style": "",
            "children": [
              "IPY_MODEL_391533573dcf41178da43b57088e2522",
              "IPY_MODEL_3fc2b6ba9e90479e9933130f52cef6e7",
              "IPY_MODEL_ea5daf1eae42481aa14947deac7d19e9"
            ],
            "layout": "IPY_MODEL_7409c6b1b25a41d1889e5eab6a06609a"
          }
        },
        "391533573dcf41178da43b57088e2522": {
          "model_module": "@jupyter-widgets/controls",
          "model_name": "HTMLModel",
          "model_module_version": "1.5.0",
          "state": {
            "_dom_classes": [],
            "_model_module": "@jupyter-widgets/controls",
            "_model_module_version": "1.5.0",
            "_model_name": "HTMLModel",
            "_view_count": null,
            "_view_module": "@jupyter-widgets/controls",
            "_view_module_version": "1.5.0",
            "_view_name": "HTMLView",
            "description": "",
            "description_tooltip": null,
            "layout": "IPY_MODEL_f2be0bce699241fdb4ceff2f3a0ce7b5",
            "placeholder": "​",
            "style": "IPY_MODEL_782f80dc632c41e6a24dfb69a6fca442",
            "value": "model.safetensors: 100%"
          }
        },
        "3fc2b6ba9e90479e9933130f52cef6e7": {
          "model_module": "@jupyter-widgets/controls",
          "model_name": "FloatProgressModel",
          "model_module_version": "1.5.0",
          "state": {
            "_dom_classes": [],
            "_model_module": "@jupyter-widgets/controls",
            "_model_module_version": "1.5.0",
            "_model_name": "FloatProgressModel",
            "_view_count": null,
            "_view_module": "@jupyter-widgets/controls",
            "_view_module_version": "1.5.0",
            "_view_name": "ProgressView",
            "bar_style": "success",
            "description": "",
            "description_tooltip": null,
            "layout": "IPY_MODEL_e836abd854374ea49333c5f09644e783",
            "max": 1112201288,
            "min": 0,
            "orientation": "horizontal",
            "style": "IPY_MODEL_0113b105596d4970a13c5cbc24f9c6fe",
            "value": 1112201288
          }
        },
        "ea5daf1eae42481aa14947deac7d19e9": {
          "model_module": "@jupyter-widgets/controls",
          "model_name": "HTMLModel",
          "model_module_version": "1.5.0",
          "state": {
            "_dom_classes": [],
            "_model_module": "@jupyter-widgets/controls",
            "_model_module_version": "1.5.0",
            "_model_name": "HTMLModel",
            "_view_count": null,
            "_view_module": "@jupyter-widgets/controls",
            "_view_module_version": "1.5.0",
            "_view_name": "HTMLView",
            "description": "",
            "description_tooltip": null,
            "layout": "IPY_MODEL_3b3ce5f72ec24127b4ce0dbd597ecc37",
            "placeholder": "​",
            "style": "IPY_MODEL_38ab3edaedae496781b5039683bd7134",
            "value": " 1.11G/1.11G [00:07&lt;00:00, 178MB/s]"
          }
        },
        "7409c6b1b25a41d1889e5eab6a06609a": {
          "model_module": "@jupyter-widgets/base",
          "model_name": "LayoutModel",
          "model_module_version": "1.2.0",
          "state": {
            "_model_module": "@jupyter-widgets/base",
            "_model_module_version": "1.2.0",
            "_model_name": "LayoutModel",
            "_view_count": null,
            "_view_module": "@jupyter-widgets/base",
            "_view_module_version": "1.2.0",
            "_view_name": "LayoutView",
            "align_content": null,
            "align_items": null,
            "align_self": null,
            "border": null,
            "bottom": null,
            "display": null,
            "flex": null,
            "flex_flow": null,
            "grid_area": null,
            "grid_auto_columns": null,
            "grid_auto_flow": null,
            "grid_auto_rows": null,
            "grid_column": null,
            "grid_gap": null,
            "grid_row": null,
            "grid_template_areas": null,
            "grid_template_columns": null,
            "grid_template_rows": null,
            "height": null,
            "justify_content": null,
            "justify_items": null,
            "left": null,
            "margin": null,
            "max_height": null,
            "max_width": null,
            "min_height": null,
            "min_width": null,
            "object_fit": null,
            "object_position": null,
            "order": null,
            "overflow": null,
            "overflow_x": null,
            "overflow_y": null,
            "padding": null,
            "right": null,
            "top": null,
            "visibility": null,
            "width": null
          }
        },
        "f2be0bce699241fdb4ceff2f3a0ce7b5": {
          "model_module": "@jupyter-widgets/base",
          "model_name": "LayoutModel",
          "model_module_version": "1.2.0",
          "state": {
            "_model_module": "@jupyter-widgets/base",
            "_model_module_version": "1.2.0",
            "_model_name": "LayoutModel",
            "_view_count": null,
            "_view_module": "@jupyter-widgets/base",
            "_view_module_version": "1.2.0",
            "_view_name": "LayoutView",
            "align_content": null,
            "align_items": null,
            "align_self": null,
            "border": null,
            "bottom": null,
            "display": null,
            "flex": null,
            "flex_flow": null,
            "grid_area": null,
            "grid_auto_columns": null,
            "grid_auto_flow": null,
            "grid_auto_rows": null,
            "grid_column": null,
            "grid_gap": null,
            "grid_row": null,
            "grid_template_areas": null,
            "grid_template_columns": null,
            "grid_template_rows": null,
            "height": null,
            "justify_content": null,
            "justify_items": null,
            "left": null,
            "margin": null,
            "max_height": null,
            "max_width": null,
            "min_height": null,
            "min_width": null,
            "object_fit": null,
            "object_position": null,
            "order": null,
            "overflow": null,
            "overflow_x": null,
            "overflow_y": null,
            "padding": null,
            "right": null,
            "top": null,
            "visibility": null,
            "width": null
          }
        },
        "782f80dc632c41e6a24dfb69a6fca442": {
          "model_module": "@jupyter-widgets/controls",
          "model_name": "DescriptionStyleModel",
          "model_module_version": "1.5.0",
          "state": {
            "_model_module": "@jupyter-widgets/controls",
            "_model_module_version": "1.5.0",
            "_model_name": "DescriptionStyleModel",
            "_view_count": null,
            "_view_module": "@jupyter-widgets/base",
            "_view_module_version": "1.2.0",
            "_view_name": "StyleView",
            "description_width": ""
          }
        },
        "e836abd854374ea49333c5f09644e783": {
          "model_module": "@jupyter-widgets/base",
          "model_name": "LayoutModel",
          "model_module_version": "1.2.0",
          "state": {
            "_model_module": "@jupyter-widgets/base",
            "_model_module_version": "1.2.0",
            "_model_name": "LayoutModel",
            "_view_count": null,
            "_view_module": "@jupyter-widgets/base",
            "_view_module_version": "1.2.0",
            "_view_name": "LayoutView",
            "align_content": null,
            "align_items": null,
            "align_self": null,
            "border": null,
            "bottom": null,
            "display": null,
            "flex": null,
            "flex_flow": null,
            "grid_area": null,
            "grid_auto_columns": null,
            "grid_auto_flow": null,
            "grid_auto_rows": null,
            "grid_column": null,
            "grid_gap": null,
            "grid_row": null,
            "grid_template_areas": null,
            "grid_template_columns": null,
            "grid_template_rows": null,
            "height": null,
            "justify_content": null,
            "justify_items": null,
            "left": null,
            "margin": null,
            "max_height": null,
            "max_width": null,
            "min_height": null,
            "min_width": null,
            "object_fit": null,
            "object_position": null,
            "order": null,
            "overflow": null,
            "overflow_x": null,
            "overflow_y": null,
            "padding": null,
            "right": null,
            "top": null,
            "visibility": null,
            "width": null
          }
        },
        "0113b105596d4970a13c5cbc24f9c6fe": {
          "model_module": "@jupyter-widgets/controls",
          "model_name": "ProgressStyleModel",
          "model_module_version": "1.5.0",
          "state": {
            "_model_module": "@jupyter-widgets/controls",
            "_model_module_version": "1.5.0",
            "_model_name": "ProgressStyleModel",
            "_view_count": null,
            "_view_module": "@jupyter-widgets/base",
            "_view_module_version": "1.2.0",
            "_view_name": "StyleView",
            "bar_color": null,
            "description_width": ""
          }
        },
        "3b3ce5f72ec24127b4ce0dbd597ecc37": {
          "model_module": "@jupyter-widgets/base",
          "model_name": "LayoutModel",
          "model_module_version": "1.2.0",
          "state": {
            "_model_module": "@jupyter-widgets/base",
            "_model_module_version": "1.2.0",
            "_model_name": "LayoutModel",
            "_view_count": null,
            "_view_module": "@jupyter-widgets/base",
            "_view_module_version": "1.2.0",
            "_view_name": "LayoutView",
            "align_content": null,
            "align_items": null,
            "align_self": null,
            "border": null,
            "bottom": null,
            "display": null,
            "flex": null,
            "flex_flow": null,
            "grid_area": null,
            "grid_auto_columns": null,
            "grid_auto_flow": null,
            "grid_auto_rows": null,
            "grid_column": null,
            "grid_gap": null,
            "grid_row": null,
            "grid_template_areas": null,
            "grid_template_columns": null,
            "grid_template_rows": null,
            "height": null,
            "justify_content": null,
            "justify_items": null,
            "left": null,
            "margin": null,
            "max_height": null,
            "max_width": null,
            "min_height": null,
            "min_width": null,
            "object_fit": null,
            "object_position": null,
            "order": null,
            "overflow": null,
            "overflow_x": null,
            "overflow_y": null,
            "padding": null,
            "right": null,
            "top": null,
            "visibility": null,
            "width": null
          }
        },
        "38ab3edaedae496781b5039683bd7134": {
          "model_module": "@jupyter-widgets/controls",
          "model_name": "DescriptionStyleModel",
          "model_module_version": "1.5.0",
          "state": {
            "_model_module": "@jupyter-widgets/controls",
            "_model_module_version": "1.5.0",
            "_model_name": "DescriptionStyleModel",
            "_view_count": null,
            "_view_module": "@jupyter-widgets/base",
            "_view_module_version": "1.2.0",
            "_view_name": "StyleView",
            "description_width": ""
          }
        },
        "e71db8c203f0423f853dd6344c5328fc": {
          "model_module": "@jupyter-widgets/controls",
          "model_name": "HBoxModel",
          "model_module_version": "1.5.0",
          "state": {
            "_dom_classes": [],
            "_model_module": "@jupyter-widgets/controls",
            "_model_module_version": "1.5.0",
            "_model_name": "HBoxModel",
            "_view_count": null,
            "_view_module": "@jupyter-widgets/controls",
            "_view_module_version": "1.5.0",
            "_view_name": "HBoxView",
            "box_style": "",
            "children": [
              "IPY_MODEL_11f70f9b7d884fbabdac1cbc3e25ee6b",
              "IPY_MODEL_514d4ad5386a4e7dbf5166aa5f112553",
              "IPY_MODEL_213b266e4af44e46b0964784f97e5f80"
            ],
            "layout": "IPY_MODEL_7e8da4615511499c969c5e3d405fb147"
          }
        },
        "11f70f9b7d884fbabdac1cbc3e25ee6b": {
          "model_module": "@jupyter-widgets/controls",
          "model_name": "HTMLModel",
          "model_module_version": "1.5.0",
          "state": {
            "_dom_classes": [],
            "_model_module": "@jupyter-widgets/controls",
            "_model_module_version": "1.5.0",
            "_model_name": "HTMLModel",
            "_view_count": null,
            "_view_module": "@jupyter-widgets/controls",
            "_view_module_version": "1.5.0",
            "_view_name": "HTMLView",
            "description": "",
            "description_tooltip": null,
            "layout": "IPY_MODEL_bc9257236bae4579977045deb2b354d5",
            "placeholder": "​",
            "style": "IPY_MODEL_39c0ab12fea9457fbdebff7bc614839c",
            "value": "tokenizer_config.json: 100%"
          }
        },
        "514d4ad5386a4e7dbf5166aa5f112553": {
          "model_module": "@jupyter-widgets/controls",
          "model_name": "FloatProgressModel",
          "model_module_version": "1.5.0",
          "state": {
            "_dom_classes": [],
            "_model_module": "@jupyter-widgets/controls",
            "_model_module_version": "1.5.0",
            "_model_name": "FloatProgressModel",
            "_view_count": null,
            "_view_module": "@jupyter-widgets/controls",
            "_view_module_version": "1.5.0",
            "_view_name": "ProgressView",
            "bar_style": "success",
            "description": "",
            "description_tooltip": null,
            "layout": "IPY_MODEL_64c2bb2870434bbfa74f4b74def883b1",
            "max": 402,
            "min": 0,
            "orientation": "horizontal",
            "style": "IPY_MODEL_91728038bdb04f1e844e7dc2cd458703",
            "value": 402
          }
        },
        "213b266e4af44e46b0964784f97e5f80": {
          "model_module": "@jupyter-widgets/controls",
          "model_name": "HTMLModel",
          "model_module_version": "1.5.0",
          "state": {
            "_dom_classes": [],
            "_model_module": "@jupyter-widgets/controls",
            "_model_module_version": "1.5.0",
            "_model_name": "HTMLModel",
            "_view_count": null,
            "_view_module": "@jupyter-widgets/controls",
            "_view_module_version": "1.5.0",
            "_view_name": "HTMLView",
            "description": "",
            "description_tooltip": null,
            "layout": "IPY_MODEL_be78b74626864cdcae5b1875f969402f",
            "placeholder": "​",
            "style": "IPY_MODEL_5e8209d2cf8d48dfb55eae9b7ca7ec7e",
            "value": " 402/402 [00:00&lt;00:00, 26.7kB/s]"
          }
        },
        "7e8da4615511499c969c5e3d405fb147": {
          "model_module": "@jupyter-widgets/base",
          "model_name": "LayoutModel",
          "model_module_version": "1.2.0",
          "state": {
            "_model_module": "@jupyter-widgets/base",
            "_model_module_version": "1.2.0",
            "_model_name": "LayoutModel",
            "_view_count": null,
            "_view_module": "@jupyter-widgets/base",
            "_view_module_version": "1.2.0",
            "_view_name": "LayoutView",
            "align_content": null,
            "align_items": null,
            "align_self": null,
            "border": null,
            "bottom": null,
            "display": null,
            "flex": null,
            "flex_flow": null,
            "grid_area": null,
            "grid_auto_columns": null,
            "grid_auto_flow": null,
            "grid_auto_rows": null,
            "grid_column": null,
            "grid_gap": null,
            "grid_row": null,
            "grid_template_areas": null,
            "grid_template_columns": null,
            "grid_template_rows": null,
            "height": null,
            "justify_content": null,
            "justify_items": null,
            "left": null,
            "margin": null,
            "max_height": null,
            "max_width": null,
            "min_height": null,
            "min_width": null,
            "object_fit": null,
            "object_position": null,
            "order": null,
            "overflow": null,
            "overflow_x": null,
            "overflow_y": null,
            "padding": null,
            "right": null,
            "top": null,
            "visibility": null,
            "width": null
          }
        },
        "bc9257236bae4579977045deb2b354d5": {
          "model_module": "@jupyter-widgets/base",
          "model_name": "LayoutModel",
          "model_module_version": "1.2.0",
          "state": {
            "_model_module": "@jupyter-widgets/base",
            "_model_module_version": "1.2.0",
            "_model_name": "LayoutModel",
            "_view_count": null,
            "_view_module": "@jupyter-widgets/base",
            "_view_module_version": "1.2.0",
            "_view_name": "LayoutView",
            "align_content": null,
            "align_items": null,
            "align_self": null,
            "border": null,
            "bottom": null,
            "display": null,
            "flex": null,
            "flex_flow": null,
            "grid_area": null,
            "grid_auto_columns": null,
            "grid_auto_flow": null,
            "grid_auto_rows": null,
            "grid_column": null,
            "grid_gap": null,
            "grid_row": null,
            "grid_template_areas": null,
            "grid_template_columns": null,
            "grid_template_rows": null,
            "height": null,
            "justify_content": null,
            "justify_items": null,
            "left": null,
            "margin": null,
            "max_height": null,
            "max_width": null,
            "min_height": null,
            "min_width": null,
            "object_fit": null,
            "object_position": null,
            "order": null,
            "overflow": null,
            "overflow_x": null,
            "overflow_y": null,
            "padding": null,
            "right": null,
            "top": null,
            "visibility": null,
            "width": null
          }
        },
        "39c0ab12fea9457fbdebff7bc614839c": {
          "model_module": "@jupyter-widgets/controls",
          "model_name": "DescriptionStyleModel",
          "model_module_version": "1.5.0",
          "state": {
            "_model_module": "@jupyter-widgets/controls",
            "_model_module_version": "1.5.0",
            "_model_name": "DescriptionStyleModel",
            "_view_count": null,
            "_view_module": "@jupyter-widgets/base",
            "_view_module_version": "1.2.0",
            "_view_name": "StyleView",
            "description_width": ""
          }
        },
        "64c2bb2870434bbfa74f4b74def883b1": {
          "model_module": "@jupyter-widgets/base",
          "model_name": "LayoutModel",
          "model_module_version": "1.2.0",
          "state": {
            "_model_module": "@jupyter-widgets/base",
            "_model_module_version": "1.2.0",
            "_model_name": "LayoutModel",
            "_view_count": null,
            "_view_module": "@jupyter-widgets/base",
            "_view_module_version": "1.2.0",
            "_view_name": "LayoutView",
            "align_content": null,
            "align_items": null,
            "align_self": null,
            "border": null,
            "bottom": null,
            "display": null,
            "flex": null,
            "flex_flow": null,
            "grid_area": null,
            "grid_auto_columns": null,
            "grid_auto_flow": null,
            "grid_auto_rows": null,
            "grid_column": null,
            "grid_gap": null,
            "grid_row": null,
            "grid_template_areas": null,
            "grid_template_columns": null,
            "grid_template_rows": null,
            "height": null,
            "justify_content": null,
            "justify_items": null,
            "left": null,
            "margin": null,
            "max_height": null,
            "max_width": null,
            "min_height": null,
            "min_width": null,
            "object_fit": null,
            "object_position": null,
            "order": null,
            "overflow": null,
            "overflow_x": null,
            "overflow_y": null,
            "padding": null,
            "right": null,
            "top": null,
            "visibility": null,
            "width": null
          }
        },
        "91728038bdb04f1e844e7dc2cd458703": {
          "model_module": "@jupyter-widgets/controls",
          "model_name": "ProgressStyleModel",
          "model_module_version": "1.5.0",
          "state": {
            "_model_module": "@jupyter-widgets/controls",
            "_model_module_version": "1.5.0",
            "_model_name": "ProgressStyleModel",
            "_view_count": null,
            "_view_module": "@jupyter-widgets/base",
            "_view_module_version": "1.2.0",
            "_view_name": "StyleView",
            "bar_color": null,
            "description_width": ""
          }
        },
        "be78b74626864cdcae5b1875f969402f": {
          "model_module": "@jupyter-widgets/base",
          "model_name": "LayoutModel",
          "model_module_version": "1.2.0",
          "state": {
            "_model_module": "@jupyter-widgets/base",
            "_model_module_version": "1.2.0",
            "_model_name": "LayoutModel",
            "_view_count": null,
            "_view_module": "@jupyter-widgets/base",
            "_view_module_version": "1.2.0",
            "_view_name": "LayoutView",
            "align_content": null,
            "align_items": null,
            "align_self": null,
            "border": null,
            "bottom": null,
            "display": null,
            "flex": null,
            "flex_flow": null,
            "grid_area": null,
            "grid_auto_columns": null,
            "grid_auto_flow": null,
            "grid_auto_rows": null,
            "grid_column": null,
            "grid_gap": null,
            "grid_row": null,
            "grid_template_areas": null,
            "grid_template_columns": null,
            "grid_template_rows": null,
            "height": null,
            "justify_content": null,
            "justify_items": null,
            "left": null,
            "margin": null,
            "max_height": null,
            "max_width": null,
            "min_height": null,
            "min_width": null,
            "object_fit": null,
            "object_position": null,
            "order": null,
            "overflow": null,
            "overflow_x": null,
            "overflow_y": null,
            "padding": null,
            "right": null,
            "top": null,
            "visibility": null,
            "width": null
          }
        },
        "5e8209d2cf8d48dfb55eae9b7ca7ec7e": {
          "model_module": "@jupyter-widgets/controls",
          "model_name": "DescriptionStyleModel",
          "model_module_version": "1.5.0",
          "state": {
            "_model_module": "@jupyter-widgets/controls",
            "_model_module_version": "1.5.0",
            "_model_name": "DescriptionStyleModel",
            "_view_count": null,
            "_view_module": "@jupyter-widgets/base",
            "_view_module_version": "1.2.0",
            "_view_name": "StyleView",
            "description_width": ""
          }
        },
        "7af688726c064311b957efe030240d9d": {
          "model_module": "@jupyter-widgets/controls",
          "model_name": "HBoxModel",
          "model_module_version": "1.5.0",
          "state": {
            "_dom_classes": [],
            "_model_module": "@jupyter-widgets/controls",
            "_model_module_version": "1.5.0",
            "_model_name": "HBoxModel",
            "_view_count": null,
            "_view_module": "@jupyter-widgets/controls",
            "_view_module_version": "1.5.0",
            "_view_name": "HBoxView",
            "box_style": "",
            "children": [
              "IPY_MODEL_130d37035b0c45309cd8601eb4fdc293",
              "IPY_MODEL_41a80566955e4ffaa1ee5240180b9452",
              "IPY_MODEL_1fc6e098547245e591c85602d2d4a81e"
            ],
            "layout": "IPY_MODEL_2673e12221414d4495d6ad1cf0097f7c"
          }
        },
        "130d37035b0c45309cd8601eb4fdc293": {
          "model_module": "@jupyter-widgets/controls",
          "model_name": "HTMLModel",
          "model_module_version": "1.5.0",
          "state": {
            "_dom_classes": [],
            "_model_module": "@jupyter-widgets/controls",
            "_model_module_version": "1.5.0",
            "_model_name": "HTMLModel",
            "_view_count": null,
            "_view_module": "@jupyter-widgets/controls",
            "_view_module_version": "1.5.0",
            "_view_name": "HTMLView",
            "description": "",
            "description_tooltip": null,
            "layout": "IPY_MODEL_4bec1b9d6f23452788bf143ee49c7201",
            "placeholder": "​",
            "style": "IPY_MODEL_26199db5e48a4858a9b3efdf4e8cefe2",
            "value": "sentencepiece.bpe.model: 100%"
          }
        },
        "41a80566955e4ffaa1ee5240180b9452": {
          "model_module": "@jupyter-widgets/controls",
          "model_name": "FloatProgressModel",
          "model_module_version": "1.5.0",
          "state": {
            "_dom_classes": [],
            "_model_module": "@jupyter-widgets/controls",
            "_model_module_version": "1.5.0",
            "_model_name": "FloatProgressModel",
            "_view_count": null,
            "_view_module": "@jupyter-widgets/controls",
            "_view_module_version": "1.5.0",
            "_view_name": "ProgressView",
            "bar_style": "success",
            "description": "",
            "description_tooltip": null,
            "layout": "IPY_MODEL_315e554243784818b64a8ed2c2102104",
            "max": 5069051,
            "min": 0,
            "orientation": "horizontal",
            "style": "IPY_MODEL_ab002073935940edb1366fa2d679cd3d",
            "value": 5069051
          }
        },
        "1fc6e098547245e591c85602d2d4a81e": {
          "model_module": "@jupyter-widgets/controls",
          "model_name": "HTMLModel",
          "model_module_version": "1.5.0",
          "state": {
            "_dom_classes": [],
            "_model_module": "@jupyter-widgets/controls",
            "_model_module_version": "1.5.0",
            "_model_name": "HTMLModel",
            "_view_count": null,
            "_view_module": "@jupyter-widgets/controls",
            "_view_module_version": "1.5.0",
            "_view_name": "HTMLView",
            "description": "",
            "description_tooltip": null,
            "layout": "IPY_MODEL_83549f96787d42e0bc313d9cfe7a3605",
            "placeholder": "​",
            "style": "IPY_MODEL_c17959b636b948ab97e4dbeae6d7f2fa",
            "value": " 5.07M/5.07M [00:00&lt;00:00, 121MB/s]"
          }
        },
        "2673e12221414d4495d6ad1cf0097f7c": {
          "model_module": "@jupyter-widgets/base",
          "model_name": "LayoutModel",
          "model_module_version": "1.2.0",
          "state": {
            "_model_module": "@jupyter-widgets/base",
            "_model_module_version": "1.2.0",
            "_model_name": "LayoutModel",
            "_view_count": null,
            "_view_module": "@jupyter-widgets/base",
            "_view_module_version": "1.2.0",
            "_view_name": "LayoutView",
            "align_content": null,
            "align_items": null,
            "align_self": null,
            "border": null,
            "bottom": null,
            "display": null,
            "flex": null,
            "flex_flow": null,
            "grid_area": null,
            "grid_auto_columns": null,
            "grid_auto_flow": null,
            "grid_auto_rows": null,
            "grid_column": null,
            "grid_gap": null,
            "grid_row": null,
            "grid_template_areas": null,
            "grid_template_columns": null,
            "grid_template_rows": null,
            "height": null,
            "justify_content": null,
            "justify_items": null,
            "left": null,
            "margin": null,
            "max_height": null,
            "max_width": null,
            "min_height": null,
            "min_width": null,
            "object_fit": null,
            "object_position": null,
            "order": null,
            "overflow": null,
            "overflow_x": null,
            "overflow_y": null,
            "padding": null,
            "right": null,
            "top": null,
            "visibility": null,
            "width": null
          }
        },
        "4bec1b9d6f23452788bf143ee49c7201": {
          "model_module": "@jupyter-widgets/base",
          "model_name": "LayoutModel",
          "model_module_version": "1.2.0",
          "state": {
            "_model_module": "@jupyter-widgets/base",
            "_model_module_version": "1.2.0",
            "_model_name": "LayoutModel",
            "_view_count": null,
            "_view_module": "@jupyter-widgets/base",
            "_view_module_version": "1.2.0",
            "_view_name": "LayoutView",
            "align_content": null,
            "align_items": null,
            "align_self": null,
            "border": null,
            "bottom": null,
            "display": null,
            "flex": null,
            "flex_flow": null,
            "grid_area": null,
            "grid_auto_columns": null,
            "grid_auto_flow": null,
            "grid_auto_rows": null,
            "grid_column": null,
            "grid_gap": null,
            "grid_row": null,
            "grid_template_areas": null,
            "grid_template_columns": null,
            "grid_template_rows": null,
            "height": null,
            "justify_content": null,
            "justify_items": null,
            "left": null,
            "margin": null,
            "max_height": null,
            "max_width": null,
            "min_height": null,
            "min_width": null,
            "object_fit": null,
            "object_position": null,
            "order": null,
            "overflow": null,
            "overflow_x": null,
            "overflow_y": null,
            "padding": null,
            "right": null,
            "top": null,
            "visibility": null,
            "width": null
          }
        },
        "26199db5e48a4858a9b3efdf4e8cefe2": {
          "model_module": "@jupyter-widgets/controls",
          "model_name": "DescriptionStyleModel",
          "model_module_version": "1.5.0",
          "state": {
            "_model_module": "@jupyter-widgets/controls",
            "_model_module_version": "1.5.0",
            "_model_name": "DescriptionStyleModel",
            "_view_count": null,
            "_view_module": "@jupyter-widgets/base",
            "_view_module_version": "1.2.0",
            "_view_name": "StyleView",
            "description_width": ""
          }
        },
        "315e554243784818b64a8ed2c2102104": {
          "model_module": "@jupyter-widgets/base",
          "model_name": "LayoutModel",
          "model_module_version": "1.2.0",
          "state": {
            "_model_module": "@jupyter-widgets/base",
            "_model_module_version": "1.2.0",
            "_model_name": "LayoutModel",
            "_view_count": null,
            "_view_module": "@jupyter-widgets/base",
            "_view_module_version": "1.2.0",
            "_view_name": "LayoutView",
            "align_content": null,
            "align_items": null,
            "align_self": null,
            "border": null,
            "bottom": null,
            "display": null,
            "flex": null,
            "flex_flow": null,
            "grid_area": null,
            "grid_auto_columns": null,
            "grid_auto_flow": null,
            "grid_auto_rows": null,
            "grid_column": null,
            "grid_gap": null,
            "grid_row": null,
            "grid_template_areas": null,
            "grid_template_columns": null,
            "grid_template_rows": null,
            "height": null,
            "justify_content": null,
            "justify_items": null,
            "left": null,
            "margin": null,
            "max_height": null,
            "max_width": null,
            "min_height": null,
            "min_width": null,
            "object_fit": null,
            "object_position": null,
            "order": null,
            "overflow": null,
            "overflow_x": null,
            "overflow_y": null,
            "padding": null,
            "right": null,
            "top": null,
            "visibility": null,
            "width": null
          }
        },
        "ab002073935940edb1366fa2d679cd3d": {
          "model_module": "@jupyter-widgets/controls",
          "model_name": "ProgressStyleModel",
          "model_module_version": "1.5.0",
          "state": {
            "_model_module": "@jupyter-widgets/controls",
            "_model_module_version": "1.5.0",
            "_model_name": "ProgressStyleModel",
            "_view_count": null,
            "_view_module": "@jupyter-widgets/base",
            "_view_module_version": "1.2.0",
            "_view_name": "StyleView",
            "bar_color": null,
            "description_width": ""
          }
        },
        "83549f96787d42e0bc313d9cfe7a3605": {
          "model_module": "@jupyter-widgets/base",
          "model_name": "LayoutModel",
          "model_module_version": "1.2.0",
          "state": {
            "_model_module": "@jupyter-widgets/base",
            "_model_module_version": "1.2.0",
            "_model_name": "LayoutModel",
            "_view_count": null,
            "_view_module": "@jupyter-widgets/base",
            "_view_module_version": "1.2.0",
            "_view_name": "LayoutView",
            "align_content": null,
            "align_items": null,
            "align_self": null,
            "border": null,
            "bottom": null,
            "display": null,
            "flex": null,
            "flex_flow": null,
            "grid_area": null,
            "grid_auto_columns": null,
            "grid_auto_flow": null,
            "grid_auto_rows": null,
            "grid_column": null,
            "grid_gap": null,
            "grid_row": null,
            "grid_template_areas": null,
            "grid_template_columns": null,
            "grid_template_rows": null,
            "height": null,
            "justify_content": null,
            "justify_items": null,
            "left": null,
            "margin": null,
            "max_height": null,
            "max_width": null,
            "min_height": null,
            "min_width": null,
            "object_fit": null,
            "object_position": null,
            "order": null,
            "overflow": null,
            "overflow_x": null,
            "overflow_y": null,
            "padding": null,
            "right": null,
            "top": null,
            "visibility": null,
            "width": null
          }
        },
        "c17959b636b948ab97e4dbeae6d7f2fa": {
          "model_module": "@jupyter-widgets/controls",
          "model_name": "DescriptionStyleModel",
          "model_module_version": "1.5.0",
          "state": {
            "_model_module": "@jupyter-widgets/controls",
            "_model_module_version": "1.5.0",
            "_model_name": "DescriptionStyleModel",
            "_view_count": null,
            "_view_module": "@jupyter-widgets/base",
            "_view_module_version": "1.2.0",
            "_view_name": "StyleView",
            "description_width": ""
          }
        },
        "2c6ea60aa59147a3889e9841fe189d04": {
          "model_module": "@jupyter-widgets/controls",
          "model_name": "HBoxModel",
          "model_module_version": "1.5.0",
          "state": {
            "_dom_classes": [],
            "_model_module": "@jupyter-widgets/controls",
            "_model_module_version": "1.5.0",
            "_model_name": "HBoxModel",
            "_view_count": null,
            "_view_module": "@jupyter-widgets/controls",
            "_view_module_version": "1.5.0",
            "_view_name": "HBoxView",
            "box_style": "",
            "children": [
              "IPY_MODEL_e7a2109391314010a0fbe3050d09a50b",
              "IPY_MODEL_60192b33cc324656888d802c6738c171",
              "IPY_MODEL_873f23c75f8e41fda1521d0e4d94fc98"
            ],
            "layout": "IPY_MODEL_37be242c960044f78a60158a9dee9c6a"
          }
        },
        "e7a2109391314010a0fbe3050d09a50b": {
          "model_module": "@jupyter-widgets/controls",
          "model_name": "HTMLModel",
          "model_module_version": "1.5.0",
          "state": {
            "_dom_classes": [],
            "_model_module": "@jupyter-widgets/controls",
            "_model_module_version": "1.5.0",
            "_model_name": "HTMLModel",
            "_view_count": null,
            "_view_module": "@jupyter-widgets/controls",
            "_view_module_version": "1.5.0",
            "_view_name": "HTMLView",
            "description": "",
            "description_tooltip": null,
            "layout": "IPY_MODEL_ecbd44ba4f9b46369af58f7f7de7f416",
            "placeholder": "​",
            "style": "IPY_MODEL_23786cd7e4794f23a771aa2374224dae",
            "value": "tokenizer.json: 100%"
          }
        },
        "60192b33cc324656888d802c6738c171": {
          "model_module": "@jupyter-widgets/controls",
          "model_name": "FloatProgressModel",
          "model_module_version": "1.5.0",
          "state": {
            "_dom_classes": [],
            "_model_module": "@jupyter-widgets/controls",
            "_model_module_version": "1.5.0",
            "_model_name": "FloatProgressModel",
            "_view_count": null,
            "_view_module": "@jupyter-widgets/controls",
            "_view_module_version": "1.5.0",
            "_view_name": "ProgressView",
            "bar_style": "success",
            "description": "",
            "description_tooltip": null,
            "layout": "IPY_MODEL_ce1c5cab74c449b18920a78ed28d8e6b",
            "max": 9081518,
            "min": 0,
            "orientation": "horizontal",
            "style": "IPY_MODEL_dba1e144b38344f7b20ff6435dadadb3",
            "value": 9081518
          }
        },
        "873f23c75f8e41fda1521d0e4d94fc98": {
          "model_module": "@jupyter-widgets/controls",
          "model_name": "HTMLModel",
          "model_module_version": "1.5.0",
          "state": {
            "_dom_classes": [],
            "_model_module": "@jupyter-widgets/controls",
            "_model_module_version": "1.5.0",
            "_model_name": "HTMLModel",
            "_view_count": null,
            "_view_module": "@jupyter-widgets/controls",
            "_view_module_version": "1.5.0",
            "_view_name": "HTMLView",
            "description": "",
            "description_tooltip": null,
            "layout": "IPY_MODEL_4b880a2aba394592b88c2910e3b338f8",
            "placeholder": "​",
            "style": "IPY_MODEL_8c0d9739acc04286bca8693cab5cc53d",
            "value": " 9.08M/9.08M [00:00&lt;00:00, 42.1MB/s]"
          }
        },
        "37be242c960044f78a60158a9dee9c6a": {
          "model_module": "@jupyter-widgets/base",
          "model_name": "LayoutModel",
          "model_module_version": "1.2.0",
          "state": {
            "_model_module": "@jupyter-widgets/base",
            "_model_module_version": "1.2.0",
            "_model_name": "LayoutModel",
            "_view_count": null,
            "_view_module": "@jupyter-widgets/base",
            "_view_module_version": "1.2.0",
            "_view_name": "LayoutView",
            "align_content": null,
            "align_items": null,
            "align_self": null,
            "border": null,
            "bottom": null,
            "display": null,
            "flex": null,
            "flex_flow": null,
            "grid_area": null,
            "grid_auto_columns": null,
            "grid_auto_flow": null,
            "grid_auto_rows": null,
            "grid_column": null,
            "grid_gap": null,
            "grid_row": null,
            "grid_template_areas": null,
            "grid_template_columns": null,
            "grid_template_rows": null,
            "height": null,
            "justify_content": null,
            "justify_items": null,
            "left": null,
            "margin": null,
            "max_height": null,
            "max_width": null,
            "min_height": null,
            "min_width": null,
            "object_fit": null,
            "object_position": null,
            "order": null,
            "overflow": null,
            "overflow_x": null,
            "overflow_y": null,
            "padding": null,
            "right": null,
            "top": null,
            "visibility": null,
            "width": null
          }
        },
        "ecbd44ba4f9b46369af58f7f7de7f416": {
          "model_module": "@jupyter-widgets/base",
          "model_name": "LayoutModel",
          "model_module_version": "1.2.0",
          "state": {
            "_model_module": "@jupyter-widgets/base",
            "_model_module_version": "1.2.0",
            "_model_name": "LayoutModel",
            "_view_count": null,
            "_view_module": "@jupyter-widgets/base",
            "_view_module_version": "1.2.0",
            "_view_name": "LayoutView",
            "align_content": null,
            "align_items": null,
            "align_self": null,
            "border": null,
            "bottom": null,
            "display": null,
            "flex": null,
            "flex_flow": null,
            "grid_area": null,
            "grid_auto_columns": null,
            "grid_auto_flow": null,
            "grid_auto_rows": null,
            "grid_column": null,
            "grid_gap": null,
            "grid_row": null,
            "grid_template_areas": null,
            "grid_template_columns": null,
            "grid_template_rows": null,
            "height": null,
            "justify_content": null,
            "justify_items": null,
            "left": null,
            "margin": null,
            "max_height": null,
            "max_width": null,
            "min_height": null,
            "min_width": null,
            "object_fit": null,
            "object_position": null,
            "order": null,
            "overflow": null,
            "overflow_x": null,
            "overflow_y": null,
            "padding": null,
            "right": null,
            "top": null,
            "visibility": null,
            "width": null
          }
        },
        "23786cd7e4794f23a771aa2374224dae": {
          "model_module": "@jupyter-widgets/controls",
          "model_name": "DescriptionStyleModel",
          "model_module_version": "1.5.0",
          "state": {
            "_model_module": "@jupyter-widgets/controls",
            "_model_module_version": "1.5.0",
            "_model_name": "DescriptionStyleModel",
            "_view_count": null,
            "_view_module": "@jupyter-widgets/base",
            "_view_module_version": "1.2.0",
            "_view_name": "StyleView",
            "description_width": ""
          }
        },
        "ce1c5cab74c449b18920a78ed28d8e6b": {
          "model_module": "@jupyter-widgets/base",
          "model_name": "LayoutModel",
          "model_module_version": "1.2.0",
          "state": {
            "_model_module": "@jupyter-widgets/base",
            "_model_module_version": "1.2.0",
            "_model_name": "LayoutModel",
            "_view_count": null,
            "_view_module": "@jupyter-widgets/base",
            "_view_module_version": "1.2.0",
            "_view_name": "LayoutView",
            "align_content": null,
            "align_items": null,
            "align_self": null,
            "border": null,
            "bottom": null,
            "display": null,
            "flex": null,
            "flex_flow": null,
            "grid_area": null,
            "grid_auto_columns": null,
            "grid_auto_flow": null,
            "grid_auto_rows": null,
            "grid_column": null,
            "grid_gap": null,
            "grid_row": null,
            "grid_template_areas": null,
            "grid_template_columns": null,
            "grid_template_rows": null,
            "height": null,
            "justify_content": null,
            "justify_items": null,
            "left": null,
            "margin": null,
            "max_height": null,
            "max_width": null,
            "min_height": null,
            "min_width": null,
            "object_fit": null,
            "object_position": null,
            "order": null,
            "overflow": null,
            "overflow_x": null,
            "overflow_y": null,
            "padding": null,
            "right": null,
            "top": null,
            "visibility": null,
            "width": null
          }
        },
        "dba1e144b38344f7b20ff6435dadadb3": {
          "model_module": "@jupyter-widgets/controls",
          "model_name": "ProgressStyleModel",
          "model_module_version": "1.5.0",
          "state": {
            "_model_module": "@jupyter-widgets/controls",
            "_model_module_version": "1.5.0",
            "_model_name": "ProgressStyleModel",
            "_view_count": null,
            "_view_module": "@jupyter-widgets/base",
            "_view_module_version": "1.2.0",
            "_view_name": "StyleView",
            "bar_color": null,
            "description_width": ""
          }
        },
        "4b880a2aba394592b88c2910e3b338f8": {
          "model_module": "@jupyter-widgets/base",
          "model_name": "LayoutModel",
          "model_module_version": "1.2.0",
          "state": {
            "_model_module": "@jupyter-widgets/base",
            "_model_module_version": "1.2.0",
            "_model_name": "LayoutModel",
            "_view_count": null,
            "_view_module": "@jupyter-widgets/base",
            "_view_module_version": "1.2.0",
            "_view_name": "LayoutView",
            "align_content": null,
            "align_items": null,
            "align_self": null,
            "border": null,
            "bottom": null,
            "display": null,
            "flex": null,
            "flex_flow": null,
            "grid_area": null,
            "grid_auto_columns": null,
            "grid_auto_flow": null,
            "grid_auto_rows": null,
            "grid_column": null,
            "grid_gap": null,
            "grid_row": null,
            "grid_template_areas": null,
            "grid_template_columns": null,
            "grid_template_rows": null,
            "height": null,
            "justify_content": null,
            "justify_items": null,
            "left": null,
            "margin": null,
            "max_height": null,
            "max_width": null,
            "min_height": null,
            "min_width": null,
            "object_fit": null,
            "object_position": null,
            "order": null,
            "overflow": null,
            "overflow_x": null,
            "overflow_y": null,
            "padding": null,
            "right": null,
            "top": null,
            "visibility": null,
            "width": null
          }
        },
        "8c0d9739acc04286bca8693cab5cc53d": {
          "model_module": "@jupyter-widgets/controls",
          "model_name": "DescriptionStyleModel",
          "model_module_version": "1.5.0",
          "state": {
            "_model_module": "@jupyter-widgets/controls",
            "_model_module_version": "1.5.0",
            "_model_name": "DescriptionStyleModel",
            "_view_count": null,
            "_view_module": "@jupyter-widgets/base",
            "_view_module_version": "1.2.0",
            "_view_name": "StyleView",
            "description_width": ""
          }
        },
        "766d5591d6ed49b89ceb45f8b244481f": {
          "model_module": "@jupyter-widgets/controls",
          "model_name": "HBoxModel",
          "model_module_version": "1.5.0",
          "state": {
            "_dom_classes": [],
            "_model_module": "@jupyter-widgets/controls",
            "_model_module_version": "1.5.0",
            "_model_name": "HBoxModel",
            "_view_count": null,
            "_view_module": "@jupyter-widgets/controls",
            "_view_module_version": "1.5.0",
            "_view_name": "HBoxView",
            "box_style": "",
            "children": [
              "IPY_MODEL_ad3b1d6d2e4046588bffc82c8c4f4047",
              "IPY_MODEL_64ae5c3fea3d4d6f924e2c01496bd2e1",
              "IPY_MODEL_3a5bdffc757d4dc5a6c91ba8fc0eaa57"
            ],
            "layout": "IPY_MODEL_6a1951a7877a4ddc91631f044b37a244"
          }
        },
        "ad3b1d6d2e4046588bffc82c8c4f4047": {
          "model_module": "@jupyter-widgets/controls",
          "model_name": "HTMLModel",
          "model_module_version": "1.5.0",
          "state": {
            "_dom_classes": [],
            "_model_module": "@jupyter-widgets/controls",
            "_model_module_version": "1.5.0",
            "_model_name": "HTMLModel",
            "_view_count": null,
            "_view_module": "@jupyter-widgets/controls",
            "_view_module_version": "1.5.0",
            "_view_name": "HTMLView",
            "description": "",
            "description_tooltip": null,
            "layout": "IPY_MODEL_2bd38106108745459982ff4b69ec1fe5",
            "placeholder": "​",
            "style": "IPY_MODEL_c277156d9c5c4070a0eea426b54a58ec",
            "value": "special_tokens_map.json: 100%"
          }
        },
        "64ae5c3fea3d4d6f924e2c01496bd2e1": {
          "model_module": "@jupyter-widgets/controls",
          "model_name": "FloatProgressModel",
          "model_module_version": "1.5.0",
          "state": {
            "_dom_classes": [],
            "_model_module": "@jupyter-widgets/controls",
            "_model_module_version": "1.5.0",
            "_model_name": "FloatProgressModel",
            "_view_count": null,
            "_view_module": "@jupyter-widgets/controls",
            "_view_module_version": "1.5.0",
            "_view_name": "ProgressView",
            "bar_style": "success",
            "description": "",
            "description_tooltip": null,
            "layout": "IPY_MODEL_4162fdc47f174972b36cbc2724f63bac",
            "max": 239,
            "min": 0,
            "orientation": "horizontal",
            "style": "IPY_MODEL_4a68cc5a23904908a4a2dcc74e5c4129",
            "value": 239
          }
        },
        "3a5bdffc757d4dc5a6c91ba8fc0eaa57": {
          "model_module": "@jupyter-widgets/controls",
          "model_name": "HTMLModel",
          "model_module_version": "1.5.0",
          "state": {
            "_dom_classes": [],
            "_model_module": "@jupyter-widgets/controls",
            "_model_module_version": "1.5.0",
            "_model_name": "HTMLModel",
            "_view_count": null,
            "_view_module": "@jupyter-widgets/controls",
            "_view_module_version": "1.5.0",
            "_view_name": "HTMLView",
            "description": "",
            "description_tooltip": null,
            "layout": "IPY_MODEL_ed825fbf6be34880850f502c885989b2",
            "placeholder": "​",
            "style": "IPY_MODEL_25427c4e583f4872b262116b4b9e4ead",
            "value": " 239/239 [00:00&lt;00:00, 10.8kB/s]"
          }
        },
        "6a1951a7877a4ddc91631f044b37a244": {
          "model_module": "@jupyter-widgets/base",
          "model_name": "LayoutModel",
          "model_module_version": "1.2.0",
          "state": {
            "_model_module": "@jupyter-widgets/base",
            "_model_module_version": "1.2.0",
            "_model_name": "LayoutModel",
            "_view_count": null,
            "_view_module": "@jupyter-widgets/base",
            "_view_module_version": "1.2.0",
            "_view_name": "LayoutView",
            "align_content": null,
            "align_items": null,
            "align_self": null,
            "border": null,
            "bottom": null,
            "display": null,
            "flex": null,
            "flex_flow": null,
            "grid_area": null,
            "grid_auto_columns": null,
            "grid_auto_flow": null,
            "grid_auto_rows": null,
            "grid_column": null,
            "grid_gap": null,
            "grid_row": null,
            "grid_template_areas": null,
            "grid_template_columns": null,
            "grid_template_rows": null,
            "height": null,
            "justify_content": null,
            "justify_items": null,
            "left": null,
            "margin": null,
            "max_height": null,
            "max_width": null,
            "min_height": null,
            "min_width": null,
            "object_fit": null,
            "object_position": null,
            "order": null,
            "overflow": null,
            "overflow_x": null,
            "overflow_y": null,
            "padding": null,
            "right": null,
            "top": null,
            "visibility": null,
            "width": null
          }
        },
        "2bd38106108745459982ff4b69ec1fe5": {
          "model_module": "@jupyter-widgets/base",
          "model_name": "LayoutModel",
          "model_module_version": "1.2.0",
          "state": {
            "_model_module": "@jupyter-widgets/base",
            "_model_module_version": "1.2.0",
            "_model_name": "LayoutModel",
            "_view_count": null,
            "_view_module": "@jupyter-widgets/base",
            "_view_module_version": "1.2.0",
            "_view_name": "LayoutView",
            "align_content": null,
            "align_items": null,
            "align_self": null,
            "border": null,
            "bottom": null,
            "display": null,
            "flex": null,
            "flex_flow": null,
            "grid_area": null,
            "grid_auto_columns": null,
            "grid_auto_flow": null,
            "grid_auto_rows": null,
            "grid_column": null,
            "grid_gap": null,
            "grid_row": null,
            "grid_template_areas": null,
            "grid_template_columns": null,
            "grid_template_rows": null,
            "height": null,
            "justify_content": null,
            "justify_items": null,
            "left": null,
            "margin": null,
            "max_height": null,
            "max_width": null,
            "min_height": null,
            "min_width": null,
            "object_fit": null,
            "object_position": null,
            "order": null,
            "overflow": null,
            "overflow_x": null,
            "overflow_y": null,
            "padding": null,
            "right": null,
            "top": null,
            "visibility": null,
            "width": null
          }
        },
        "c277156d9c5c4070a0eea426b54a58ec": {
          "model_module": "@jupyter-widgets/controls",
          "model_name": "DescriptionStyleModel",
          "model_module_version": "1.5.0",
          "state": {
            "_model_module": "@jupyter-widgets/controls",
            "_model_module_version": "1.5.0",
            "_model_name": "DescriptionStyleModel",
            "_view_count": null,
            "_view_module": "@jupyter-widgets/base",
            "_view_module_version": "1.2.0",
            "_view_name": "StyleView",
            "description_width": ""
          }
        },
        "4162fdc47f174972b36cbc2724f63bac": {
          "model_module": "@jupyter-widgets/base",
          "model_name": "LayoutModel",
          "model_module_version": "1.2.0",
          "state": {
            "_model_module": "@jupyter-widgets/base",
            "_model_module_version": "1.2.0",
            "_model_name": "LayoutModel",
            "_view_count": null,
            "_view_module": "@jupyter-widgets/base",
            "_view_module_version": "1.2.0",
            "_view_name": "LayoutView",
            "align_content": null,
            "align_items": null,
            "align_self": null,
            "border": null,
            "bottom": null,
            "display": null,
            "flex": null,
            "flex_flow": null,
            "grid_area": null,
            "grid_auto_columns": null,
            "grid_auto_flow": null,
            "grid_auto_rows": null,
            "grid_column": null,
            "grid_gap": null,
            "grid_row": null,
            "grid_template_areas": null,
            "grid_template_columns": null,
            "grid_template_rows": null,
            "height": null,
            "justify_content": null,
            "justify_items": null,
            "left": null,
            "margin": null,
            "max_height": null,
            "max_width": null,
            "min_height": null,
            "min_width": null,
            "object_fit": null,
            "object_position": null,
            "order": null,
            "overflow": null,
            "overflow_x": null,
            "overflow_y": null,
            "padding": null,
            "right": null,
            "top": null,
            "visibility": null,
            "width": null
          }
        },
        "4a68cc5a23904908a4a2dcc74e5c4129": {
          "model_module": "@jupyter-widgets/controls",
          "model_name": "ProgressStyleModel",
          "model_module_version": "1.5.0",
          "state": {
            "_model_module": "@jupyter-widgets/controls",
            "_model_module_version": "1.5.0",
            "_model_name": "ProgressStyleModel",
            "_view_count": null,
            "_view_module": "@jupyter-widgets/base",
            "_view_module_version": "1.2.0",
            "_view_name": "StyleView",
            "bar_color": null,
            "description_width": ""
          }
        },
        "ed825fbf6be34880850f502c885989b2": {
          "model_module": "@jupyter-widgets/base",
          "model_name": "LayoutModel",
          "model_module_version": "1.2.0",
          "state": {
            "_model_module": "@jupyter-widgets/base",
            "_model_module_version": "1.2.0",
            "_model_name": "LayoutModel",
            "_view_count": null,
            "_view_module": "@jupyter-widgets/base",
            "_view_module_version": "1.2.0",
            "_view_name": "LayoutView",
            "align_content": null,
            "align_items": null,
            "align_self": null,
            "border": null,
            "bottom": null,
            "display": null,
            "flex": null,
            "flex_flow": null,
            "grid_area": null,
            "grid_auto_columns": null,
            "grid_auto_flow": null,
            "grid_auto_rows": null,
            "grid_column": null,
            "grid_gap": null,
            "grid_row": null,
            "grid_template_areas": null,
            "grid_template_columns": null,
            "grid_template_rows": null,
            "height": null,
            "justify_content": null,
            "justify_items": null,
            "left": null,
            "margin": null,
            "max_height": null,
            "max_width": null,
            "min_height": null,
            "min_width": null,
            "object_fit": null,
            "object_position": null,
            "order": null,
            "overflow": null,
            "overflow_x": null,
            "overflow_y": null,
            "padding": null,
            "right": null,
            "top": null,
            "visibility": null,
            "width": null
          }
        },
        "25427c4e583f4872b262116b4b9e4ead": {
          "model_module": "@jupyter-widgets/controls",
          "model_name": "DescriptionStyleModel",
          "model_module_version": "1.5.0",
          "state": {
            "_model_module": "@jupyter-widgets/controls",
            "_model_module_version": "1.5.0",
            "_model_name": "DescriptionStyleModel",
            "_view_count": null,
            "_view_module": "@jupyter-widgets/base",
            "_view_module_version": "1.2.0",
            "_view_name": "StyleView",
            "description_width": ""
          }
        },
        "07685eb5ac5044bb9191099477a42e40": {
          "model_module": "@jupyter-widgets/controls",
          "model_name": "HBoxModel",
          "model_module_version": "1.5.0",
          "state": {
            "_dom_classes": [],
            "_model_module": "@jupyter-widgets/controls",
            "_model_module_version": "1.5.0",
            "_model_name": "HBoxModel",
            "_view_count": null,
            "_view_module": "@jupyter-widgets/controls",
            "_view_module_version": "1.5.0",
            "_view_name": "HBoxView",
            "box_style": "",
            "children": [
              "IPY_MODEL_e6a3d72bb8124bbeaa5f1e106a6d4300",
              "IPY_MODEL_b0030ffdad594bd9a68dfe64dcf13568",
              "IPY_MODEL_f3bd3aa257e4481696dbe5bf8966cf58"
            ],
            "layout": "IPY_MODEL_4d8cafca657a4b66801e550e477221e3"
          }
        },
        "e6a3d72bb8124bbeaa5f1e106a6d4300": {
          "model_module": "@jupyter-widgets/controls",
          "model_name": "HTMLModel",
          "model_module_version": "1.5.0",
          "state": {
            "_dom_classes": [],
            "_model_module": "@jupyter-widgets/controls",
            "_model_module_version": "1.5.0",
            "_model_name": "HTMLModel",
            "_view_count": null,
            "_view_module": "@jupyter-widgets/controls",
            "_view_module_version": "1.5.0",
            "_view_name": "HTMLView",
            "description": "",
            "description_tooltip": null,
            "layout": "IPY_MODEL_1688880a64804105ab4bc1bf3e0b9bb1",
            "placeholder": "​",
            "style": "IPY_MODEL_e41ad7a6cb2c4c98b3fbe2f611158aa6",
            "value": "config.json: 100%"
          }
        },
        "b0030ffdad594bd9a68dfe64dcf13568": {
          "model_module": "@jupyter-widgets/controls",
          "model_name": "FloatProgressModel",
          "model_module_version": "1.5.0",
          "state": {
            "_dom_classes": [],
            "_model_module": "@jupyter-widgets/controls",
            "_model_module_version": "1.5.0",
            "_model_name": "FloatProgressModel",
            "_view_count": null,
            "_view_module": "@jupyter-widgets/controls",
            "_view_module_version": "1.5.0",
            "_view_name": "ProgressView",
            "bar_style": "success",
            "description": "",
            "description_tooltip": null,
            "layout": "IPY_MODEL_f3bc9981f5ca4e2b98692b0c5a75fb3f",
            "max": 190,
            "min": 0,
            "orientation": "horizontal",
            "style": "IPY_MODEL_41d1fa41b2764b8fa35b3c3089da9f65",
            "value": 190
          }
        },
        "f3bd3aa257e4481696dbe5bf8966cf58": {
          "model_module": "@jupyter-widgets/controls",
          "model_name": "HTMLModel",
          "model_module_version": "1.5.0",
          "state": {
            "_dom_classes": [],
            "_model_module": "@jupyter-widgets/controls",
            "_model_module_version": "1.5.0",
            "_model_name": "HTMLModel",
            "_view_count": null,
            "_view_module": "@jupyter-widgets/controls",
            "_view_module_version": "1.5.0",
            "_view_name": "HTMLView",
            "description": "",
            "description_tooltip": null,
            "layout": "IPY_MODEL_b0c4cd26511b4800845bdf44f837cf43",
            "placeholder": "​",
            "style": "IPY_MODEL_238141dfa3eb4f809c4e1948e9d11e2f",
            "value": " 190/190 [00:00&lt;00:00, 13.4kB/s]"
          }
        },
        "4d8cafca657a4b66801e550e477221e3": {
          "model_module": "@jupyter-widgets/base",
          "model_name": "LayoutModel",
          "model_module_version": "1.2.0",
          "state": {
            "_model_module": "@jupyter-widgets/base",
            "_model_module_version": "1.2.0",
            "_model_name": "LayoutModel",
            "_view_count": null,
            "_view_module": "@jupyter-widgets/base",
            "_view_module_version": "1.2.0",
            "_view_name": "LayoutView",
            "align_content": null,
            "align_items": null,
            "align_self": null,
            "border": null,
            "bottom": null,
            "display": null,
            "flex": null,
            "flex_flow": null,
            "grid_area": null,
            "grid_auto_columns": null,
            "grid_auto_flow": null,
            "grid_auto_rows": null,
            "grid_column": null,
            "grid_gap": null,
            "grid_row": null,
            "grid_template_areas": null,
            "grid_template_columns": null,
            "grid_template_rows": null,
            "height": null,
            "justify_content": null,
            "justify_items": null,
            "left": null,
            "margin": null,
            "max_height": null,
            "max_width": null,
            "min_height": null,
            "min_width": null,
            "object_fit": null,
            "object_position": null,
            "order": null,
            "overflow": null,
            "overflow_x": null,
            "overflow_y": null,
            "padding": null,
            "right": null,
            "top": null,
            "visibility": null,
            "width": null
          }
        },
        "1688880a64804105ab4bc1bf3e0b9bb1": {
          "model_module": "@jupyter-widgets/base",
          "model_name": "LayoutModel",
          "model_module_version": "1.2.0",
          "state": {
            "_model_module": "@jupyter-widgets/base",
            "_model_module_version": "1.2.0",
            "_model_name": "LayoutModel",
            "_view_count": null,
            "_view_module": "@jupyter-widgets/base",
            "_view_module_version": "1.2.0",
            "_view_name": "LayoutView",
            "align_content": null,
            "align_items": null,
            "align_self": null,
            "border": null,
            "bottom": null,
            "display": null,
            "flex": null,
            "flex_flow": null,
            "grid_area": null,
            "grid_auto_columns": null,
            "grid_auto_flow": null,
            "grid_auto_rows": null,
            "grid_column": null,
            "grid_gap": null,
            "grid_row": null,
            "grid_template_areas": null,
            "grid_template_columns": null,
            "grid_template_rows": null,
            "height": null,
            "justify_content": null,
            "justify_items": null,
            "left": null,
            "margin": null,
            "max_height": null,
            "max_width": null,
            "min_height": null,
            "min_width": null,
            "object_fit": null,
            "object_position": null,
            "order": null,
            "overflow": null,
            "overflow_x": null,
            "overflow_y": null,
            "padding": null,
            "right": null,
            "top": null,
            "visibility": null,
            "width": null
          }
        },
        "e41ad7a6cb2c4c98b3fbe2f611158aa6": {
          "model_module": "@jupyter-widgets/controls",
          "model_name": "DescriptionStyleModel",
          "model_module_version": "1.5.0",
          "state": {
            "_model_module": "@jupyter-widgets/controls",
            "_model_module_version": "1.5.0",
            "_model_name": "DescriptionStyleModel",
            "_view_count": null,
            "_view_module": "@jupyter-widgets/base",
            "_view_module_version": "1.2.0",
            "_view_name": "StyleView",
            "description_width": ""
          }
        },
        "f3bc9981f5ca4e2b98692b0c5a75fb3f": {
          "model_module": "@jupyter-widgets/base",
          "model_name": "LayoutModel",
          "model_module_version": "1.2.0",
          "state": {
            "_model_module": "@jupyter-widgets/base",
            "_model_module_version": "1.2.0",
            "_model_name": "LayoutModel",
            "_view_count": null,
            "_view_module": "@jupyter-widgets/base",
            "_view_module_version": "1.2.0",
            "_view_name": "LayoutView",
            "align_content": null,
            "align_items": null,
            "align_self": null,
            "border": null,
            "bottom": null,
            "display": null,
            "flex": null,
            "flex_flow": null,
            "grid_area": null,
            "grid_auto_columns": null,
            "grid_auto_flow": null,
            "grid_auto_rows": null,
            "grid_column": null,
            "grid_gap": null,
            "grid_row": null,
            "grid_template_areas": null,
            "grid_template_columns": null,
            "grid_template_rows": null,
            "height": null,
            "justify_content": null,
            "justify_items": null,
            "left": null,
            "margin": null,
            "max_height": null,
            "max_width": null,
            "min_height": null,
            "min_width": null,
            "object_fit": null,
            "object_position": null,
            "order": null,
            "overflow": null,
            "overflow_x": null,
            "overflow_y": null,
            "padding": null,
            "right": null,
            "top": null,
            "visibility": null,
            "width": null
          }
        },
        "41d1fa41b2764b8fa35b3c3089da9f65": {
          "model_module": "@jupyter-widgets/controls",
          "model_name": "ProgressStyleModel",
          "model_module_version": "1.5.0",
          "state": {
            "_model_module": "@jupyter-widgets/controls",
            "_model_module_version": "1.5.0",
            "_model_name": "ProgressStyleModel",
            "_view_count": null,
            "_view_module": "@jupyter-widgets/base",
            "_view_module_version": "1.2.0",
            "_view_name": "StyleView",
            "bar_color": null,
            "description_width": ""
          }
        },
        "b0c4cd26511b4800845bdf44f837cf43": {
          "model_module": "@jupyter-widgets/base",
          "model_name": "LayoutModel",
          "model_module_version": "1.2.0",
          "state": {
            "_model_module": "@jupyter-widgets/base",
            "_model_module_version": "1.2.0",
            "_model_name": "LayoutModel",
            "_view_count": null,
            "_view_module": "@jupyter-widgets/base",
            "_view_module_version": "1.2.0",
            "_view_name": "LayoutView",
            "align_content": null,
            "align_items": null,
            "align_self": null,
            "border": null,
            "bottom": null,
            "display": null,
            "flex": null,
            "flex_flow": null,
            "grid_area": null,
            "grid_auto_columns": null,
            "grid_auto_flow": null,
            "grid_auto_rows": null,
            "grid_column": null,
            "grid_gap": null,
            "grid_row": null,
            "grid_template_areas": null,
            "grid_template_columns": null,
            "grid_template_rows": null,
            "height": null,
            "justify_content": null,
            "justify_items": null,
            "left": null,
            "margin": null,
            "max_height": null,
            "max_width": null,
            "min_height": null,
            "min_width": null,
            "object_fit": null,
            "object_position": null,
            "order": null,
            "overflow": null,
            "overflow_x": null,
            "overflow_y": null,
            "padding": null,
            "right": null,
            "top": null,
            "visibility": null,
            "width": null
          }
        },
        "238141dfa3eb4f809c4e1948e9d11e2f": {
          "model_module": "@jupyter-widgets/controls",
          "model_name": "DescriptionStyleModel",
          "model_module_version": "1.5.0",
          "state": {
            "_model_module": "@jupyter-widgets/controls",
            "_model_module_version": "1.5.0",
            "_model_name": "DescriptionStyleModel",
            "_view_count": null,
            "_view_module": "@jupyter-widgets/base",
            "_view_module_version": "1.2.0",
            "_view_name": "StyleView",
            "description_width": ""
          }
        }
      }
    }
  },
  "cells": [
    {
      "cell_type": "markdown",
      "metadata": {
        "id": "view-in-github",
        "colab_type": "text"
      },
      "source": [
        "<a href=\"https://colab.research.google.com/github/Maria-Evlakhova/GigachatTest/blob/main/%D0%91%D0%BB%D0%BE%D0%BA%D0%BD%D0%BE%D1%82_%22%D0%9A%D0%BB%D0%B8%D0%BD%D0%B8%D1%87%D0%B5%D1%81%D0%BA%D0%B8%D0%B5_%D1%80%D0%B5%D0%BA%D0%BE%D0%BC%D0%B5%D0%BD%D0%B4%D0%B0%D1%86%D0%B8%D0%B8_ipynb%22%22.ipynb\" target=\"_parent\"><img src=\"https://colab.research.google.com/assets/colab-badge.svg\" alt=\"Open In Colab\"/></a>"
      ]
    },
    {
      "cell_type": "markdown",
      "source": [
        "# Создание простой вопросно-ответной системы\n",
        "## Что из себя представляют вопросно-ответные системы с использованием языковых моделей\n",
        "\n",
        "![rag.png](data:image/png;base64,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)\n",
        "\n",
        "## Установка требуемых библиотек\n",
        "\n",
        "В рамках туториала нам потребуется некоторое количество инструментов:\n",
        "- `gigachain` - основной инструмент построения пайплайнов с большими языковыми моделями;\n",
        "- `faiss-cpu` - используем векторное хранилище FAISS для размещения чанков (фрагментов текстов для контекста)и эмбеддингов (векторных представлений) этих чанков;\n",
        "- `sentence-transformers` - библиотека для локального использования эмбеддинговых моделей с ресурса Hugging Face;\n",
        "- `rank_bm25` - библиотека для работы с алгоритмами векторизации BM25 (вариации TF-IDF);\n",
        "- `playwright` - библиотека для автоматизации браузера, в нашем случае для парсинга списка статей с веб-сайта."
      ],
      "metadata": {
        "id": "vSmpuEoBD7b4"
      }
    },
    {
      "cell_type": "code",
      "source": [
        "!pip install gigachain faiss-cpu sentence-transformers rank_bm25 playwright langchain-community --quiet\n",
        "!pip install -U langchain-community"
      ],
      "metadata": {
        "id": "ajJ_Q4-GONsp",
        "colab": {
          "base_uri": "https://localhost:8080/"
        },
        "outputId": "2334c365-9ceb-4015-b447-5b5630a2597e"
      },
      "execution_count": 3,
      "outputs": [
        {
          "output_type": "stream",
          "name": "stdout",
          "text": [
            "\u001b[2K   \u001b[90m━━━━━━━━━━━━━━━━━━━━━━━━━━━━━━━━━━━━━━━━\u001b[0m \u001b[32m1.0/1.0 MB\u001b[0m \u001b[31m15.3 MB/s\u001b[0m eta \u001b[36m0:00:00\u001b[0m\n",
            "\u001b[2K   \u001b[90m━━━━━━━━━━━━━━━━━━━━━━━━━━━━━━━━━━━━━━━━\u001b[0m \u001b[32m30.7/30.7 MB\u001b[0m \u001b[31m23.2 MB/s\u001b[0m eta \u001b[36m0:00:00\u001b[0m\n",
            "\u001b[2K   \u001b[90m━━━━━━━━━━━━━━━━━━━━━━━━━━━━━━━━━━━━━━━━\u001b[0m \u001b[32m45.1/45.1 MB\u001b[0m \u001b[31m10.2 MB/s\u001b[0m eta \u001b[36m0:00:00\u001b[0m\n",
            "\u001b[2K   \u001b[90m━━━━━━━━━━━━━━━━━━━━━━━━━━━━━━━━━━━━━━━━\u001b[0m \u001b[32m2.5/2.5 MB\u001b[0m \u001b[31m42.0 MB/s\u001b[0m eta \u001b[36m0:00:00\u001b[0m\n",
            "\u001b[2K   \u001b[90m━━━━━━━━━━━━━━━━━━━━━━━━━━━━━━━━━━━━━━━━\u001b[0m \u001b[32m403.7/403.7 kB\u001b[0m \u001b[31m18.0 MB/s\u001b[0m eta \u001b[36m0:00:00\u001b[0m\n",
            "\u001b[2K   \u001b[90m━━━━━━━━━━━━━━━━━━━━━━━━━━━━━━━━━━━━━━━━\u001b[0m \u001b[32m67.0/67.0 kB\u001b[0m \u001b[31m3.8 MB/s\u001b[0m eta \u001b[36m0:00:00\u001b[0m\n",
            "\u001b[2K   \u001b[90m━━━━━━━━━━━━━━━━━━━━━━━━━━━━━━━━━━━━━━━━\u001b[0m \u001b[32m311.8/311.8 kB\u001b[0m \u001b[31m11.4 MB/s\u001b[0m eta \u001b[36m0:00:00\u001b[0m\n",
            "\u001b[2K   \u001b[90m━━━━━━━━━━━━━━━━━━━━━━━━━━━━━━━━━━━━━━━━\u001b[0m \u001b[32m363.4/363.4 MB\u001b[0m \u001b[31m4.3 MB/s\u001b[0m eta \u001b[36m0:00:00\u001b[0m\n",
            "\u001b[2K   \u001b[90m━━━━━━━━━━━━━━━━━━━━━━━━━━━━━━━━━━━━━━━━\u001b[0m \u001b[32m13.8/13.8 MB\u001b[0m \u001b[31m67.4 MB/s\u001b[0m eta \u001b[36m0:00:00\u001b[0m\n",
            "\u001b[2K   \u001b[90m━━━━━━━━━━━━━━━━━━━━━━━━━━━━━━━━━━━━━━━━\u001b[0m \u001b[32m24.6/24.6 MB\u001b[0m \u001b[31m72.0 MB/s\u001b[0m eta \u001b[36m0:00:00\u001b[0m\n",
            "\u001b[2K   \u001b[90m━━━━━━━━━━━━━━━━━━━━━━━━━━━━━━━━━━━━━━━━\u001b[0m \u001b[32m883.7/883.7 kB\u001b[0m \u001b[31m39.7 MB/s\u001b[0m eta \u001b[36m0:00:00\u001b[0m\n",
            "\u001b[2K   \u001b[90m━━━━━━━━━━━━━━━━━━━━━━━━━━━━━━━━━━━━━━━━\u001b[0m \u001b[32m664.8/664.8 MB\u001b[0m \u001b[31m2.9 MB/s\u001b[0m eta \u001b[36m0:00:00\u001b[0m\n",
            "\u001b[2K   \u001b[90m━━━━━━━━━━━━━━━━━━━━━━━━━━━━━━━━━━━━━━━━\u001b[0m \u001b[32m211.5/211.5 MB\u001b[0m \u001b[31m5.1 MB/s\u001b[0m eta \u001b[36m0:00:00\u001b[0m\n",
            "\u001b[2K   \u001b[90m━━━━━━━━━━━━━━━━━━━━━━━━━━━━━━━━━━━━━━━━\u001b[0m \u001b[32m56.3/56.3 MB\u001b[0m \u001b[31m12.2 MB/s\u001b[0m eta \u001b[36m0:00:00\u001b[0m\n",
            "\u001b[2K   \u001b[90m━━━━━━━━━━━━━━━━━━━━━━━━━━━━━━━━━━━━━━━━\u001b[0m \u001b[32m127.9/127.9 MB\u001b[0m \u001b[31m7.3 MB/s\u001b[0m eta \u001b[36m0:00:00\u001b[0m\n",
            "\u001b[2K   \u001b[90m━━━━━━━━━━━━━━━━━━━━━━━━━━━━━━━━━━━━━━━━\u001b[0m \u001b[32m207.5/207.5 MB\u001b[0m \u001b[31m6.3 MB/s\u001b[0m eta \u001b[36m0:00:00\u001b[0m\n",
            "\u001b[2K   \u001b[90m━━━━━━━━━━━━━━━━━━━━━━━━━━━━━━━━━━━━━━━━\u001b[0m \u001b[32m21.1/21.1 MB\u001b[0m \u001b[31m80.7 MB/s\u001b[0m eta \u001b[36m0:00:00\u001b[0m\n",
            "\u001b[2K   \u001b[90m━━━━━━━━━━━━━━━━━━━━━━━━━━━━━━━━━━━━━━━━\u001b[0m \u001b[32m264.3/264.3 kB\u001b[0m \u001b[31m14.9 MB/s\u001b[0m eta \u001b[36m0:00:00\u001b[0m\n",
            "\u001b[2K   \u001b[90m━━━━━━━━━━━━━━━━━━━━━━━━━━━━━━━━━━━━━━━━\u001b[0m \u001b[32m50.9/50.9 kB\u001b[0m \u001b[31m2.9 MB/s\u001b[0m eta \u001b[36m0:00:00\u001b[0m\n",
            "\u001b[2K   \u001b[90m━━━━━━━━━━━━━━━━━━━━━━━━━━━━━━━━━━━━━━━━\u001b[0m \u001b[32m100.9/100.9 kB\u001b[0m \u001b[31m6.5 MB/s\u001b[0m eta \u001b[36m0:00:00\u001b[0m\n",
            "\u001b[?25h\u001b[31mERROR: pip's dependency resolver does not currently take into account all the packages that are installed. This behaviour is the source of the following dependency conflicts.\n",
            "jupyter-server 1.24.0 requires anyio<4,>=3.1.0, but you have anyio 4.9.0 which is incompatible.\u001b[0m\u001b[31m\n",
            "\u001b[0mRequirement already satisfied: langchain-community in /usr/local/lib/python3.11/dist-packages (0.3.19)\n",
            "Requirement already satisfied: langchain-core<1.0.0,>=0.3.41 in /usr/local/lib/python3.11/dist-packages (from langchain-community) (0.3.44)\n",
            "Requirement already satisfied: langchain<1.0.0,>=0.3.20 in /usr/local/lib/python3.11/dist-packages (from langchain-community) (0.3.20)\n",
            "Requirement already satisfied: SQLAlchemy<3,>=1.4 in /usr/local/lib/python3.11/dist-packages (from langchain-community) (2.0.39)\n",
            "Requirement already satisfied: requests<3,>=2 in /usr/local/lib/python3.11/dist-packages (from langchain-community) (2.32.3)\n",
            "Requirement already satisfied: PyYAML>=5.3 in /usr/local/lib/python3.11/dist-packages (from langchain-community) (6.0.2)\n",
            "Requirement already satisfied: aiohttp<4.0.0,>=3.8.3 in /usr/local/lib/python3.11/dist-packages (from langchain-community) (3.11.13)\n",
            "Requirement already satisfied: tenacity!=8.4.0,<10,>=8.1.0 in /usr/local/lib/python3.11/dist-packages (from langchain-community) (8.5.0)\n",
            "Requirement already satisfied: dataclasses-json<0.7,>=0.5.7 in /usr/local/lib/python3.11/dist-packages (from langchain-community) (0.6.7)\n",
            "Requirement already satisfied: pydantic-settings<3.0.0,>=2.4.0 in /usr/local/lib/python3.11/dist-packages (from langchain-community) (2.8.1)\n",
            "Requirement already satisfied: langsmith<0.4,>=0.1.125 in /usr/local/lib/python3.11/dist-packages (from langchain-community) (0.1.147)\n",
            "Requirement already satisfied: httpx-sse<1.0.0,>=0.4.0 in /usr/local/lib/python3.11/dist-packages (from langchain-community) (0.4.0)\n",
            "Requirement already satisfied: numpy<3,>=1.26.2 in /usr/local/lib/python3.11/dist-packages (from langchain-community) (1.26.4)\n",
            "Requirement already satisfied: aiohappyeyeballs>=2.3.0 in /usr/local/lib/python3.11/dist-packages (from aiohttp<4.0.0,>=3.8.3->langchain-community) (2.6.1)\n",
            "Requirement already satisfied: aiosignal>=1.1.2 in /usr/local/lib/python3.11/dist-packages (from aiohttp<4.0.0,>=3.8.3->langchain-community) (1.3.2)\n",
            "Requirement already satisfied: attrs>=17.3.0 in /usr/local/lib/python3.11/dist-packages (from aiohttp<4.0.0,>=3.8.3->langchain-community) (25.2.0)\n",
            "Requirement already satisfied: frozenlist>=1.1.1 in /usr/local/lib/python3.11/dist-packages (from aiohttp<4.0.0,>=3.8.3->langchain-community) (1.5.0)\n",
            "Requirement already satisfied: multidict<7.0,>=4.5 in /usr/local/lib/python3.11/dist-packages (from aiohttp<4.0.0,>=3.8.3->langchain-community) (6.1.0)\n",
            "Requirement already satisfied: propcache>=0.2.0 in /usr/local/lib/python3.11/dist-packages (from aiohttp<4.0.0,>=3.8.3->langchain-community) (0.3.0)\n",
            "Requirement already satisfied: yarl<2.0,>=1.17.0 in /usr/local/lib/python3.11/dist-packages (from aiohttp<4.0.0,>=3.8.3->langchain-community) (1.18.3)\n",
            "Requirement already satisfied: marshmallow<4.0.0,>=3.18.0 in /usr/local/lib/python3.11/dist-packages (from dataclasses-json<0.7,>=0.5.7->langchain-community) (3.26.1)\n",
            "Requirement already satisfied: typing-inspect<1,>=0.4.0 in /usr/local/lib/python3.11/dist-packages (from dataclasses-json<0.7,>=0.5.7->langchain-community) (0.9.0)\n",
            "Requirement already satisfied: langchain-text-splitters<1.0.0,>=0.3.6 in /usr/local/lib/python3.11/dist-packages (from langchain<1.0.0,>=0.3.20->langchain-community) (0.3.6)\n",
            "Requirement already satisfied: pydantic<3.0.0,>=2.7.4 in /usr/local/lib/python3.11/dist-packages (from langchain<1.0.0,>=0.3.20->langchain-community) (2.10.6)\n",
            "Requirement already satisfied: jsonpatch<2.0,>=1.33 in /usr/local/lib/python3.11/dist-packages (from langchain-core<1.0.0,>=0.3.41->langchain-community) (1.33)\n",
            "Requirement already satisfied: packaging<25,>=23.2 in /usr/local/lib/python3.11/dist-packages (from langchain-core<1.0.0,>=0.3.41->langchain-community) (24.2)\n",
            "Requirement already satisfied: typing-extensions>=4.7 in /usr/local/lib/python3.11/dist-packages (from langchain-core<1.0.0,>=0.3.41->langchain-community) (4.12.2)\n",
            "Requirement already satisfied: httpx<1,>=0.23.0 in /usr/local/lib/python3.11/dist-packages (from langsmith<0.4,>=0.1.125->langchain-community) (0.28.1)\n",
            "Requirement already satisfied: orjson<4.0.0,>=3.9.14 in /usr/local/lib/python3.11/dist-packages (from langsmith<0.4,>=0.1.125->langchain-community) (3.10.15)\n",
            "Requirement already satisfied: requests-toolbelt<2.0.0,>=1.0.0 in /usr/local/lib/python3.11/dist-packages (from langsmith<0.4,>=0.1.125->langchain-community) (1.0.0)\n",
            "Requirement already satisfied: python-dotenv>=0.21.0 in /usr/local/lib/python3.11/dist-packages (from pydantic-settings<3.0.0,>=2.4.0->langchain-community) (1.0.1)\n",
            "Requirement already satisfied: charset-normalizer<4,>=2 in /usr/local/lib/python3.11/dist-packages (from requests<3,>=2->langchain-community) (3.4.1)\n",
            "Requirement already satisfied: idna<4,>=2.5 in /usr/local/lib/python3.11/dist-packages (from requests<3,>=2->langchain-community) (3.10)\n",
            "Requirement already satisfied: urllib3<3,>=1.21.1 in /usr/local/lib/python3.11/dist-packages (from requests<3,>=2->langchain-community) (2.3.0)\n",
            "Requirement already satisfied: certifi>=2017.4.17 in /usr/local/lib/python3.11/dist-packages (from requests<3,>=2->langchain-community) (2025.1.31)\n",
            "Requirement already satisfied: greenlet!=0.4.17 in /usr/local/lib/python3.11/dist-packages (from SQLAlchemy<3,>=1.4->langchain-community) (3.1.1)\n",
            "Requirement already satisfied: anyio in /usr/local/lib/python3.11/dist-packages (from httpx<1,>=0.23.0->langsmith<0.4,>=0.1.125->langchain-community) (4.9.0)\n",
            "Requirement already satisfied: httpcore==1.* in /usr/local/lib/python3.11/dist-packages (from httpx<1,>=0.23.0->langsmith<0.4,>=0.1.125->langchain-community) (1.0.7)\n",
            "Requirement already satisfied: h11<0.15,>=0.13 in /usr/local/lib/python3.11/dist-packages (from httpcore==1.*->httpx<1,>=0.23.0->langsmith<0.4,>=0.1.125->langchain-community) (0.14.0)\n",
            "Requirement already satisfied: jsonpointer>=1.9 in /usr/local/lib/python3.11/dist-packages (from jsonpatch<2.0,>=1.33->langchain-core<1.0.0,>=0.3.41->langchain-community) (3.0.0)\n",
            "Requirement already satisfied: annotated-types>=0.6.0 in /usr/local/lib/python3.11/dist-packages (from pydantic<3.0.0,>=2.7.4->langchain<1.0.0,>=0.3.20->langchain-community) (0.7.0)\n",
            "Requirement already satisfied: pydantic-core==2.27.2 in /usr/local/lib/python3.11/dist-packages (from pydantic<3.0.0,>=2.7.4->langchain<1.0.0,>=0.3.20->langchain-community) (2.27.2)\n",
            "Requirement already satisfied: mypy-extensions>=0.3.0 in /usr/local/lib/python3.11/dist-packages (from typing-inspect<1,>=0.4.0->dataclasses-json<0.7,>=0.5.7->langchain-community) (1.0.0)\n",
            "Requirement already satisfied: sniffio>=1.1 in /usr/local/lib/python3.11/dist-packages (from anyio->httpx<1,>=0.23.0->langsmith<0.4,>=0.1.125->langchain-community) (1.3.1)\n"
          ]
        }
      ]
    },
    {
      "cell_type": "markdown",
      "source": [
        "Также выполним установку браузера для сбора списка статей."
      ],
      "metadata": {
        "id": "ugkbCiC9EZhf"
      }
    },
    {
      "cell_type": "code",
      "source": [
        "!playwright install"
      ],
      "metadata": {
        "id": "IdSmZjhiwwgC",
        "colab": {
          "base_uri": "https://localhost:8080/"
        },
        "outputId": "358affba-3eb9-483b-ddd2-384103727daa"
      },
      "execution_count": 4,
      "outputs": [
        {
          "output_type": "stream",
          "name": "stdout",
          "text": [
            "Downloading Chromium 133.0.6943.16 (playwright build v1155)\u001b[2m from https://cdn.playwright.dev/dbazure/download/playwright/builds/chromium/1155/chromium-linux.zip\u001b[22m\n",
            "\u001b[1G163.5 MiB [] 0% 10.8s\u001b[0K\u001b[1G163.5 MiB [] 0% 106.4s\u001b[0K\u001b[1G163.5 MiB [] 0% 110.6s\u001b[0K\u001b[1G163.5 MiB [] 0% 90.2s\u001b[0K\u001b[1G163.5 MiB [] 0% 58.4s\u001b[0K\u001b[1G163.5 MiB [] 0% 44.7s\u001b[0K\u001b[1G163.5 MiB [] 0% 33.8s\u001b[0K\u001b[1G163.5 MiB [] 0% 25.4s\u001b[0K\u001b[1G163.5 MiB [] 0% 21.3s\u001b[0K\u001b[1G163.5 MiB [] 1% 13.4s\u001b[0K\u001b[1G163.5 MiB [] 1% 14.3s\u001b[0K\u001b[1G163.5 MiB [] 2% 10.2s\u001b[0K\u001b[1G163.5 MiB [] 2% 8.8s\u001b[0K\u001b[1G163.5 MiB [] 3% 8.1s\u001b[0K\u001b[1G163.5 MiB [] 3% 7.3s\u001b[0K\u001b[1G163.5 MiB [] 4% 6.5s\u001b[0K\u001b[1G163.5 MiB [] 5% 5.7s\u001b[0K\u001b[1G163.5 MiB [] 5% 5.8s\u001b[0K\u001b[1G163.5 MiB [] 6% 5.3s\u001b[0K\u001b[1G163.5 MiB [] 7% 5.0s\u001b[0K\u001b[1G163.5 MiB [] 7% 4.6s\u001b[0K\u001b[1G163.5 MiB [] 8% 4.4s\u001b[0K\u001b[1G163.5 MiB [] 9% 4.2s\u001b[0K\u001b[1G163.5 MiB [] 10% 3.9s\u001b[0K\u001b[1G163.5 MiB [] 10% 3.8s\u001b[0K\u001b[1G163.5 MiB [] 11% 3.6s\u001b[0K\u001b[1G163.5 MiB [] 12% 3.4s\u001b[0K\u001b[1G163.5 MiB [] 13% 3.2s\u001b[0K\u001b[1G163.5 MiB [] 14% 3.0s\u001b[0K\u001b[1G163.5 MiB [] 16% 2.8s\u001b[0K\u001b[1G163.5 MiB [] 17% 2.7s\u001b[0K\u001b[1G163.5 MiB [] 18% 2.6s\u001b[0K\u001b[1G163.5 MiB [] 19% 2.5s\u001b[0K\u001b[1G163.5 MiB [] 20% 2.4s\u001b[0K\u001b[1G163.5 MiB [] 21% 2.3s\u001b[0K\u001b[1G163.5 MiB [] 21% 2.4s\u001b[0K\u001b[1G163.5 MiB [] 22% 2.4s\u001b[0K\u001b[1G163.5 MiB [] 23% 2.3s\u001b[0K\u001b[1G163.5 MiB [] 25% 2.1s\u001b[0K\u001b[1G163.5 MiB [] 26% 2.1s\u001b[0K\u001b[1G163.5 MiB [] 27% 2.0s\u001b[0K\u001b[1G163.5 MiB [] 28% 2.0s\u001b[0K\u001b[1G163.5 MiB [] 30% 1.9s\u001b[0K\u001b[1G163.5 MiB [] 31% 1.9s\u001b[0K\u001b[1G163.5 MiB [] 32% 1.8s\u001b[0K\u001b[1G163.5 MiB [] 33% 1.8s\u001b[0K\u001b[1G163.5 MiB [] 34% 1.7s\u001b[0K\u001b[1G163.5 MiB [] 35% 1.7s\u001b[0K\u001b[1G163.5 MiB [] 36% 1.6s\u001b[0K\u001b[1G163.5 MiB [] 38% 1.6s\u001b[0K\u001b[1G163.5 MiB [] 39% 1.5s\u001b[0K\u001b[1G163.5 MiB [] 40% 1.5s\u001b[0K\u001b[1G163.5 MiB [] 41% 1.4s\u001b[0K\u001b[1G163.5 MiB [] 43% 1.4s\u001b[0K\u001b[1G163.5 MiB [] 43% 1.3s\u001b[0K\u001b[1G163.5 MiB [] 45% 1.3s\u001b[0K\u001b[1G163.5 MiB [] 46% 1.2s\u001b[0K\u001b[1G163.5 MiB [] 47% 1.2s\u001b[0K\u001b[1G163.5 MiB [] 48% 1.2s\u001b[0K\u001b[1G163.5 MiB [] 49% 1.1s\u001b[0K\u001b[1G163.5 MiB [] 50% 1.1s\u001b[0K\u001b[1G163.5 MiB [] 51% 1.1s\u001b[0K\u001b[1G163.5 MiB [] 52% 1.1s\u001b[0K\u001b[1G163.5 MiB [] 53% 1.0s\u001b[0K\u001b[1G163.5 MiB [] 55% 1.0s\u001b[0K\u001b[1G163.5 MiB [] 56% 0.9s\u001b[0K\u001b[1G163.5 MiB [] 57% 0.9s\u001b[0K\u001b[1G163.5 MiB [] 59% 0.9s\u001b[0K\u001b[1G163.5 MiB [] 60% 0.9s\u001b[0K\u001b[1G163.5 MiB [] 61% 0.8s\u001b[0K\u001b[1G163.5 MiB [] 62% 0.8s\u001b[0K\u001b[1G163.5 MiB [] 64% 0.8s\u001b[0K\u001b[1G163.5 MiB [] 65% 0.7s\u001b[0K\u001b[1G163.5 MiB [] 66% 0.7s\u001b[0K\u001b[1G163.5 MiB [] 67% 0.7s\u001b[0K\u001b[1G163.5 MiB [] 68% 0.7s\u001b[0K\u001b[1G163.5 MiB [] 69% 0.6s\u001b[0K\u001b[1G163.5 MiB [] 70% 0.6s\u001b[0K\u001b[1G163.5 MiB [] 71% 0.6s\u001b[0K\u001b[1G163.5 MiB [] 72% 0.6s\u001b[0K\u001b[1G163.5 MiB [] 73% 0.6s\u001b[0K\u001b[1G163.5 MiB [] 74% 0.5s\u001b[0K\u001b[1G163.5 MiB [] 75% 0.5s\u001b[0K\u001b[1G163.5 MiB [] 76% 0.5s\u001b[0K\u001b[1G163.5 MiB [] 77% 0.5s\u001b[0K\u001b[1G163.5 MiB [] 78% 0.4s\u001b[0K\u001b[1G163.5 MiB [] 80% 0.4s\u001b[0K\u001b[1G163.5 MiB [] 81% 0.4s\u001b[0K\u001b[1G163.5 MiB [] 82% 0.4s\u001b[0K\u001b[1G163.5 MiB [] 83% 0.4s\u001b[0K\u001b[1G163.5 MiB [] 84% 0.3s\u001b[0K\u001b[1G163.5 MiB [] 85% 0.3s\u001b[0K\u001b[1G163.5 MiB [] 86% 0.3s\u001b[0K\u001b[1G163.5 MiB [] 87% 0.2s\u001b[0K\u001b[1G163.5 MiB [] 89% 0.2s\u001b[0K\u001b[1G163.5 MiB [] 90% 0.2s\u001b[0K\u001b[1G163.5 MiB [] 91% 0.2s\u001b[0K\u001b[1G163.5 MiB [] 92% 0.1s\u001b[0K\u001b[1G163.5 MiB [] 94% 0.1s\u001b[0K\u001b[1G163.5 MiB [] 96% 0.1s\u001b[0K\u001b[1G163.5 MiB [] 97% 0.1s\u001b[0K\u001b[1G163.5 MiB [] 98% 0.0s\u001b[0K\u001b[1G163.5 MiB [] 99% 0.0s\u001b[0K\u001b[1G163.5 MiB [] 100% 0.0s\u001b[0K\n",
            "Chromium 133.0.6943.16 (playwright build v1155) downloaded to /root/.cache/ms-playwright/chromium-1155\n",
            "Downloading Chromium Headless Shell 133.0.6943.16 (playwright build v1155)\u001b[2m from https://cdn.playwright.dev/dbazure/download/playwright/builds/chromium/1155/chromium-headless-shell-linux.zip\u001b[22m\n",
            "\u001b[1G99.9 MiB [] 0% 0.0s\u001b[0K\u001b[1G99.9 MiB [] 0% 61.8s\u001b[0K\u001b[1G99.9 MiB [] 0% 66.0s\u001b[0K\u001b[1G99.9 MiB [] 0% 41.9s\u001b[0K\u001b[1G99.9 MiB [] 0% 30.1s\u001b[0K\u001b[1G99.9 MiB [] 0% 22.4s\u001b[0K\u001b[1G99.9 MiB [] 0% 18.1s\u001b[0K\u001b[1G99.9 MiB [] 1% 12.7s\u001b[0K\u001b[1G99.9 MiB [] 1% 10.7s\u001b[0K\u001b[1G99.9 MiB [] 2% 8.2s\u001b[0K\u001b[1G99.9 MiB [] 2% 6.0s\u001b[0K\u001b[1G99.9 MiB [] 3% 4.8s\u001b[0K\u001b[1G99.9 MiB [] 5% 4.0s\u001b[0K\u001b[1G99.9 MiB [] 6% 3.2s\u001b[0K\u001b[1G99.9 MiB [] 7% 3.0s\u001b[0K\u001b[1G99.9 MiB [] 8% 2.9s\u001b[0K\u001b[1G99.9 MiB [] 9% 2.9s\u001b[0K\u001b[1G99.9 MiB [] 10% 2.7s\u001b[0K\u001b[1G99.9 MiB [] 11% 2.5s\u001b[0K\u001b[1G99.9 MiB [] 13% 2.3s\u001b[0K\u001b[1G99.9 MiB [] 14% 2.1s\u001b[0K\u001b[1G99.9 MiB [] 15% 2.0s\u001b[0K\u001b[1G99.9 MiB [] 17% 1.9s\u001b[0K\u001b[1G99.9 MiB [] 18% 1.8s\u001b[0K\u001b[1G99.9 MiB [] 19% 1.7s\u001b[0K\u001b[1G99.9 MiB [] 21% 1.6s\u001b[0K\u001b[1G99.9 MiB [] 23% 1.5s\u001b[0K\u001b[1G99.9 MiB [] 24% 1.5s\u001b[0K\u001b[1G99.9 MiB [] 26% 1.4s\u001b[0K\u001b[1G99.9 MiB [] 27% 1.3s\u001b[0K\u001b[1G99.9 MiB [] 29% 1.3s\u001b[0K\u001b[1G99.9 MiB [] 31% 1.2s\u001b[0K\u001b[1G99.9 MiB [] 32% 1.2s\u001b[0K\u001b[1G99.9 MiB [] 34% 1.1s\u001b[0K\u001b[1G99.9 MiB [] 35% 1.1s\u001b[0K\u001b[1G99.9 MiB [] 37% 1.1s\u001b[0K\u001b[1G99.9 MiB [] 39% 1.0s\u001b[0K\u001b[1G99.9 MiB [] 40% 1.0s\u001b[0K\u001b[1G99.9 MiB [] 42% 0.9s\u001b[0K\u001b[1G99.9 MiB [] 42% 1.0s\u001b[0K\u001b[1G99.9 MiB [] 42% 1.1s\u001b[0K\u001b[1G99.9 MiB [] 43% 1.1s\u001b[0K\u001b[1G99.9 MiB [] 45% 1.0s\u001b[0K\u001b[1G99.9 MiB [] 47% 1.0s\u001b[0K\u001b[1G99.9 MiB [] 48% 0.9s\u001b[0K\u001b[1G99.9 MiB [] 50% 0.9s\u001b[0K\u001b[1G99.9 MiB [] 52% 0.8s\u001b[0K\u001b[1G99.9 MiB [] 54% 0.8s\u001b[0K\u001b[1G99.9 MiB [] 55% 0.8s\u001b[0K\u001b[1G99.9 MiB [] 57% 0.7s\u001b[0K\u001b[1G99.9 MiB [] 58% 0.7s\u001b[0K\u001b[1G99.9 MiB [] 60% 0.7s\u001b[0K\u001b[1G99.9 MiB [] 62% 0.6s\u001b[0K\u001b[1G99.9 MiB [] 64% 0.6s\u001b[0K\u001b[1G99.9 MiB [] 66% 0.5s\u001b[0K\u001b[1G99.9 MiB [] 67% 0.5s\u001b[0K\u001b[1G99.9 MiB [] 68% 0.5s\u001b[0K\u001b[1G99.9 MiB [] 69% 0.5s\u001b[0K\u001b[1G99.9 MiB [] 70% 0.5s\u001b[0K\u001b[1G99.9 MiB [] 72% 0.4s\u001b[0K\u001b[1G99.9 MiB [] 74% 0.4s\u001b[0K\u001b[1G99.9 MiB [] 76% 0.4s\u001b[0K\u001b[1G99.9 MiB [] 78% 0.4s\u001b[0K\u001b[1G99.9 MiB [] 79% 0.3s\u001b[0K\u001b[1G99.9 MiB [] 80% 0.3s\u001b[0K\u001b[1G99.9 MiB [] 81% 0.3s\u001b[0K\u001b[1G99.9 MiB [] 82% 0.3s\u001b[0K\u001b[1G99.9 MiB [] 83% 0.3s\u001b[0K\u001b[1G99.9 MiB [] 85% 0.2s\u001b[0K\u001b[1G99.9 MiB [] 86% 0.2s\u001b[0K\u001b[1G99.9 MiB [] 87% 0.2s\u001b[0K\u001b[1G99.9 MiB [] 88% 0.2s\u001b[0K\u001b[1G99.9 MiB [] 89% 0.2s\u001b[0K\u001b[1G99.9 MiB [] 90% 0.2s\u001b[0K\u001b[1G99.9 MiB [] 91% 0.1s\u001b[0K\u001b[1G99.9 MiB [] 92% 0.1s\u001b[0K\u001b[1G99.9 MiB [] 93% 0.1s\u001b[0K\u001b[1G99.9 MiB [] 94% 0.1s\u001b[0K\u001b[1G99.9 MiB [] 95% 0.1s\u001b[0K\u001b[1G99.9 MiB [] 96% 0.1s\u001b[0K\u001b[1G99.9 MiB [] 97% 0.0s\u001b[0K\u001b[1G99.9 MiB [] 99% 0.0s\u001b[0K\u001b[1G99.9 MiB [] 100% 0.0s\u001b[0K\n",
            "Chromium Headless Shell 133.0.6943.16 (playwright build v1155) downloaded to /root/.cache/ms-playwright/chromium_headless_shell-1155\n",
            "Downloading Firefox 134.0 (playwright build v1471)\u001b[2m from https://cdn.playwright.dev/dbazure/download/playwright/builds/firefox/1471/firefox-ubuntu-22.04.zip\u001b[22m\n",
            "\u001b[1G88.7 MiB [] 0% 0.0s\u001b[0K\u001b[1G88.7 MiB [] 0% 28.7s\u001b[0K\u001b[1G88.7 MiB [] 0% 51.8s\u001b[0K\u001b[1G88.7 MiB [] 0% 57.4s\u001b[0K\u001b[1G88.7 MiB [] 0% 40.3s\u001b[0K\u001b[1G88.7 MiB [] 0% 68.5s\u001b[0K\u001b[1G88.7 MiB [] 0% 70.5s\u001b[0K\u001b[1G88.7 MiB [] 0% 60.9s\u001b[0K\u001b[1G88.7 MiB [] 0% 57.2s\u001b[0K\u001b[1G88.7 MiB [] 0% 48.3s\u001b[0K\u001b[1G88.7 MiB [] 0% 47.0s\u001b[0K\u001b[1G88.7 MiB [] 0% 42.1s\u001b[0K\u001b[1G88.7 MiB [] 1% 36.6s\u001b[0K\u001b[1G88.7 MiB [] 1% 37.4s\u001b[0K\u001b[1G88.7 MiB [] 1% 37.3s\u001b[0K\u001b[1G88.7 MiB [] 1% 37.1s\u001b[0K\u001b[1G88.7 MiB [] 1% 35.4s\u001b[0K\u001b[1G88.7 MiB [] 1% 32.9s\u001b[0K\u001b[1G88.7 MiB [] 1% 34.8s\u001b[0K\u001b[1G88.7 MiB [] 1% 35.0s\u001b[0K\u001b[1G88.7 MiB [] 1% 34.3s\u001b[0K\u001b[1G88.7 MiB [] 1% 33.2s\u001b[0K\u001b[1G88.7 MiB [] 2% 32.7s\u001b[0K\u001b[1G88.7 MiB [] 2% 32.2s\u001b[0K\u001b[1G88.7 MiB [] 2% 33.5s\u001b[0K\u001b[1G88.7 MiB [] 2% 33.9s\u001b[0K\u001b[1G88.7 MiB [] 2% 32.6s\u001b[0K\u001b[1G88.7 MiB [] 2% 30.9s\u001b[0K\u001b[1G88.7 MiB [] 2% 30.7s\u001b[0K\u001b[1G88.7 MiB [] 3% 29.1s\u001b[0K\u001b[1G88.7 MiB [] 3% 29.4s\u001b[0K\u001b[1G88.7 MiB [] 3% 29.1s\u001b[0K\u001b[1G88.7 MiB [] 3% 29.5s\u001b[0K\u001b[1G88.7 MiB [] 3% 28.2s\u001b[0K\u001b[1G88.7 MiB [] 3% 27.3s\u001b[0K\u001b[1G88.7 MiB [] 3% 27.4s\u001b[0K\u001b[1G88.7 MiB [] 4% 25.8s\u001b[0K\u001b[1G88.7 MiB [] 4% 24.9s\u001b[0K\u001b[1G88.7 MiB [] 4% 24.5s\u001b[0K\u001b[1G88.7 MiB [] 4% 24.3s\u001b[0K\u001b[1G88.7 MiB [] 5% 24.3s\u001b[0K\u001b[1G88.7 MiB [] 5% 23.3s\u001b[0K\u001b[1G88.7 MiB [] 5% 22.7s\u001b[0K\u001b[1G88.7 MiB [] 5% 22.6s\u001b[0K\u001b[1G88.7 MiB [] 5% 22.5s\u001b[0K\u001b[1G88.7 MiB [] 5% 22.7s\u001b[0K\u001b[1G88.7 MiB [] 6% 22.7s\u001b[0K\u001b[1G88.7 MiB [] 6% 23.0s\u001b[0K\u001b[1G88.7 MiB [] 6% 22.9s\u001b[0K\u001b[1G88.7 MiB [] 6% 22.8s\u001b[0K\u001b[1G88.7 MiB [] 6% 22.7s\u001b[0K\u001b[1G88.7 MiB [] 6% 22.6s\u001b[0K\u001b[1G88.7 MiB [] 6% 22.8s\u001b[0K\u001b[1G88.7 MiB [] 6% 22.9s\u001b[0K\u001b[1G88.7 MiB [] 7% 22.9s\u001b[0K\u001b[1G88.7 MiB [] 7% 23.4s\u001b[0K\u001b[1G88.7 MiB [] 7% 23.5s\u001b[0K\u001b[1G88.7 MiB [] 7% 23.4s\u001b[0K\u001b[1G88.7 MiB [] 7% 23.5s\u001b[0K\u001b[1G88.7 MiB [] 7% 23.4s\u001b[0K\u001b[1G88.7 MiB [] 7% 23.3s\u001b[0K\u001b[1G88.7 MiB [] 7% 23.5s\u001b[0K\u001b[1G88.7 MiB [] 7% 24.0s\u001b[0K\u001b[1G88.7 MiB [] 8% 23.9s\u001b[0K\u001b[1G88.7 MiB [] 8% 24.1s\u001b[0K\u001b[1G88.7 MiB [] 8% 24.2s\u001b[0K\u001b[1G88.7 MiB [] 8% 24.5s\u001b[0K\u001b[1G88.7 MiB [] 8% 24.7s\u001b[0K\u001b[1G88.7 MiB [] 8% 24.5s\u001b[0K\u001b[1G88.7 MiB [] 8% 24.6s\u001b[0K\u001b[1G88.7 MiB [] 9% 25.7s\u001b[0K\u001b[1G88.7 MiB [] 9% 26.0s\u001b[0K\u001b[1G88.7 MiB [] 9% 26.5s\u001b[0K\u001b[1G88.7 MiB [] 9% 25.8s\u001b[0K\u001b[1G88.7 MiB [] 10% 25.7s\u001b[0K\u001b[1G88.7 MiB [] 10% 25.6s\u001b[0K\u001b[1G88.7 MiB [] 10% 25.4s\u001b[0K\u001b[1G88.7 MiB [] 10% 25.1s\u001b[0K\u001b[1G88.7 MiB [] 10% 25.0s\u001b[0K\u001b[1G88.7 MiB [] 10% 25.2s\u001b[0K\u001b[1G88.7 MiB [] 11% 25.0s\u001b[0K\u001b[1G88.7 MiB [] 11% 25.6s\u001b[0K\u001b[1G88.7 MiB [] 11% 25.5s\u001b[0K\u001b[1G88.7 MiB [] 11% 25.7s\u001b[0K\u001b[1G88.7 MiB [] 11% 25.4s\u001b[0K\u001b[1G88.7 MiB [] 11% 25.5s\u001b[0K\u001b[1G88.7 MiB [] 11% 25.4s\u001b[0K\u001b[1G88.7 MiB [] 12% 25.1s\u001b[0K\u001b[1G88.7 MiB [] 12% 25.0s\u001b[0K\u001b[1G88.7 MiB [] 12% 24.8s\u001b[0K\u001b[1G88.7 MiB [] 12% 24.7s\u001b[0K\u001b[1G88.7 MiB [] 12% 24.2s\u001b[0K\u001b[1G88.7 MiB [] 12% 24.0s\u001b[0K\u001b[1G88.7 MiB [] 13% 24.1s\u001b[0K\u001b[1G88.7 MiB [] 13% 24.0s\u001b[0K\u001b[1G88.7 MiB [] 13% 23.9s\u001b[0K\u001b[1G88.7 MiB [] 13% 23.8s\u001b[0K\u001b[1G88.7 MiB [] 13% 23.7s\u001b[0K\u001b[1G88.7 MiB [] 13% 23.4s\u001b[0K\u001b[1G88.7 MiB [] 13% 23.1s\u001b[0K\u001b[1G88.7 MiB [] 14% 22.5s\u001b[0K\u001b[1G88.7 MiB [] 14% 21.6s\u001b[0K\u001b[1G88.7 MiB [] 15% 21.3s\u001b[0K\u001b[1G88.7 MiB [] 15% 21.1s\u001b[0K\u001b[1G88.7 MiB [] 15% 20.9s\u001b[0K\u001b[1G88.7 MiB [] 16% 20.3s\u001b[0K\u001b[1G88.7 MiB [] 16% 20.1s\u001b[0K\u001b[1G88.7 MiB [] 16% 20.0s\u001b[0K\u001b[1G88.7 MiB [] 17% 20.0s\u001b[0K\u001b[1G88.7 MiB [] 17% 19.9s\u001b[0K\u001b[1G88.7 MiB [] 17% 19.4s\u001b[0K\u001b[1G88.7 MiB [] 17% 19.6s\u001b[0K\u001b[1G88.7 MiB [] 17% 19.7s\u001b[0K\u001b[1G88.7 MiB [] 18% 19.9s\u001b[0K\u001b[1G88.7 MiB [] 18% 20.0s\u001b[0K\u001b[1G88.7 MiB [] 18% 19.9s\u001b[0K\u001b[1G88.7 MiB [] 18% 20.1s\u001b[0K\u001b[1G88.7 MiB [] 18% 20.2s\u001b[0K\u001b[1G88.7 MiB [] 19% 20.2s\u001b[0K\u001b[1G88.7 MiB [] 19% 20.1s\u001b[0K\u001b[1G88.7 MiB [] 19% 20.2s\u001b[0K\u001b[1G88.7 MiB [] 19% 20.3s\u001b[0K\u001b[1G88.7 MiB [] 19% 20.2s\u001b[0K\u001b[1G88.7 MiB [] 20% 20.2s\u001b[0K\u001b[1G88.7 MiB [] 20% 20.1s\u001b[0K\u001b[1G88.7 MiB [] 20% 20.0s\u001b[0K\u001b[1G88.7 MiB [] 20% 19.8s\u001b[0K\u001b[1G88.7 MiB [] 21% 19.3s\u001b[0K\u001b[1G88.7 MiB [] 21% 18.9s\u001b[0K\u001b[1G88.7 MiB [] 21% 18.8s\u001b[0K\u001b[1G88.7 MiB [] 21% 18.7s\u001b[0K\u001b[1G88.7 MiB [] 21% 18.6s\u001b[0K\u001b[1G88.7 MiB [] 22% 18.5s\u001b[0K\u001b[1G88.7 MiB [] 22% 18.4s\u001b[0K\u001b[1G88.7 MiB [] 22% 18.3s\u001b[0K\u001b[1G88.7 MiB [] 23% 18.0s\u001b[0K\u001b[1G88.7 MiB [] 23% 17.9s\u001b[0K\u001b[1G88.7 MiB [] 23% 17.8s\u001b[0K\u001b[1G88.7 MiB [] 23% 17.7s\u001b[0K\u001b[1G88.7 MiB [] 23% 17.4s\u001b[0K\u001b[1G88.7 MiB [] 24% 17.4s\u001b[0K\u001b[1G88.7 MiB [] 24% 17.2s\u001b[0K\u001b[1G88.7 MiB [] 24% 17.1s\u001b[0K\u001b[1G88.7 MiB [] 24% 17.0s\u001b[0K\u001b[1G88.7 MiB [] 25% 16.9s\u001b[0K\u001b[1G88.7 MiB [] 25% 16.8s\u001b[0K\u001b[1G88.7 MiB [] 25% 16.7s\u001b[0K\u001b[1G88.7 MiB [] 25% 16.6s\u001b[0K\u001b[1G88.7 MiB [] 25% 16.5s\u001b[0K\u001b[1G88.7 MiB [] 26% 16.2s\u001b[0K\u001b[1G88.7 MiB [] 26% 15.9s\u001b[0K\u001b[1G88.7 MiB [] 27% 15.8s\u001b[0K\u001b[1G88.7 MiB [] 27% 15.7s\u001b[0K\u001b[1G88.7 MiB [] 27% 15.3s\u001b[0K\u001b[1G88.7 MiB [] 28% 15.2s\u001b[0K\u001b[1G88.7 MiB [] 28% 14.6s\u001b[0K\u001b[1G88.7 MiB [] 29% 14.4s\u001b[0K\u001b[1G88.7 MiB [] 29% 14.5s\u001b[0K\u001b[1G88.7 MiB [] 29% 14.3s\u001b[0K\u001b[1G88.7 MiB [] 30% 13.7s\u001b[0K\u001b[1G88.7 MiB [] 30% 13.6s\u001b[0K\u001b[1G88.7 MiB [] 31% 13.3s\u001b[0K\u001b[1G88.7 MiB [] 32% 12.7s\u001b[0K\u001b[1G88.7 MiB [] 32% 12.5s\u001b[0K\u001b[1G88.7 MiB [] 33% 12.4s\u001b[0K\u001b[1G88.7 MiB [] 33% 12.3s\u001b[0K\u001b[1G88.7 MiB [] 33% 12.2s\u001b[0K\u001b[1G88.7 MiB [] 34% 11.8s\u001b[0K\u001b[1G88.7 MiB [] 36% 11.1s\u001b[0K\u001b[1G88.7 MiB [] 36% 10.9s\u001b[0K\u001b[1G88.7 MiB [] 37% 10.7s\u001b[0K\u001b[1G88.7 MiB [] 38% 10.2s\u001b[0K\u001b[1G88.7 MiB [] 39% 9.8s\u001b[0K\u001b[1G88.7 MiB [] 39% 9.7s\u001b[0K\u001b[1G88.7 MiB [] 40% 9.6s\u001b[0K\u001b[1G88.7 MiB [] 40% 9.3s\u001b[0K\u001b[1G88.7 MiB [] 41% 9.2s\u001b[0K\u001b[1G88.7 MiB [] 42% 8.9s\u001b[0K\u001b[1G88.7 MiB [] 44% 8.2s\u001b[0K\u001b[1G88.7 MiB [] 45% 8.0s\u001b[0K\u001b[1G88.7 MiB [] 45% 7.8s\u001b[0K\u001b[1G88.7 MiB [] 47% 7.3s\u001b[0K\u001b[1G88.7 MiB [] 48% 6.9s\u001b[0K\u001b[1G88.7 MiB [] 49% 6.7s\u001b[0K\u001b[1G88.7 MiB [] 49% 6.6s\u001b[0K\u001b[1G88.7 MiB [] 50% 6.5s\u001b[0K\u001b[1G88.7 MiB [] 51% 6.3s\u001b[0K\u001b[1G88.7 MiB [] 51% 6.2s\u001b[0K\u001b[1G88.7 MiB [] 52% 6.0s\u001b[0K\u001b[1G88.7 MiB [] 53% 6.0s\u001b[0K\u001b[1G88.7 MiB [] 53% 5.9s\u001b[0K\u001b[1G88.7 MiB [] 53% 5.8s\u001b[0K\u001b[1G88.7 MiB [] 55% 5.5s\u001b[0K\u001b[1G88.7 MiB [] 55% 5.4s\u001b[0K\u001b[1G88.7 MiB [] 57% 5.1s\u001b[0K\u001b[1G88.7 MiB [] 58% 4.8s\u001b[0K\u001b[1G88.7 MiB [] 60% 4.5s\u001b[0K\u001b[1G88.7 MiB [] 60% 4.4s\u001b[0K\u001b[1G88.7 MiB [] 61% 4.3s\u001b[0K\u001b[1G88.7 MiB [] 62% 4.2s\u001b[0K\u001b[1G88.7 MiB [] 63% 3.9s\u001b[0K\u001b[1G88.7 MiB [] 65% 3.6s\u001b[0K\u001b[1G88.7 MiB [] 66% 3.5s\u001b[0K\u001b[1G88.7 MiB [] 68% 3.2s\u001b[0K\u001b[1G88.7 MiB [] 69% 3.1s\u001b[0K\u001b[1G88.7 MiB [] 70% 2.9s\u001b[0K\u001b[1G88.7 MiB [] 71% 2.9s\u001b[0K\u001b[1G88.7 MiB [] 73% 2.6s\u001b[0K\u001b[1G88.7 MiB [] 74% 2.4s\u001b[0K\u001b[1G88.7 MiB [] 75% 2.4s\u001b[0K\u001b[1G88.7 MiB [] 77% 2.1s\u001b[0K\u001b[1G88.7 MiB [] 78% 2.0s\u001b[0K\u001b[1G88.7 MiB [] 79% 1.9s\u001b[0K\u001b[1G88.7 MiB [] 81% 1.7s\u001b[0K\u001b[1G88.7 MiB [] 82% 1.6s\u001b[0K\u001b[1G88.7 MiB [] 83% 1.4s\u001b[0K\u001b[1G88.7 MiB [] 86% 1.2s\u001b[0K\u001b[1G88.7 MiB [] 88% 1.0s\u001b[0K\u001b[1G88.7 MiB [] 89% 0.8s\u001b[0K\u001b[1G88.7 MiB [] 90% 0.7s\u001b[0K\u001b[1G88.7 MiB [] 92% 0.6s\u001b[0K\u001b[1G88.7 MiB [] 94% 0.5s\u001b[0K\u001b[1G88.7 MiB [] 94% 0.4s\u001b[0K\u001b[1G88.7 MiB [] 96% 0.3s\u001b[0K\u001b[1G88.7 MiB [] 97% 0.2s\u001b[0K\u001b[1G88.7 MiB [] 99% 0.0s\u001b[0K\u001b[1G88.7 MiB [] 100% 0.0s\u001b[0K\n",
            "Firefox 134.0 (playwright build v1471) downloaded to /root/.cache/ms-playwright/firefox-1471\n",
            "Downloading Webkit 18.2 (playwright build v2123)\u001b[2m from https://cdn.playwright.dev/dbazure/download/playwright/builds/webkit/2123/webkit-ubuntu-22.04.zip\u001b[22m\n",
            "\u001b[1G89.2 MiB [] 0% 0.0s\u001b[0K\u001b[1G89.2 MiB [] 0% 26.7s\u001b[0K\u001b[1G89.2 MiB [] 0% 14.5s\u001b[0K\u001b[1G89.2 MiB [] 0% 7.9s\u001b[0K\u001b[1G89.2 MiB [] 1% 4.7s\u001b[0K\u001b[1G89.2 MiB [] 1% 4.4s\u001b[0K\u001b[1G89.2 MiB [] 2% 3.6s\u001b[0K\u001b[1G89.2 MiB [] 3% 3.5s\u001b[0K\u001b[1G89.2 MiB [] 4% 3.0s\u001b[0K\u001b[1G89.2 MiB [] 5% 2.6s\u001b[0K\u001b[1G89.2 MiB [] 6% 2.4s\u001b[0K\u001b[1G89.2 MiB [] 7% 2.2s\u001b[0K\u001b[1G89.2 MiB [] 8% 2.0s\u001b[0K\u001b[1G89.2 MiB [] 9% 2.0s\u001b[0K\u001b[1G89.2 MiB [] 10% 1.9s\u001b[0K\u001b[1G89.2 MiB [] 11% 2.0s\u001b[0K\u001b[1G89.2 MiB [] 12% 2.0s\u001b[0K\u001b[1G89.2 MiB [] 12% 2.1s\u001b[0K\u001b[1G89.2 MiB [] 13% 2.1s\u001b[0K\u001b[1G89.2 MiB [] 14% 2.0s\u001b[0K\u001b[1G89.2 MiB [] 15% 1.9s\u001b[0K\u001b[1G89.2 MiB [] 16% 1.8s\u001b[0K\u001b[1G89.2 MiB [] 17% 1.9s\u001b[0K\u001b[1G89.2 MiB [] 18% 1.8s\u001b[0K\u001b[1G89.2 MiB [] 19% 1.8s\u001b[0K\u001b[1G89.2 MiB [] 20% 1.8s\u001b[0K\u001b[1G89.2 MiB [] 22% 1.7s\u001b[0K\u001b[1G89.2 MiB [] 24% 1.6s\u001b[0K\u001b[1G89.2 MiB [] 25% 1.6s\u001b[0K\u001b[1G89.2 MiB [] 27% 1.5s\u001b[0K\u001b[1G89.2 MiB [] 28% 1.4s\u001b[0K\u001b[1G89.2 MiB [] 30% 1.3s\u001b[0K\u001b[1G89.2 MiB [] 32% 1.2s\u001b[0K\u001b[1G89.2 MiB [] 34% 1.2s\u001b[0K\u001b[1G89.2 MiB [] 37% 1.1s\u001b[0K\u001b[1G89.2 MiB [] 39% 1.0s\u001b[0K\u001b[1G89.2 MiB [] 41% 1.0s\u001b[0K\u001b[1G89.2 MiB [] 41% 0.9s\u001b[0K\u001b[1G89.2 MiB [] 44% 0.9s\u001b[0K\u001b[1G89.2 MiB [] 46% 0.8s\u001b[0K\u001b[1G89.2 MiB [] 48% 0.8s\u001b[0K\u001b[1G89.2 MiB [] 51% 0.7s\u001b[0K\u001b[1G89.2 MiB [] 52% 0.7s\u001b[0K\u001b[1G89.2 MiB [] 54% 0.7s\u001b[0K\u001b[1G89.2 MiB [] 57% 0.6s\u001b[0K\u001b[1G89.2 MiB [] 60% 0.6s\u001b[0K\u001b[1G89.2 MiB [] 62% 0.5s\u001b[0K\u001b[1G89.2 MiB [] 64% 0.5s\u001b[0K\u001b[1G89.2 MiB [] 67% 0.4s\u001b[0K\u001b[1G89.2 MiB [] 69% 0.4s\u001b[0K\u001b[1G89.2 MiB [] 71% 0.4s\u001b[0K\u001b[1G89.2 MiB [] 72% 0.4s\u001b[0K\u001b[1G89.2 MiB [] 73% 0.3s\u001b[0K\u001b[1G89.2 MiB [] 74% 0.3s\u001b[0K\u001b[1G89.2 MiB [] 75% 0.3s\u001b[0K\u001b[1G89.2 MiB [] 77% 0.3s\u001b[0K\u001b[1G89.2 MiB [] 78% 0.3s\u001b[0K\u001b[1G89.2 MiB [] 79% 0.3s\u001b[0K\u001b[1G89.2 MiB [] 80% 0.3s\u001b[0K\u001b[1G89.2 MiB [] 81% 0.3s\u001b[0K\u001b[1G89.2 MiB [] 82% 0.2s\u001b[0K\u001b[1G89.2 MiB [] 83% 0.2s\u001b[0K\u001b[1G89.2 MiB [] 85% 0.2s\u001b[0K\u001b[1G89.2 MiB [] 86% 0.2s\u001b[0K\u001b[1G89.2 MiB [] 87% 0.2s\u001b[0K\u001b[1G89.2 MiB [] 89% 0.2s\u001b[0K\u001b[1G89.2 MiB [] 90% 0.1s\u001b[0K\u001b[1G89.2 MiB [] 91% 0.1s\u001b[0K\u001b[1G89.2 MiB [] 92% 0.1s\u001b[0K\u001b[1G89.2 MiB [] 94% 0.1s\u001b[0K\u001b[1G89.2 MiB [] 95% 0.1s\u001b[0K\u001b[1G89.2 MiB [] 96% 0.0s\u001b[0K\u001b[1G89.2 MiB [] 98% 0.0s\u001b[0K\u001b[1G89.2 MiB [] 100% 0.0s\u001b[0K\n",
            "Webkit 18.2 (playwright build v2123) downloaded to /root/.cache/ms-playwright/webkit-2123\n",
            "Downloading FFMPEG playwright build v1011\u001b[2m from https://cdn.playwright.dev/dbazure/download/playwright/builds/ffmpeg/1011/ffmpeg-linux.zip\u001b[22m\n",
            "\u001b[1G2.3 MiB [] 0% 0.0s\u001b[0K\u001b[1G2.3 MiB [] 2% 0.6s\u001b[0K\u001b[1G2.3 MiB [] 9% 0.3s\u001b[0K\u001b[1G2.3 MiB [] 25% 0.1s\u001b[0K\u001b[1G2.3 MiB [] 60% 0.0s\u001b[0K\u001b[1G2.3 MiB [] 100% 0.0s\u001b[0K\n",
            "FFMPEG playwright build v1011 downloaded to /root/.cache/ms-playwright/ffmpeg-1011\n",
            "Playwright Host validation warning: \n",
            "╔══════════════════════════════════════════════════════╗\n",
            "║ Host system is missing dependencies to run browsers. ║\n",
            "║ Missing libraries:                                   ║\n",
            "║     libgtk-4.so.1                                    ║\n",
            "║     libgraphene-1.0.so.0                             ║\n",
            "║     libwoff2dec.so.1.0.2                             ║\n",
            "║     libgstgl-1.0.so.0                                ║\n",
            "║     libgstcodecparsers-1.0.so.0                      ║\n",
            "║     libavif.so.13                                    ║\n",
            "║     libharfbuzz-icu.so.0                             ║\n",
            "║     libenchant-2.so.2                                ║\n",
            "║     libsecret-1.so.0                                 ║\n",
            "║     libhyphen.so.0                                   ║\n",
            "║     libmanette-0.2.so.0                              ║\n",
            "╚══════════════════════════════════════════════════════╝\n",
            "    at validateDependenciesLinux (/usr/local/lib/python3.11/dist-packages/playwright/driver/package/lib/server/registry/dependencies.js:216:9)\n",
            "    at async Registry._validateHostRequirements (/usr/local/lib/python3.11/dist-packages/playwright/driver/package/lib/server/registry/index.js:865:43)\n",
            "    at async Registry._validateHostRequirementsForExecutableIfNeeded (/usr/local/lib/python3.11/dist-packages/playwright/driver/package/lib/server/registry/index.js:963:7)\n",
            "    at async Registry.validateHostRequirementsForExecutablesIfNeeded (/usr/local/lib/python3.11/dist-packages/playwright/driver/package/lib/server/registry/index.js:952:43)\n",
            "    at async t.<anonymous> (/usr/local/lib/python3.11/dist-packages/playwright/driver/package/lib/cli/program.js:122:7)\n"
          ]
        }
      ]
    },
    {
      "cell_type": "markdown",
      "source": [
        "## Выполним сбор статей\n",
        "В качестве источника знаний используем статьи с научно-популярного сайта [N + 1](https://nplus1.ru/). Возьмем последние статьи по космонавтике.\n",
        "\n",
        "Используем `AsyncChromiumLoader` из GigaChain для загрузки страницы. Этот инструмент приходится использовать, потому что выборка статей по направлениям подгружает перечень статей не сразу, а значит получить его обычным запросом `requests.get()` не получится.\n",
        "\n",
        "Из-за асинхронной работы `AsyncChromiumLoader` сделаем сбор статей отдельным скриптом.\n",
        "\n",
        "В результате выполнения скрипта мы получим отдельный текстовый файл со ссылками на статьи по космической тематике."
      ],
      "metadata": {
        "id": "sOBFNlFbE7-g"
      }
    },
    {
      "cell_type": "code",
      "source": [
        "%%writefile parser.py\n",
        "\n",
        "from langchain_community.document_loaders import AsyncChromiumLoader\n",
        "from bs4 import BeautifulSoup\n",
        "\n",
        "# Инициализируем загрузчик\n",
        "loader = AsyncChromiumLoader([\"https://org.gnicpm.ru/pomosh/klinicheskie-rekomendaczii.html\"])\n",
        "html = loader.load()\n",
        "articles = 'download'\n",
        "with open('page.html', 'w') as f:\n",
        "  f.write(html[0].page_content)\n",
        "soup = BeautifulSoup(html[0].page_content, 'html.parser')\n",
        "links = []\n",
        "with open('links.txt', 'w') as f:\n",
        "  for link in soup.find_all('a', class_=articles):\n",
        "    print(link)\n",
        "    links.append(link['href'])\n",
        "    f.write(link['href']+' ')\n"
      ],
      "metadata": {
        "id": "W4sZ74bw1vdk",
        "colab": {
          "base_uri": "https://localhost:8080/"
        },
        "outputId": "55e88f5f-c7ab-467d-f07b-86f55a75aaef"
      },
      "execution_count": 8,
      "outputs": [
        {
          "output_type": "stream",
          "name": "stdout",
          "text": [
            "Overwriting parser.py\n"
          ]
        }
      ]
    },
    {
      "cell_type": "code",
      "source": [
        "!python parser.py"
      ],
      "metadata": {
        "id": "z80wOeSRwpVa",
        "colab": {
          "base_uri": "https://localhost:8080/"
        },
        "outputId": "670a41a9-d9f7-4799-e599-f69977749d56"
      },
      "execution_count": 9,
      "outputs": [
        {
          "output_type": "stream",
          "name": "stdout",
          "text": [
            "USER_AGENT environment variable not set, consider setting it to identify your requests.\n",
            "<a class=\"download\" href=\"https://org.gnicpm.ru/wp-content/uploads/2024/01/323-fz.pdf\">Федеральный закон от 21.11.2011 № 323-ФЗ (ред. от 25.12.2023) «Об основах охраны здоровья граждан в Российской Федерации»</a>\n",
            "<a class=\"download\" href=\"https://org.gnicpm.ru/wp-content/uploads/2024/04/pp-rf-ot-17.11.2021-№1968.pdf\">Постановление Правительства РФ от 17.11.2021 № 1968 (ред. от 14.03.2024) «Об утверждении Правил поэтапного перехода медицинских организаций к оказанию медицинской помощи на основе клинических рекомендаций, разработанных и утвержденных в соответствии с частями 3, 4, 6 — 9 и 11 статьи 37 Федерального закона «Об основах охраны здоровья граждан в Российской Федерации»</a>\n",
            "<a class=\"download\" href=\"https://org.gnicpm.ru/wp-content/uploads/2024/05/postanovlenie-pravitelstva-rf-ot-28_12_2023-n-2353-v-redakczii-ot-23.03.2024g.pdf\">Постановление Правительства Российской Федерации от 28.12.2023 № 2353 «О Программе государственных гарантий бесплатного оказания гражданам медицинской помощи на 2024 год и на плановый период 2025 и 2026 годов»</a>\n",
            "<a class=\"download\" href=\"https://org.gnicpm.ru/wp-content/uploads/2024/04/pp-ot-14.03.2024-№299.pdf\">Постановление Правительства РФ от 14.03.2024 № 299 «О внесении изменений в постановление Правительства Российской Федерации от 17 ноября 2021 г. № 1968»</a>\n",
            "<a class=\"download\" href=\"https://cr.minzdrav.gov.ru/preview-cr/62_3\" rel=\"noopener\" target=\"_blank\">Артериальная гипертензия у взрослых</a>\n",
            "<a class=\"download\" href=\"https://cr.minzdrav.gov.ru/preview-cr/155_2\" rel=\"noopener\" target=\"blank\">Стабильная ишемическая болезнь сердца</a>\n",
            "<a class=\"download\" href=\"https://cr.minzdrav.gov.ru/preview-cr/160_1\" rel=\"noopener\" target=\"_blank\">Брадиаритмии и нарушения проводимости</a>\n",
            "<a class=\"download\" href=\"https://cr.minzdrav.gov.ru/preview-cr/382_1\" rel=\"noopener\" target=\"_blank\">Фибрилляция и трепетание предсердий у взрослых</a>\n",
            "<a class=\"download\" href=\"https://cr.minzdrav.gov.ru/preview-cr/619_2\" rel=\"noopener\" target=\"_blank\">Наджелудочковые тахикардии</a>\n",
            "<a class=\"download\" href=\"https://cr.minzdrav.gov.ru/preview-cr/569_1\" rel=\"noopener\" target=\"_blank\">Желудочковые нарушения ритма. Желудочковые тахикардии и внезапная сердечная смерть</a>\n",
            "<a class=\"download\" href=\"https://cr.minzdrav.gov.ru/preview-cr/156_2\" rel=\"noopener\" target=\"_blank\">Хроническая сердечная недостаточность</a>\n",
            "<a class=\"download\" href=\"https://cr.minzdrav.gov.ru/preview-cr/752_1\" rel=\"noopener\" target=\"_blank\">Нарушения липидного обмена</a>\n",
            "<a class=\"download\" href=\"https://cr.minzdrav.gov.ru/preview-cr/290_2\" rel=\"noopener\" target=\"_blank\">Сахарный диабет 2 типа у взрослых</a>\n",
            "<a class=\"download\" href=\"https://cr.minzdrav.gov.ru/preview-cr/277_1\" rel=\"noopener\" target=\"_blank\">Язвенная болезнь</a>\n",
            "<a class=\"download\" href=\"https://cr.minzdrav.gov.ru/preview-cr/273_4\" rel=\"noopener\" target=\"_blank\">Хронический панкреатит</a>\n",
            "<a class=\"download\" href=\"https://cr.minzdrav.gov.ru/preview-cr/655_1\" rel=\"noopener\" target=\"_blank\">Хронический бронхит</a>\n",
            "<a class=\"download\" href=\"https://cr.minzdrav.gov.ru/preview-cr/603_2\" rel=\"noopener\" target=\"_blank\">Хроническая обструктивная болезнь легких</a>\n",
            "<a class=\"download\" href=\"https://cr.minzdrav.gov.ru/preview-cr/359_3\" rel=\"noopener\" target=\"_blank\">Бронхиальная астма</a>\n",
            "<a class=\"download\" href=\"https://cr.minzdrav.gov.ru/preview-cr/654_1\" rel=\"noopener\" target=\"_blank\">Внебольничная пневмония у взрослых</a>\n",
            "<a class=\"download\" href=\"https://cr.minzdrav.gov.ru/preview-cr/677_1\" rel=\"noopener\" target=\"_blank\">Идиопатический легочный фиброз</a>\n",
            "<a class=\"download\" href=\"https://cr.minzdrav.gov.ru/preview-cr/469_3\" rel=\"noopener\" target=\"_blank\">Хроническая болезнь почек (ХБП)</a>\n",
            "<a class=\"download\" href=\"https://cr.minzdrav.gov.ru/preview-cr/708_2\" rel=\"noopener\" target=\"_blank\">Гастрит и дуоденит</a>\n",
            "<a class=\"download\" href=\"https://cr.minzdrav.gov.ru/preview-cr/738_1\" rel=\"noopener\" target=\"_blank\">Аденоматозный полипозный синдром</a>\n",
            "<a class=\"download\" href=\"https://cr.minzdrav.gov.ru/preview-cr/173_2\" rel=\"noopener\" target=\"_blank\">Полип анального канала</a>\n",
            "<a class=\"download\" href=\"https://cr.minzdrav.gov.ru/preview-cr/176_2\" rel=\"noopener\" target=\"_blank\">Болезнь Крона</a>\n",
            "<a class=\"download\" href=\"https://cr.minzdrav.gov.ru/preview-cr/193_2\" rel=\"noopener\" target=\"_blank\">Язвенный колит</a>\n",
            "<a class=\"download\" href=\"https://cr.minzdrav.gov.ru/preview-cr/711_2\" rel=\"noopener\" target=\"_blank\">Алкогольная болезнь печени</a>\n",
            "<a class=\"download\" href=\"https://cr.minzdrav.gov.ru/preview-cr/715_1\" rel=\"noopener\" target=\"_blank\">Цирроз и фиброз печени</a>\n",
            "<a class=\"download\" href=\"https://cr.minzdrav.gov.ru/preview-cr/748_1\" rel=\"noopener\" target=\"_blank\">Неалкогольная жировая болезнь печени у взрослых</a>\n",
            "<a class=\"download\" href=\"https://cr.minzdrav.gov.ru/preview-cr/783_1\" rel=\"noopener\" target=\"_blank\">Гиперчувствительный пневмонит</a>\n"
          ]
        }
      ]
    },
    {
      "cell_type": "markdown",
      "source": [
        "## Подготовка фрагментов статей, векторизация и загрузка в векторную БД\n",
        "\n",
        "Откроем файл со ссылками."
      ],
      "metadata": {
        "id": "oI9-sMh7jwbp"
      }
    },
    {
      "cell_type": "code",
      "source": [
        "\n",
        "with open('links.txt') as f:\n",
        "  sources = f.read()\n",
        "\n",
        "print(sources.split())\n"
      ],
      "metadata": {
        "id": "0nskjcYvPf34",
        "colab": {
          "base_uri": "https://localhost:8080/"
        },
        "outputId": "ba24981b-5ee2-4099-9c6a-2675c32c0940"
      },
      "execution_count": 10,
      "outputs": [
        {
          "output_type": "stream",
          "name": "stdout",
          "text": [
            "['https://org.gnicpm.ru/wp-content/uploads/2024/01/323-fz.pdf', 'https://org.gnicpm.ru/wp-content/uploads/2024/04/pp-rf-ot-17.11.2021-№1968.pdf', 'https://org.gnicpm.ru/wp-content/uploads/2024/05/postanovlenie-pravitelstva-rf-ot-28_12_2023-n-2353-v-redakczii-ot-23.03.2024g.pdf', 'https://org.gnicpm.ru/wp-content/uploads/2024/04/pp-ot-14.03.2024-№299.pdf', 'https://cr.minzdrav.gov.ru/preview-cr/62_3', 'https://cr.minzdrav.gov.ru/preview-cr/155_2', 'https://cr.minzdrav.gov.ru/preview-cr/160_1', 'https://cr.minzdrav.gov.ru/preview-cr/382_1', 'https://cr.minzdrav.gov.ru/preview-cr/619_2', 'https://cr.minzdrav.gov.ru/preview-cr/569_1', 'https://cr.minzdrav.gov.ru/preview-cr/156_2', 'https://cr.minzdrav.gov.ru/preview-cr/752_1', 'https://cr.minzdrav.gov.ru/preview-cr/290_2', 'https://cr.minzdrav.gov.ru/preview-cr/277_1', 'https://cr.minzdrav.gov.ru/preview-cr/273_4', 'https://cr.minzdrav.gov.ru/preview-cr/655_1', 'https://cr.minzdrav.gov.ru/preview-cr/603_2', 'https://cr.minzdrav.gov.ru/preview-cr/359_3', 'https://cr.minzdrav.gov.ru/preview-cr/654_1', 'https://cr.minzdrav.gov.ru/preview-cr/677_1', 'https://cr.minzdrav.gov.ru/preview-cr/469_3', 'https://cr.minzdrav.gov.ru/preview-cr/708_2', 'https://cr.minzdrav.gov.ru/preview-cr/738_1', 'https://cr.minzdrav.gov.ru/preview-cr/173_2', 'https://cr.minzdrav.gov.ru/preview-cr/176_2', 'https://cr.minzdrav.gov.ru/preview-cr/193_2', 'https://cr.minzdrav.gov.ru/preview-cr/711_2', 'https://cr.minzdrav.gov.ru/preview-cr/715_1', 'https://cr.minzdrav.gov.ru/preview-cr/748_1', 'https://cr.minzdrav.gov.ru/preview-cr/783_1']\n"
          ]
        }
      ]
    },
    {
      "cell_type": "markdown",
      "source": [
        "Импортируем нужные инструменты.\n"
      ],
      "metadata": {
        "id": "pyPxjOf_kKf0"
      }
    },
    {
      "cell_type": "code",
      "execution_count": 11,
      "metadata": {
        "id": "m2f6M6arOMAl"
      },
      "outputs": [],
      "source": [
        "from langchain.embeddings import HuggingFaceEmbeddings\n",
        "from langchain.retrievers import BM25Retriever, EnsembleRetriever\n",
        "from langchain.vectorstores.faiss import FAISS\n",
        "from langchain_core.documents import Document"
      ]
    },
    {
      "cell_type": "code",
      "source": [
        "import os\n",
        "os.environ['USER_AGENT'] = 'myagent'\n",
        "from langchain_community.document_loaders import WebBaseLoader\n",
        "from langchain.text_splitter import RecursiveCharacterTextSplitter"
      ],
      "metadata": {
        "id": "pas1ZuudO5NU"
      },
      "execution_count": 12,
      "outputs": []
    },
    {
      "cell_type": "markdown",
      "source": [
        "Осуществим загрузку веб-страниц по ссылкам."
      ],
      "metadata": {
        "id": "MC0m9FhBkZZd"
      }
    },
    {
      "cell_type": "code",
      "source": [
        "loader = WebBaseLoader(sources.split())"
      ],
      "metadata": {
        "id": "7_wNECKHRa2W"
      },
      "execution_count": 13,
      "outputs": []
    },
    {
      "cell_type": "code",
      "source": [
        "docs = loader.load()"
      ],
      "metadata": {
        "id": "EW7iXp3ZRqta"
      },
      "execution_count": 14,
      "outputs": []
    },
    {
      "cell_type": "code",
      "source": [
        "len(docs)"
      ],
      "metadata": {
        "id": "pGxTmSwgSCkn",
        "colab": {
          "base_uri": "https://localhost:8080/"
        },
        "outputId": "99828a75-9b4c-4f30-c870-7fbd5e8a0b42"
      },
      "execution_count": 15,
      "outputs": [
        {
          "output_type": "execute_result",
          "data": {
            "text/plain": [
              "30"
            ]
          },
          "metadata": {},
          "execution_count": 15
        }
      ]
    },
    {
      "cell_type": "markdown",
      "source": [
        "Разделим тексты статей на фрагменты длиной 500 символов и перекрытием в 100 символов."
      ],
      "metadata": {
        "id": "2yfzs7Bwkobh"
      }
    },
    {
      "cell_type": "code",
      "source": [
        "text_splitter = RecursiveCharacterTextSplitter(chunk_size=500,\n",
        "                                              chunk_overlap=100)\n",
        "split_docs = text_splitter.split_documents(docs)"
      ],
      "metadata": {
        "id": "g2VXTBEDSFr7"
      },
      "execution_count": 16,
      "outputs": []
    },
    {
      "cell_type": "code",
      "source": [
        "len(split_docs)"
      ],
      "metadata": {
        "id": "G-HTEVmKTLqZ",
        "colab": {
          "base_uri": "https://localhost:8080/"
        },
        "outputId": "1133ab50-8d43-4564-d326-5fe6b8502aab"
      },
      "execution_count": 17,
      "outputs": [
        {
          "output_type": "execute_result",
          "data": {
            "text/plain": [
              "19038"
            ]
          },
          "metadata": {},
          "execution_count": 17
        }
      ]
    },
    {
      "cell_type": "code",
      "source": [
        "split_docs[1]"
      ],
      "metadata": {
        "id": "SqHmB8_NTNS7",
        "colab": {
          "base_uri": "https://localhost:8080/"
        },
        "outputId": "48f7d674-c039-4dc8-e98f-0ed7fe5d97c6"
      },
      "execution_count": 18,
      "outputs": [
        {
          "output_type": "execute_result",
          "data": {
            "text/plain": [
              "Document(metadata={'source': 'https://org.gnicpm.ru/wp-content/uploads/2024/01/323-fz.pdf'}, page_content='xœ�}\\x18Ä6Ny¯ìØ¥Ö\\x03¢¤\\x11˜.ã1¶ÃĞ\\x0bv¨Àã$Ü\\x06à+Øª¯Ø30��Ju=»\\x014\\xa0×Ü¦)Å\"s”\\xadj\\'|QêÓƒdÒªU\\x1aµZR?\\x0b…á!h[…ÅNãeŸ·ÌãÁ²<9�i³°\\x0eÕzÆîò0\\x16öä¡\\x11µj\\x0eğ+…T}¤JRodı\\x01\\x1cQ•ÃV8KĞæÃ-§²ş\\x11iqâ’`d\\x11&\\x06Ó•�ùä*GœbJ„æq±\\x1eŸ†}\\x08fÑ‰f–ÈLØ¡fu4�QO\\x12\\x04A\\x10\\x0411Œá)õl`’]\\x0eA\\x10g\"ü\\x1bp¸ƒn†wõaĞƒ>ü!\\x18À€j\\x04#ª\\tL¨f°„?\\x00‹P+ØÂïƒ\\rì¨vp\\xa0: \\x015\\x01\\x12Q\\x13!\\tÕ\\tÉ¨I�‚š,4\\x05RÃïA*¤‡�AšĞtp¡º \\x135\\x03²P3…f�\\x07Õ\\r^T\\x0fê¿À\\x0bÙ¨Ù0\\x05Õ\\x079¨S \\x175\\x07¦†ß…\\\\ÈC�*4\\x0fòÃÿ„iàGÍ‡é¨~(@�\\x0e…áw\\xa0@h!\\x14£\\x16Á\\x0cÔb(A�\\x01¥¨%P†Z\\nå¨e¨oÃL¨@-‡JÔ\\n¡•P\\x1d~\\x0bª\\xa0\\x06u\\x16ÌF\\xad\\x16Z\\x03ç\\xa0Î†ZÔs \\x10ş?¨…9á7!\\x00õ¨s„ÖA\\x03j=4¡6À\\\\ÔF¡M0\\x0fu.œ‹:\\x0f\\x16„ÿ\\x01óaaø\\r8\\x17ÎC] t!œ�z\\x1e,B=\\x1f–\\xa0.‚¥¨‹a\\x19ê\\x12X\\x1e~\\x1d–')"
            ]
          },
          "metadata": {},
          "execution_count": 18
        }
      ]
    },
    {
      "cell_type": "markdown",
      "source": [
        "Создадим ретривер и векторное хранилище для врагментов текста.\n",
        "\n",
        "- [Рейтинг ретриверов для английского языка](https://huggingface.co/spaces/mteb/leaderboard)\n",
        "- [Рейтинг ретриверов для русского языка](https://github.com/avidale/encodechka#%D0%BB%D0%B8%D0%B4%D0%B5%D1%80%D0%B1%D0%BE%D1%80%D0%B4)\n",
        "- [Эмбеддинговая модель, которую используем в этом туториале](https://huggingface.co/sentence-transformers/paraphrase-multilingual-mpnet-base-v2)"
      ],
      "metadata": {
        "id": "NkS77xlGk105"
      }
    },
    {
      "cell_type": "code",
      "source": [
        "%%time\n",
        "model_name = \"sentence-transformers/paraphrase-multilingual-mpnet-base-v2\"\n",
        "model_kwargs = {'device': 'cpu'}\n",
        "encode_kwargs = {'normalize_embeddings': False}\n",
        "embedding = HuggingFaceEmbeddings(model_name=model_name,\n",
        "                                  model_kwargs=model_kwargs,\n",
        "                                  encode_kwargs=encode_kwargs)\n",
        "\n",
        "vector_store = FAISS.from_documents(split_docs, embedding=embedding)"
      ],
      "metadata": {
        "id": "lz05fkGmX4UH",
        "colab": {
          "base_uri": "https://localhost:8080/",
          "height": 545,
          "referenced_widgets": [
            "5d5cdfb567044c64b046d16021aa1055",
            "02c384a1406543d1861073b48de13915",
            "650bf5102c2843f78bd1f9727a75cfb1",
            "a920ab9bfeba4564bf322720722bbedc",
            "2aa2f6ce2891442f96bc2e89ff6c61f5",
            "ede18bd6507e44cf98722c6cf5648b9f",
            "8272839da1894998932dd7aaeb1929c7",
            "cc7541879ef64366a5cfdd71f7df1eaa",
            "d5747d37fe50497e8041e893d940efc8",
            "b11807a7a14246c59309b985bcd60c39",
            "ff1bfb3862e646c4bee344b711df868c",
            "664342f49842443391738cbb5aed1fca",
            "b0b132cf47ae4bab9a36dbdfbcd3febd",
            "85b0a1fb9a434cbb80b00404a35c3674",
            "5085dba0e2fe4188be5f85a768add0b7",
            "2b89ff53285a476395773f339f18451d",
            "34cea46e2d03443791ed93ef3bdd2981",
            "25103e4112174ffe9a64649a7746a1c9",
            "4f83a7e5177d48c4a6c72d0c95b20db7",
            "81d8b36cda2643fe88b2615ff50ca352",
            "7ca40280860b444cb029b19816d7aa2f",
            "73392c25fb5c44a2b6b9ba7f1d688702",
            "6ba04c2c166e4ebabf76ba047e968e8a",
            "7dcdf52a4acc42d4af644aa84b2e7d1b",
            "63912e2826c04eb98994535ea5222239",
            "39bb0981edf243e8a314387a50ff651f",
            "184e6ced2c7546abacd7957f9c47b5bb",
            "86e2cfb8bd31445da68fa2d136829c6e",
            "3181a5b19ac54f3197298a3394d3ff78",
            "77421ed7c1bc432a8cdae8886c2ab150",
            "93f76c21ca114bafaa36fc04542a0686",
            "bac941bd028848dcbe0744e2979fa10f",
            "51b87d2f939b4a0998ddc1534d9503cc",
            "f9f7b652b047422c8ce90a4dc3b6509a",
            "0f8d4a583dcb45a9b53059b6a95f3905",
            "26878486360249e58e3bd23c740c47f0",
            "d778d2ead69848f89557a11fcf7e0d8f",
            "5de020d6241a48569736bf0fe9888bc7",
            "cfecfc7ea3ab4f5badd6557d681d6ce0",
            "70e3bfd69c5341ebaf665fd65a597661",
            "74dc5a227fc64d4f99502d55cef1efc4",
            "8abd87e97254443c9e305739ad2a9fba",
            "1d7f368fdfc74514aa492c0d6e7940f5",
            "6cbaa46085dd47578345f3195f244df9",
            "006f2f9306a74704a69129049ddb21a2",
            "bca1d5c871244bf0a12c9494779b2385",
            "dec03c78bc944ef19e5e36f7f413b0b2",
            "064e4b4d56864b5c8f17c1d6e7e4dd34",
            "c2c8cd43820c43c99e8a4da3b278da49",
            "f7e9d21e35f24af48aa1aca76f4aa41a",
            "ab69db4ca84347c4a3a813efe6cfa660",
            "05c9f30005434912b412a637acdd670a",
            "4c5273eb32884a8192fc48399b4fd622",
            "16dbd634afcf40208f7cd8cf026c9806",
            "afb31494436443cb869789b5704ac5af",
            "87c400b5d7584a2a86591def69876b09",
            "391533573dcf41178da43b57088e2522",
            "3fc2b6ba9e90479e9933130f52cef6e7",
            "ea5daf1eae42481aa14947deac7d19e9",
            "7409c6b1b25a41d1889e5eab6a06609a",
            "f2be0bce699241fdb4ceff2f3a0ce7b5",
            "782f80dc632c41e6a24dfb69a6fca442",
            "e836abd854374ea49333c5f09644e783",
            "0113b105596d4970a13c5cbc24f9c6fe",
            "3b3ce5f72ec24127b4ce0dbd597ecc37",
            "38ab3edaedae496781b5039683bd7134",
            "e71db8c203f0423f853dd6344c5328fc",
            "11f70f9b7d884fbabdac1cbc3e25ee6b",
            "514d4ad5386a4e7dbf5166aa5f112553",
            "213b266e4af44e46b0964784f97e5f80",
            "7e8da4615511499c969c5e3d405fb147",
            "bc9257236bae4579977045deb2b354d5",
            "39c0ab12fea9457fbdebff7bc614839c",
            "64c2bb2870434bbfa74f4b74def883b1",
            "91728038bdb04f1e844e7dc2cd458703",
            "be78b74626864cdcae5b1875f969402f",
            "5e8209d2cf8d48dfb55eae9b7ca7ec7e",
            "7af688726c064311b957efe030240d9d",
            "130d37035b0c45309cd8601eb4fdc293",
            "41a80566955e4ffaa1ee5240180b9452",
            "1fc6e098547245e591c85602d2d4a81e",
            "2673e12221414d4495d6ad1cf0097f7c",
            "4bec1b9d6f23452788bf143ee49c7201",
            "26199db5e48a4858a9b3efdf4e8cefe2",
            "315e554243784818b64a8ed2c2102104",
            "ab002073935940edb1366fa2d679cd3d",
            "83549f96787d42e0bc313d9cfe7a3605",
            "c17959b636b948ab97e4dbeae6d7f2fa",
            "2c6ea60aa59147a3889e9841fe189d04",
            "e7a2109391314010a0fbe3050d09a50b",
            "60192b33cc324656888d802c6738c171",
            "873f23c75f8e41fda1521d0e4d94fc98",
            "37be242c960044f78a60158a9dee9c6a",
            "ecbd44ba4f9b46369af58f7f7de7f416",
            "23786cd7e4794f23a771aa2374224dae",
            "ce1c5cab74c449b18920a78ed28d8e6b",
            "dba1e144b38344f7b20ff6435dadadb3",
            "4b880a2aba394592b88c2910e3b338f8",
            "8c0d9739acc04286bca8693cab5cc53d",
            "766d5591d6ed49b89ceb45f8b244481f",
            "ad3b1d6d2e4046588bffc82c8c4f4047",
            "64ae5c3fea3d4d6f924e2c01496bd2e1",
            "3a5bdffc757d4dc5a6c91ba8fc0eaa57",
            "6a1951a7877a4ddc91631f044b37a244",
            "2bd38106108745459982ff4b69ec1fe5",
            "c277156d9c5c4070a0eea426b54a58ec",
            "4162fdc47f174972b36cbc2724f63bac",
            "4a68cc5a23904908a4a2dcc74e5c4129",
            "ed825fbf6be34880850f502c885989b2",
            "25427c4e583f4872b262116b4b9e4ead",
            "07685eb5ac5044bb9191099477a42e40",
            "e6a3d72bb8124bbeaa5f1e106a6d4300",
            "b0030ffdad594bd9a68dfe64dcf13568",
            "f3bd3aa257e4481696dbe5bf8966cf58",
            "4d8cafca657a4b66801e550e477221e3",
            "1688880a64804105ab4bc1bf3e0b9bb1",
            "e41ad7a6cb2c4c98b3fbe2f611158aa6",
            "f3bc9981f5ca4e2b98692b0c5a75fb3f",
            "41d1fa41b2764b8fa35b3c3089da9f65",
            "b0c4cd26511b4800845bdf44f837cf43",
            "238141dfa3eb4f809c4e1948e9d11e2f"
          ]
        },
        "outputId": "c6500daf-70db-4967-d631-9b1be4a4a6ea"
      },
      "execution_count": 19,
      "outputs": [
        {
          "output_type": "stream",
          "name": "stderr",
          "text": [
            "<timed exec>:4: LangChainDeprecationWarning: The class `HuggingFaceEmbeddings` was deprecated in LangChain 0.2.2 and will be removed in 1.0. An updated version of the class exists in the langchain-huggingface package and should be used instead. To use it run `pip install -U langchain-huggingface` and import as `from langchain_huggingface import HuggingFaceEmbeddings`.\n",
            "/usr/local/lib/python3.11/dist-packages/huggingface_hub/utils/_auth.py:94: UserWarning: \n",
            "The secret `HF_TOKEN` does not exist in your Colab secrets.\n",
            "To authenticate with the Hugging Face Hub, create a token in your settings tab (https://huggingface.co/settings/tokens), set it as secret in your Google Colab and restart your session.\n",
            "You will be able to reuse this secret in all of your notebooks.\n",
            "Please note that authentication is recommended but still optional to access public models or datasets.\n",
            "  warnings.warn(\n"
          ]
        },
        {
          "output_type": "display_data",
          "data": {
            "text/plain": [
              "modules.json:   0%|          | 0.00/229 [00:00<?, ?B/s]"
            ],
            "application/vnd.jupyter.widget-view+json": {
              "version_major": 2,
              "version_minor": 0,
              "model_id": "5d5cdfb567044c64b046d16021aa1055"
            }
          },
          "metadata": {}
        },
        {
          "output_type": "display_data",
          "data": {
            "text/plain": [
              "config_sentence_transformers.json:   0%|          | 0.00/122 [00:00<?, ?B/s]"
            ],
            "application/vnd.jupyter.widget-view+json": {
              "version_major": 2,
              "version_minor": 0,
              "model_id": "664342f49842443391738cbb5aed1fca"
            }
          },
          "metadata": {}
        },
        {
          "output_type": "display_data",
          "data": {
            "text/plain": [
              "README.md:   0%|          | 0.00/3.90k [00:00<?, ?B/s]"
            ],
            "application/vnd.jupyter.widget-view+json": {
              "version_major": 2,
              "version_minor": 0,
              "model_id": "6ba04c2c166e4ebabf76ba047e968e8a"
            }
          },
          "metadata": {}
        },
        {
          "output_type": "display_data",
          "data": {
            "text/plain": [
              "sentence_bert_config.json:   0%|          | 0.00/53.0 [00:00<?, ?B/s]"
            ],
            "application/vnd.jupyter.widget-view+json": {
              "version_major": 2,
              "version_minor": 0,
              "model_id": "f9f7b652b047422c8ce90a4dc3b6509a"
            }
          },
          "metadata": {}
        },
        {
          "output_type": "display_data",
          "data": {
            "text/plain": [
              "config.json:   0%|          | 0.00/723 [00:00<?, ?B/s]"
            ],
            "application/vnd.jupyter.widget-view+json": {
              "version_major": 2,
              "version_minor": 0,
              "model_id": "006f2f9306a74704a69129049ddb21a2"
            }
          },
          "metadata": {}
        },
        {
          "output_type": "display_data",
          "data": {
            "text/plain": [
              "model.safetensors:   0%|          | 0.00/1.11G [00:00<?, ?B/s]"
            ],
            "application/vnd.jupyter.widget-view+json": {
              "version_major": 2,
              "version_minor": 0,
              "model_id": "87c400b5d7584a2a86591def69876b09"
            }
          },
          "metadata": {}
        },
        {
          "output_type": "display_data",
          "data": {
            "text/plain": [
              "tokenizer_config.json:   0%|          | 0.00/402 [00:00<?, ?B/s]"
            ],
            "application/vnd.jupyter.widget-view+json": {
              "version_major": 2,
              "version_minor": 0,
              "model_id": "e71db8c203f0423f853dd6344c5328fc"
            }
          },
          "metadata": {}
        },
        {
          "output_type": "display_data",
          "data": {
            "text/plain": [
              "sentencepiece.bpe.model:   0%|          | 0.00/5.07M [00:00<?, ?B/s]"
            ],
            "application/vnd.jupyter.widget-view+json": {
              "version_major": 2,
              "version_minor": 0,
              "model_id": "7af688726c064311b957efe030240d9d"
            }
          },
          "metadata": {}
        },
        {
          "output_type": "display_data",
          "data": {
            "text/plain": [
              "tokenizer.json:   0%|          | 0.00/9.08M [00:00<?, ?B/s]"
            ],
            "application/vnd.jupyter.widget-view+json": {
              "version_major": 2,
              "version_minor": 0,
              "model_id": "2c6ea60aa59147a3889e9841fe189d04"
            }
          },
          "metadata": {}
        },
        {
          "output_type": "display_data",
          "data": {
            "text/plain": [
              "special_tokens_map.json:   0%|          | 0.00/239 [00:00<?, ?B/s]"
            ],
            "application/vnd.jupyter.widget-view+json": {
              "version_major": 2,
              "version_minor": 0,
              "model_id": "766d5591d6ed49b89ceb45f8b244481f"
            }
          },
          "metadata": {}
        },
        {
          "output_type": "display_data",
          "data": {
            "text/plain": [
              "config.json:   0%|          | 0.00/190 [00:00<?, ?B/s]"
            ],
            "application/vnd.jupyter.widget-view+json": {
              "version_major": 2,
              "version_minor": 0,
              "model_id": "07685eb5ac5044bb9191099477a42e40"
            }
          },
          "metadata": {}
        },
        {
          "output_type": "stream",
          "name": "stdout",
          "text": [
            "CPU times: user 2h 6min 44s, sys: 7min 47s, total: 2h 14min 31s\n",
            "Wall time: 2h 15min 22s\n"
          ]
        }
      ]
    },
    {
      "cell_type": "markdown",
      "source": [
        "Зададим параметры извлечения. В нашем случае установим, что на запрос должны возвращаться 5 фрагментов, наиболее близких по смыслу."
      ],
      "metadata": {
        "id": "PYV5cfASlM7w"
      }
    },
    {
      "cell_type": "code",
      "source": [
        "embedding_retriever = vector_store.as_retriever(search_kwargs={\"k\": 5})"
      ],
      "metadata": {
        "id": "mA_OBtdKefFv"
      },
      "execution_count": 51,
      "outputs": []
    },
    {
      "cell_type": "markdown",
      "source": [
        "## Создание генеративной части пайплайна и составление цепочки RAG системы"
      ],
      "metadata": {
        "id": "HNiPfFZ0ltm6"
      }
    },
    {
      "cell_type": "markdown",
      "source": [
        "Используем авторизационные данные для подключения к GigaChat API."
      ],
      "metadata": {
        "id": "_z0rVehmEkmo"
      }
    },
    {
      "cell_type": "code",
      "source": [
        "from google.colab import userdata\n",
        "auth = userdata.get('SBER_AUTH')"
      ],
      "metadata": {
        "id": "RofYMBxugEpx"
      },
      "execution_count": 52,
      "outputs": []
    },
    {
      "cell_type": "markdown",
      "source": [
        "Импортируем необходимые компоненты"
      ],
      "metadata": {
        "id": "V-bzQt5zlBe0"
      }
    },
    {
      "cell_type": "code",
      "source": [
        "from langchain.chains.combine_documents import create_stuff_documents_chain\n",
        "from langchain_core.prompts import ChatPromptTemplate\n",
        "from langchain.chat_models.gigachat import GigaChat\n",
        "from langchain.chains import create_retrieval_chain"
      ],
      "metadata": {
        "id": "XoZu1ke1frAN"
      },
      "execution_count": 53,
      "outputs": []
    },
    {
      "cell_type": "markdown",
      "source": [
        "Создадим объект `GigaChat` и подготовим промпт для вопросно-ответной системы."
      ],
      "metadata": {
        "id": "1Dl2aFMAmGMI"
      }
    },
    {
      "cell_type": "code",
      "source": [
        "\n",
        "llm = GigaChat(credentials=auth,\n",
        "              model='GigaChat:latest',\n",
        "               verify_ssl_certs=False,\n",
        "               profanity_check=False)\n",
        "prompt = ChatPromptTemplate.from_template('''Ответь на вопрос пользователя. \\\n",
        "Используй при этом только информацию из контекста. Если в контексте нет \\\n",
        "информации для ответа, сообщи об этом пользователю.\n",
        "Контекст: {context}\n",
        "Вопрос: {input}\n",
        "Ответ:'''\n",
        ")"
      ],
      "metadata": {
        "id": "acxZ983Rf1HU",
        "colab": {
          "base_uri": "https://localhost:8080/"
        },
        "outputId": "4e0882b1-30d1-43a0-c2f5-34442aa2430e"
      },
      "execution_count": 54,
      "outputs": [
        {
          "output_type": "stream",
          "name": "stderr",
          "text": [
            "<ipython-input-54-7895cbad50b3>:1: LangChainDeprecationWarning: The class `GigaChat` was deprecated in LangChain 0.3.5 and will be removed in 1.0. An updated version of the class exists in the langchain-gigachat package and should be used instead. To use it run `pip install -U langchain-gigachat` and import as `from langchain_gigachat import GigaChat`.\n",
            "  llm = GigaChat(credentials=auth,\n"
          ]
        }
      ]
    },
    {
      "cell_type": "markdown",
      "source": [
        "Создадим цепочку `create_stuff_documents_chain`, которая будет частью нашей вопросно-ответной цепочки. Это нужно, чтобы подавать фрагменты текстов из векторной БД в промпт языковой модели. Промпт представляет из себя форматированную строку, а франменты являются экземплярами класса `Document`. Чтобы не писать код по извлечению атрибута `page_content` из `Document`, используем цепочку `create_stuff_documents_chain`, где это автоматизировано."
      ],
      "metadata": {
        "id": "2FQDD-W4nQo0"
      }
    },
    {
      "cell_type": "code",
      "source": [
        "document_chain = create_stuff_documents_chain(\n",
        "    llm=llm,\n",
        "    prompt=prompt\n",
        "    )"
      ],
      "metadata": {
        "id": "q5FAVapTgRVt"
      },
      "execution_count": 55,
      "outputs": []
    },
    {
      "cell_type": "markdown",
      "source": [
        "А теперь создадим вопросно-ответную цепочку с помощью функции `create_retrieval_chain()`."
      ],
      "metadata": {
        "id": "0OL83tqnodJ7"
      }
    },
    {
      "cell_type": "code",
      "source": [
        "retrieval_chain = create_retrieval_chain(embedding_retriever, document_chain)"
      ],
      "metadata": {
        "id": "bxdTJAc2gh1E"
      },
      "execution_count": 56,
      "outputs": []
    },
    {
      "cell_type": "markdown",
      "source": [
        "## Запустим нашу вопросно-ответную систему\n",
        "\n",
        "Пусть RAG-система ответит на следующие 5 вопросов:\n",
        "- Какие космические аппараты запускал Китай к Луне?\n",
        "- Когда Хаббл вернулся к работе?\n",
        "- Какая есть информация о неудачных запусках?\n",
        "- Есть ли какая-то информация, связанная с именем древнегреческого математика?\n",
        "- Дай информацию, связанную с лазерами."
      ],
      "metadata": {
        "id": "5hFxOst-pHzp"
      }
    },
    {
      "cell_type": "code",
      "source": [
        "\n",
        "# Используем вкладку \"Секреты\" левой панели Colab для хранения ключей\n",
        "from google.colab import userdata\n",
        "client_id = userdata.get('SBER_ID')\n",
        "secret = userdata.get('SBER_SECRET')\n",
        "auth = userdata.get('SBER_AUTH')"
      ],
      "metadata": {
        "id": "jiTuInItiHle"
      },
      "execution_count": 58,
      "outputs": []
    },
    {
      "cell_type": "code",
      "source": [
        "import base64\n",
        "credentials = f\"{client_id}:{secret}\"\n",
        "encoded_credentials = base64.b64encode(credentials.encode('utf-8')).decode('utf-8')\n"
      ],
      "metadata": {
        "id": "5SaG4kpsiLNO"
      },
      "execution_count": 59,
      "outputs": []
    },
    {
      "cell_type": "code",
      "source": [
        "encoded_credentials == auth"
      ],
      "metadata": {
        "colab": {
          "base_uri": "https://localhost:8080/"
        },
        "id": "uwATwIiHiONT",
        "outputId": "ab06426e-b3b1-4b27-9274-b93a05ba452b"
      },
      "execution_count": 61,
      "outputs": [
        {
          "output_type": "execute_result",
          "data": {
            "text/plain": [
              "False"
            ]
          },
          "metadata": {},
          "execution_count": 61
        }
      ]
    },
    {
      "cell_type": "code",
      "source": [
        "import requests\n",
        "import uuid\n",
        "\n",
        "def get_token(auth_token, scope='GIGACHAT_API_PERS'):\n",
        "    \"\"\"\n",
        "      Выполняет POST-запрос к эндпоинту, который выдает токен.\n",
        "\n",
        "      Параметры:\n",
        "      - auth_token (str): токен авторизации, необходимый для запроса.\n",
        "      - область (str): область действия запроса API. По умолчанию — «GIGACHAT_API_PERS».\n",
        "\n",
        "      Возвращает:\n",
        "      - ответ API, где токен и срок его \"годности\".\n",
        "      \"\"\"\n",
        "    # Создадим идентификатор UUID (36 знаков)\n",
        "    rq_uid = str(uuid.uuid4())\n",
        "\n",
        "    # API URL\n",
        "    url = \"https://ngw.devices.sberbank.ru:9443/api/v2/oauth\"\n",
        "\n",
        "    # Заголовки\n",
        "    headers = {\n",
        "        'Content-Type': 'application/x-www-form-urlencoded',\n",
        "        'Accept': 'application/json',\n",
        "        'RqUID': rq_uid,\n",
        "        'Authorization': f'Basic {auth_token}'\n",
        "    }\n",
        "\n",
        "    # Тело запроса\n",
        "    payload = {\n",
        "        'scope': scope\n",
        "    }\n",
        "\n",
        "    try:\n",
        "        # Делаем POST запрос с отключенной SSL верификацией\n",
        "        # (можно скачать сертификаты Минцифры, тогда отключать проверку не надо)\n",
        "        response = requests.post(url, headers=headers, data=payload, verify=False)\n",
        "        return response\n",
        "    except requests.RequestException as e:\n",
        "        print(f\"Ошибка: {str(e)}\")\n",
        "        return -1\n"
      ],
      "metadata": {
        "id": "tbaqnwf8iVnL"
      },
      "execution_count": 57,
      "outputs": []
    },
    {
      "cell_type": "code",
      "source": [
        "response = get_token(auth)\n",
        "if response != 1:\n",
        "  print(response.text)\n",
        "  giga_token = response.json()['access_token']"
      ],
      "metadata": {
        "colab": {
          "base_uri": "https://localhost:8080/"
        },
        "id": "YwxVg0GbiizW",
        "outputId": "abff31b9-ccc5-4eff-feb9-49e4eecf3993"
      },
      "execution_count": 62,
      "outputs": [
        {
          "output_type": "stream",
          "name": "stdout",
          "text": [
            "{\"access_token\":\"eyJjdHkiOiJqd3QiLCJlbmMiOiJBMjU2Q0JDLUhTNTEyIiwiYWxnIjoiUlNBLU9BRVAtMjU2In0.BZ9lQyWifZLhbq2IF-NEVLas28tZGaklfg3E3SzCo16VZ-wuUxz9ius1dyPLljnsq3vHVcaO2DX7zj2NA2g0OmrdCJKPZAW1k4_wQL0gGKHM8esfFTviAvcKmiZHlGqbYtbESPz2luleoQbO0btsHbB-mMFgg6LmlAUW7rgWxbBe8gGFKx-RJruoj4hHJIyl5JYq-F1E4EOnwoE17K-8PyMvmXthoK3XnYkl31TXK5zpKdAyeuHxETO6XWyVYXfOeITKgCPEyWz6XvO8ufjBIJaVc_0m2ifOdwK02tCNz0qO3yILUC76EA5id4NE4ng9HR41e6bw21eHxrkntKVMCw.LSHRsp9aQEprR31DTZ5ecg.mm4ooqYSSAamuSSiL1418E1nk39ZH8lMP94zGx-wsvCJp-IAYviEGby2rsJSGWiLqUSPpi19KEClQHmLe6BGlIDI3CQo0PlzrvT5nR4gq4uRiJNCIvf0bwmZC8ecXBqrFZGJcyixDpeESgouVBK29GFNucyw_g981CcF_1XjfFSv1sk6mJzrdiIcK33uH6wFUSuJqeXzMCzRbez6jTOG7uBbEO2U33MHFnWIBDQOiVwPBNjauNQpXCyRcK4Tn_ajRDvTvjG3CglzTV5jbw0gpEFeqcG3hfokA8_GNcfjSn8rlU8YYCqEzeDJ0gw57DyCukPw-LBYBicns4WK5wPoC9dyUBClRucgN07aAXeniRZo9nGtIdLsJTW540AjpZ6Wv-53ukbEV7XJnjIdmCTOwEPU7wXH4Uf1sk9EY5tXCkyLJzGiUlaKCY4vYUiXIQowupuTdxfTTchCqqYISpM6bpBd5MUVx4zrlIB_ZNWn9oEOdN1xF5UCVXoi7uOAvY4aSupIuGQw_ST01XpWPKovs-AJ1TbpRyydxLBniTH8lJ4mqDhJqe8p0-dz3ZPVoSCmn-TpvgxEr5GKlWY_8hGPLLhSrV4OgVy-cwhELwvLN2ytCkCgUmroBlnjl42MO6mr5Gj-et_q19STBJKhDW9hMy88zcbnglBiDD5qhYXZQIlLBXwPnkUluXW7arcNQ1DQ-NnWEUafV6X3Otn6rvZADMzRJu7Ge-DMWNZ4Miqk0dI.BcYndj1wbkyTNHQLdV7Wgpj7AShGRDXdrHbizvzgDVo\",\"expires_at\":1742143070711}\n"
          ]
        },
        {
          "output_type": "stream",
          "name": "stderr",
          "text": [
            "/usr/local/lib/python3.11/dist-packages/urllib3/connectionpool.py:1097: InsecureRequestWarning: Unverified HTTPS request is being made to host 'ngw.devices.sberbank.ru'. Adding certificate verification is strongly advised. See: https://urllib3.readthedocs.io/en/latest/advanced-usage.html#tls-warnings\n",
            "  warnings.warn(\n"
          ]
        }
      ]
    },
    {
      "cell_type": "code",
      "source": [
        "import requests\n",
        "\n",
        "url = \"https://gigachat.devices.sberbank.ru/api/v1/models\"\n",
        "\n",
        "payload={}\n",
        "headers = {\n",
        "  'Accept': 'application/json',\n",
        "  'Authorization': f'Bearer {giga_token}'\n",
        "}\n",
        "\n",
        "response = requests.request(\"GET\", url, headers=headers, data=payload, verify=False)\n",
        "\n",
        "print(response.text)"
      ],
      "metadata": {
        "colab": {
          "base_uri": "https://localhost:8080/"
        },
        "id": "VtOz8NKXuSEF",
        "outputId": "4df50a40-a9ce-419a-aa6f-da2379934f91"
      },
      "execution_count": 63,
      "outputs": [
        {
          "output_type": "stream",
          "name": "stdout",
          "text": [
            "{\"object\":\"list\",\"data\":[{\"id\":\"GigaChat\",\"object\":\"model\",\"owned_by\":\"salutedevices\",\"type\":\"chat\"},{\"id\":\"GigaChat-2\",\"object\":\"model\",\"owned_by\":\"salutedevices\",\"type\":\"chat\"},{\"id\":\"GigaChat-2-Max\",\"object\":\"model\",\"owned_by\":\"salutedevices\",\"type\":\"chat\"},{\"id\":\"GigaChat-2-Max-preview\",\"object\":\"model\",\"owned_by\":\"salutedevices\",\"type\":\"chat\"},{\"id\":\"GigaChat-2-Pro\",\"object\":\"model\",\"owned_by\":\"salutedevices\",\"type\":\"chat\"},{\"id\":\"GigaChat-2-Pro-preview\",\"object\":\"model\",\"owned_by\":\"salutedevices\",\"type\":\"chat\"},{\"id\":\"GigaChat-2-preview\",\"object\":\"model\",\"owned_by\":\"salutedevices\",\"type\":\"chat\"},{\"id\":\"GigaChat-Max\",\"object\":\"model\",\"owned_by\":\"salutedevices\",\"type\":\"chat\"},{\"id\":\"GigaChat-Max-preview\",\"object\":\"model\",\"owned_by\":\"salutedevices\",\"type\":\"chat\"},{\"id\":\"GigaChat-Plus\",\"object\":\"model\",\"owned_by\":\"salutedevices\",\"type\":\"chat\"},{\"id\":\"GigaChat-Plus-preview\",\"object\":\"model\",\"owned_by\":\"salutedevices\",\"type\":\"chat\"},{\"id\":\"GigaChat-Pro\",\"object\":\"model\",\"owned_by\":\"salutedevices\",\"type\":\"chat\"},{\"id\":\"GigaChat-Pro-preview\",\"object\":\"model\",\"owned_by\":\"salutedevices\",\"type\":\"chat\"},{\"id\":\"GigaChat-preview\",\"object\":\"model\",\"owned_by\":\"salutedevices\",\"type\":\"chat\"}]}\n"
          ]
        },
        {
          "output_type": "stream",
          "name": "stderr",
          "text": [
            "/usr/local/lib/python3.11/dist-packages/urllib3/connectionpool.py:1097: InsecureRequestWarning: Unverified HTTPS request is being made to host 'gigachat.devices.sberbank.ru'. Adding certificate verification is strongly advised. See: https://urllib3.readthedocs.io/en/latest/advanced-usage.html#tls-warnings\n",
            "  warnings.warn(\n"
          ]
        }
      ]
    },
    {
      "cell_type": "code",
      "source": [
        "q1 = 'Сахарный диабет 2 типа какой код мкб'"
      ],
      "metadata": {
        "id": "eYnkfLbigrbm"
      },
      "execution_count": 70,
      "outputs": []
    },
    {
      "cell_type": "code",
      "source": [
        "resp1 = retrieval_chain.invoke(\n",
        "    {'input': q1}\n",
        ")"
      ],
      "metadata": {
        "id": "FxtXyrxug7dv"
      },
      "execution_count": 71,
      "outputs": []
    },
    {
      "cell_type": "code",
      "source": [
        "resp1"
      ],
      "metadata": {
        "id": "P15Vpy2chHYG",
        "colab": {
          "base_uri": "https://localhost:8080/"
        },
        "outputId": "e27aa892-723c-45f2-c356-b7525b56419c"
      },
      "execution_count": 72,
      "outputs": [
        {
          "output_type": "execute_result",
          "data": {
            "text/plain": [
              "{'input': 'Сахарный диабет 2 типа какой код мкб',\n",
              " 'context': [Document(id='cea6af13-be1c-466a-a252-c1e26027a78c', metadata={'source': 'https://medi.ru/filters/doc_type/manuals/oftalmologiya/', 'title': 'Офтальмология', 'description': 'Клинические рекомендации МЗ РФ…', 'language': 'ru'}, page_content='Травма глаза закрытая\\n\\nКлинические рекомендации\\n\\n\\n\\t\\t\\t10 окт. 2016 г..\\n\\t\\t\\n\\n читать..\\n\\n\\n\\n\\n\\n\\n\\nСахарный диабет: диабетическая ретинопатия, диабетический макулярный отек\\n\\nКлинические рекомендации\\n\\n\\n\\t\\t\\t10 окт. 2016 г..\\n\\t\\t\\n\\n читать..\\n\\n\\n\\n\\n\\n\\n\\nРетинопатия недоношенных, активная фаза\\n\\nКлинические рекомендации\\n\\n\\n\\t\\t\\t10 окт. 2016 г..\\n\\t\\t\\n\\n читать..\\n\\n\\n\\n\\n\\n\\n\\nРетинобластома у детей\\n\\nКлинические рекомендации\\n\\n\\n\\t\\t\\t10 окт. 2016 г..\\n\\t\\t\\n\\n читать..\\n\\n\\n\\n\\n\\n\\n\\nРегматогенная отслойка сетчатки\\n\\nКлинические рекомендации'),\n",
              "  Document(id='e164466d-130c-4fc5-a168-bad84616acea', metadata={'source': 'https://medi.ru/filters/doc_type/manuals/urologiya/', 'title': 'Урология. Нефрология. Андрология', 'description': 'Клинические рекомендации МЗ РФ…', 'language': 'ru'}, page_content='Клинические рекомендации\\n\\n\\n\\t\\t\\t10 окт. 2016 г..\\n\\t\\t\\n\\n читать..\\n\\n\\n\\n\\n\\n\\n\\nЦистит у женщин. 2021\\n\\nКлинические рекомендации МЗРФ по диагностике и лечениюцистита у женщин 2021\\n\\n\\n\\t\\t\\t12 июля 2022 г..\\n\\t\\t\\n\\n читать..\\n\\n\\n\\n\\n\\n\\n\\nТипичный гемолитико-уремический синдром (тГУС)\\n\\nКлинические рекомендации\\n\\n\\n\\t\\t\\t10 окт. 2016 г..\\n\\t\\t\\n\\n читать..\\n\\n\\n\\n\\n\\n\\n\\nСахарный диабет с поражением почек\\n\\nКлинические рекомендации\\n\\n\\n\\t\\t\\t10 окт. 2016 г..\\n\\t\\t\\n\\n читать..\\n\\n\\n\\n\\n\\n\\n\\nРеноваскулярная артериальная гипертензия и ишемическая болезнь почек'),\n",
              "  Document(id='a6c2abb7-eea7-4697-97b5-081060c32db0', metadata={'source': 'https://medi.ru/filters/doc_type/manuals/kardiologiya/', 'title': 'Кардиология', 'description': 'Клинические рекомендации МЗ РФ…', 'language': 'ru'}, page_content='Легочная гипертензия\\n\\nКлинические рекомендации\\n\\n\\n\\t\\t\\t10 окт. 2016 г..\\n\\t\\t\\n\\n читать..\\n\\n\\n\\n\\n\\n\\n\\nХроническая тромбоэмболическая легочная гипертензия\\n\\nКлинические рекомендации\\n\\n\\n\\t\\t\\t10 окт. 2016 г..\\n\\t\\t\\n\\n читать..\\n\\n\\n\\n\\n\\n\\n\\nХроническая сердечная недостаточность у детей\\n\\nКлинические рекомендации\\n\\n\\n\\t\\t\\t10 окт. 2016 г..\\n\\t\\t\\n\\n читать..\\n\\n\\n\\n\\n\\n\\n\\nХроническая сердечная недостаточность\\n\\nКлинические рекомендации\\n\\n\\n\\t\\t\\t10 окт. 2016 г..\\n\\t\\t\\n\\n читать..\\n\\n\\n\\n\\n\\n\\n\\nКатехоламинергическая полиморфная желудочковая тахикардия'),\n",
              "  Document(id='e6a5c9c8-a047-4f0e-a286-c03b14d37358', metadata={'source': 'https://medi.ru/filters/doc_type/manuals/gematologiya/', 'title': 'Гематология', 'description': 'Клинические рекомендации МЗ РФ…', 'language': 'ru'}, page_content='Серповидно-клеточная болезнь\\n\\nКлинические рекомендации\\n\\n\\n\\t\\t\\t10 окт. 2016 г..\\n\\t\\t\\n\\n читать..\\n\\n\\n\\n\\n\\n\\n\\nРедкие коагулопатии: наследственный дефицит факторов свертывания крови II, VII, X\\n\\nКлинические рекомендации\\n\\n\\n\\t\\t\\t10 окт. 2016 г..\\n\\t\\t\\n\\n читать..\\n\\n\\n\\n\\n\\n\\n\\nPh-негативные миелопролиферативные заболевания (истинная полицитемия, эссенциальная тромбоцитемия, первичный миелофиброз) у взрослых\\n\\nКлинические рекомендации\\n\\n\\n\\t\\t\\t10 окт. 2016 г..\\n\\t\\t\\n\\n читать..'),\n",
              "  Document(id='fc27eb3f-26f4-4809-9d04-99cfedefdc56', metadata={'source': 'https://medi.ru/filters/doc_type/manuals/yendokrinologiya/', 'title': 'Эндокринология', 'description': 'Клинические рекомендации МЗ РФ…', 'language': 'ru'}, page_content='Клинические рекомендации\\n\\n\\n\\t\\t\\t10 окт. 2016 г..\\n\\t\\t\\n\\n читать..\\n\\n\\n\\n\\n\\n\\n\\nСиндром поликистоза яичников\\n\\nКлинические рекомендации\\n\\n\\n\\t\\t\\t10 окт. 2016 г..\\n\\t\\t\\n\\n читать..\\n\\n\\n\\n\\n\\n\\n\\nСиндром диабетической стопы\\n\\nКлинические рекомендации\\n\\n\\n\\t\\t\\t10 окт. 2016 г..\\n\\t\\t\\n\\n читать..\\n\\n\\n\\n\\n\\n\\n\\nСахарный диабет с поражением почек\\n\\nКлинические рекомендации\\n\\n\\n\\t\\t\\t10 окт. 2016 г..\\n\\t\\t\\n\\n читать..\\n\\n\\n\\n\\n\\n\\n\\nСахарный диабет: диабетическая ретинопатия, диабетический макулярный отек\\n\\nКлинические рекомендации\\n\\n\\n\\t\\t\\t10 окт. 2016 г..')],\n",
              " 'answer': 'В предоставленном контексте не содержится информация о коде МКБ для сахарного диабета 2 типа.'}"
            ]
          },
          "metadata": {},
          "execution_count": 72
        }
      ]
    },
    {
      "cell_type": "code",
      "source": [
        "q2 = 'Когда Хаббл вернулся к работе?'"
      ],
      "metadata": {
        "id": "tXfwXl95hOtO"
      },
      "execution_count": null,
      "outputs": []
    },
    {
      "cell_type": "code",
      "source": [
        "resp2 = retrieval_chain.invoke(\n",
        "    {'input': q2}\n",
        ")"
      ],
      "metadata": {
        "id": "Bc_ijMVfiFeN"
      },
      "execution_count": null,
      "outputs": []
    },
    {
      "cell_type": "code",
      "source": [
        "resp2"
      ],
      "metadata": {
        "id": "OYo-XD0jiQFf",
        "colab": {
          "base_uri": "https://localhost:8080/"
        },
        "outputId": "33362dd7-8a51-4209-d249-de2dbd057990"
      },
      "execution_count": null,
      "outputs": [
        {
          "output_type": "execute_result",
          "data": {
            "text/plain": [
              "{'input': 'Когда Хаббл вернулся к работе?',\n",
              " 'context': [Document(id='85b6d49c-2600-4479-8f5a-a44a34abf2cd', metadata={'source': 'https://nplus1.ru/news/2024/12/10/spacex-super-heavy-static-fire-test-for-ift7', 'title': 'Первая ступень Starship успешно прошла прожиг перед седьмым испытательным полетом. Запуск может состояться уже через месяц', 'description': 'N + 1 — главное издание о науке, технике и технологиях', 'language': 'ru'}, page_content='и\\xa0посадки на\\xa0башню обслуживания была направлена по\\xa0альтернативной траектории в\\xa0Мексиканский залив. Как стало известно позднее, возвращению ускорителя помешала неисправность оборудования башни обслуживания, которую выявила автоматическая процедура проверки во\\xa0время фазы торможения после разделения ступеней.'),\n",
              "  Document(id='e0d86104-16ae-4819-9716-8277dad729f1', metadata={'source': 'https://nplus1.ru/news/2025/01/10/spacex-2', 'title': 'Starship впервые выведет полезную нагрузку во\\xa0время седьмого испытательного полета. Запуск намечен на\\xa014\\xa0января', 'description': 'N + 1 — главное издание о науке, технике и технологиях', 'language': 'ru'}, page_content='из\\xa0двигателей Starship в\\xa0космосе. Первую ступень при этом не\\xa0удалось вернуть к\\xa0месту старта, где\\xa0бы ее\\xa0поймали консоли крана на\\xa0башне обслуживания, вместо этого ускоритель направили по\\xa0альтернативной безопасной траектории в\\xa0Мексиканский залив. Позднее стало известно, что отмена посадки произошла из-за выхода из\\xa0строя оборудования башни.'),\n",
              "  Document(id='92807803-4363-40fd-a456-80f52bc2a495', metadata={'source': 'https://nplus1.ru/news/2025/03/12/leap', 'title': 'Одноногий робот поищет признаки жизни в\\xa0криовулканах Энцелада. Американские инженеры разрабатывают робота-прыгуна для изучения выбросов гейзеров на\\xa0спутнике Сатурна', 'description': 'N + 1 — главное издание о науке, технике и технологиях', 'language': 'ru'}, page_content='Нашли опечатку? Выделите фрагмент и нажмите Ctrl+Enter.\\n            \\n\\n\\n\\n\\n\\n\\n\\n\\n\\n\\n\\n\\n\\n\\n\\n\\n\\n\\n08:17\\n\\n\\n17.01.25\\n\\n\\n\\n\\n\\n3.7\\n\\n\\nКосмонавтика\\n\\n\\n\\n\\n\\n\\n\\n\\n\\n\\n\\n\\n\\n\\n\\n\\n\\n\\n\\n          Седьмой испытательный полет Starship закончился взрывом второй ступени\\n        \\nПервая ступень смогла вернуться на\\xa0стартовую площадку\\n\\nАлександр Войтюк'),\n",
              "  Document(id='eafe0f1b-fc53-4333-b9c0-55b84d64aeb6', metadata={'source': 'https://nplus1.ru/news/2024/11/29/voyager-1-work-again-and-again', 'title': '«Вояджер-1» возобновил научные наблюдения после нового сбоя. Он\\xa0терял связь с\\xa0Землей из-за нехватки электроэнергии', 'description': 'N + 1 — главное издание о науке, технике и технологиях', 'language': 'ru'}, page_content='Специалисты NASA 18\\xa0ноября 2024 года возобновили научные наблюдения «Вояджера-1» и\\xa0восстановили связь между зондом и\\xa0Землей, которая была неожиданно прервана в\\xa0конце октября. Причиной сбоя стало автоматическое переключение зонда с\\xa0радиопередатчика, работающего в\\xa0X-диапазоне, на\\xa0менее мощный радиопередатчик S-диапазона, которое было инициировано системой защиты от\\xa0неисправностей из-за нехватки доступной электроэнергии, когда зонд получил с\\xa0Земли команду на\\xa0включение обогревателя.'),\n",
              "  Document(id='780b6ad8-cc2b-4335-a0b1-a7a4e84394e4', metadata={'source': 'https://nplus1.ru/blog/2024/12/11/the-mythology-of-the-soviet-space', 'title': '«Мифология советского космоса». Почему космонавтов обучали действовать подобно машинам', 'description': 'N + 1 — главное издание о науке, технике и технологиях', 'language': 'ru'}, page_content='Предварительное планирование деятельности космонавта не\\xa0оставляло ему никакой возможности для маневра. Если задание было закончено до\\xa0указанного времени, космонавтам не\\xa0разрешали начинать следующее задание раньше, чем определено в\\xa0графике. Это часто приводило к\\xa0простоям, потере ценного времени для наблюдений и\\xa0растрате ограниченных ресурсов. В\\xa01982\\xa0году, во\\xa0время семимесячного пребывания на\\xa0станции «Салют-7», Анатолий Березовой и\\xa0Валентин Лебедев нередко предпочитали проводить самые интересные')],\n",
              " 'answer': 'Информация о возвращении к работе космического телескопа «Хаббл» отсутствует в данном контексте. Возможно, вы могли бы предоставить дополнительную информацию или контекст.'}"
            ]
          },
          "metadata": {},
          "execution_count": 99
        }
      ]
    },
    {
      "cell_type": "code",
      "source": [
        "q3 = 'Какая есть информация о неудачных запусках?'"
      ],
      "metadata": {
        "id": "XsBLEZ-1iRXl"
      },
      "execution_count": null,
      "outputs": []
    },
    {
      "cell_type": "code",
      "source": [
        "resp3 = retrieval_chain.invoke(\n",
        "    {'input': q3}\n",
        ")"
      ],
      "metadata": {
        "id": "ACiMLrXEioDc"
      },
      "execution_count": null,
      "outputs": []
    },
    {
      "cell_type": "code",
      "source": [
        "resp3"
      ],
      "metadata": {
        "id": "6Tkgm1gGisvE",
        "colab": {
          "base_uri": "https://localhost:8080/"
        },
        "outputId": "030e2dc4-77e8-4987-f3e0-e85d5ebb5c86"
      },
      "execution_count": null,
      "outputs": [
        {
          "output_type": "execute_result",
          "data": {
            "text/plain": [
              "{'input': 'Какая есть информация о неудачных запусках?',\n",
              " 'context': [Document(id='e376d50b-bf5f-4a19-8d1a-699125b5c400', metadata={'source': 'https://nplus1.ru/news/2025/02/13/starship-longest-static-fire-test', 'title': 'SpaceX провела самый долгий прожиг второй ступени Starship. Двигатели корабля работали почти минуту', 'description': 'N + 1 — главное издание о науке, технике и технологиях', 'language': 'ru'}, page_content='столь длительное испытание было необходимо для тестирования нового оборудования и\\xa0проверки работы двигателей на\\xa0разных уровнях тяги, чтобы смоделировать различные условия, возникающие в\\xa0двигательной системе во\\xa0время полета. Полученные данные будут использованы для модернизации оборудования корабля и\\xa0корректировки профиля полета перед следующим запуском.'),\n",
              "  Document(id='821e26d0-9057-463d-9218-e8603512bc41', metadata={'source': 'https://nplus1.ru/blog/2024/12/11/the-mythology-of-the-soviet-space', 'title': '«Мифология советского космоса». Почему космонавтов обучали действовать подобно машинам', 'description': 'N + 1 — главное издание о науке, технике и технологиях', 'language': 'ru'}, page_content='Деятельность космонавта на\\xa0орбите планировалась детально и\\xa0тщательно. Время и\\xa0длительность каждого действия определялись на\\xa0Земле заранее. За\\xa0каждое отклонение от\\xa0установленной процедуры во\\xa0время полета космонавты получали замечание. Ошибкой считалось малейшее отклонение, например неверное переключение тумблера, даже если оно не\\xa0влияло на\\xa0работу системы. В\\xa0среднем экипаж из\\xa0двух человек получал\\xa0— замечаний за\\xa0время орбитального полета, длившегося несколько месяцев. Это значит, что каждый член'),\n",
              "  Document(id='85b6d49c-2600-4479-8f5a-a44a34abf2cd', metadata={'source': 'https://nplus1.ru/news/2024/12/10/spacex-super-heavy-static-fire-test-for-ift7', 'title': 'Первая ступень Starship успешно прошла прожиг перед седьмым испытательным полетом. Запуск может состояться уже через месяц', 'description': 'N + 1 — главное издание о науке, технике и технологиях', 'language': 'ru'}, page_content='и\\xa0посадки на\\xa0башню обслуживания была направлена по\\xa0альтернативной траектории в\\xa0Мексиканский залив. Как стало известно позднее, возвращению ускорителя помешала неисправность оборудования башни обслуживания, которую выявила автоматическая процедура проверки во\\xa0время фазы торможения после разделения ступеней.'),\n",
              "  Document(id='4d1a32a9-c49c-4ab7-95cf-76d0cd139fc5', metadata={'source': 'https://nplus1.ru/news/2024/12/18/spacex-starship-fire-test-ift7', 'title': 'SpaceX дважды прожгла новую версию Starship перед седьмым полетом. FAA разрешило запуск', 'description': 'N + 1 — главное издание о науке, технике и технологиях', 'language': 'ru'}, page_content='Нашли опечатку? Выделите фрагмент и нажмите Ctrl+Enter.\\n            \\n\\n\\n\\n\\n\\n\\n\\n\\n\\n\\n\\n\\n\\n\\n\\n\\n\\n\\n12:05\\n\\n\\n07.03.25\\n\\n\\n\\n\\n\\n3.9\\n\\n\\nКосмонавтика\\n\\n\\n\\n\\n\\n\\n\\n\\n\\n\\n\\n\\n\\n\\n\\n\\n\\n\\n\\n          Восьмой испытательный полет Starship закончился потерей ориентации верхней ступени\\n        \\nИ\\xa0ее\\xa0взрывом\\n\\nАлександр Войтюк'),\n",
              "  Document(id='cab6fe94-c265-412e-8a31-6b2081197356', metadata={'source': 'https://nplus1.ru/news/2025/01/17/starship-7-flight-result', 'title': 'Седьмой испытательный полет Starship закончился взрывом второй ступени. Первая ступень смогла вернуться на\\xa0стартовую площадку', 'description': 'N + 1 — главное издание о науке, технике и технологиях', 'language': 'ru'}, page_content='Испытательные полеты Starship как единой системы выведения из\\xa0двух ступеней начались весной прошлого года. Однако первые две попытки кончились взрывами и\\xa0только с\\xa0третьего раза вторая ступень достигла космоса. Результатом четвертого полета стал возврат обеих ступеней в\\xa0океан, а\\xa0пятого полета\\xa0— успешное возвращение первой ступени на\\xa0стартовую площадку. Шестой полет завершился возвратом обеих ступеней в\\xa0океан и\\xa0успешным перезапуском двигателя второй ступени в\\xa0космосе.')],\n",
              " 'answer': 'Первые два испытательных полета Starship закончились взрывами. Третья попытка оказалась более успешной — вторая ступень достигла космоса, но последующие испытания сопровождались проблемами: четвертый полет привел к возврату обеих ступеней в океан, а пятый — к успешному возвращению первой ступени на стартовую площадку. Шестой полет также завершился неудачно, с возвратом обеих ступеней в океан и перезапуском двигателя второй ступени уже в космосе.'}"
            ]
          },
          "metadata": {},
          "execution_count": 102
        }
      ]
    },
    {
      "cell_type": "code",
      "source": [
        "q4 = 'Есть ли какая-то информация, связанная с именем древнегреческого математика?'"
      ],
      "metadata": {
        "id": "IMwEZ6lujDZm"
      },
      "execution_count": null,
      "outputs": []
    },
    {
      "cell_type": "code",
      "source": [
        "resp4 = retrieval_chain.invoke(\n",
        "    {'input': q4}\n",
        ")"
      ],
      "metadata": {
        "id": "g0X_LmVVld2P"
      },
      "execution_count": null,
      "outputs": []
    },
    {
      "cell_type": "code",
      "source": [
        "resp4"
      ],
      "metadata": {
        "id": "ZlLXty2ylhbF",
        "colab": {
          "base_uri": "https://localhost:8080/"
        },
        "outputId": "62f2542b-b0ad-4041-ad33-8438eaff72cb"
      },
      "execution_count": null,
      "outputs": [
        {
          "output_type": "execute_result",
          "data": {
            "text/plain": [
              "{'input': 'Есть ли какая-то информация, связанная с именем древнегреческого математика?',\n",
              " 'context': [Document(id='2333cd92-2569-437b-a587-6015f1187b32', metadata={'source': 'https://nplus1.ru/news/2024/12/02/tmds-system', 'title': 'Роботизированная платформа с\\xa0лебедкой поможет робоспелеологу спуститься в\\xa0инопланетную пещеру. Она позволяет роботу отсоединяться после спуска для продолжения исследований в\\xa0глубине', 'description': 'N + 1 — главное издание о науке, технике и технологиях', 'language': 'ru'}, page_content='Пещеры вулканического происхождения на\\xa0Марсе и\\xa0Луне привлекают пристальное внимание ученых. Благодаря защищенности от\\xa0метеоритных бомбардировок, экстремальных колебаний температуры, ультрафиолетового излучения и\\xa0космических заряженных частиц, эти полости могли сохранить в\\xa0себе важную информацию о\\xa0геологической истории небесного тела и\\xa0возможные следы внеземной жизни. Кроме того, инопланетные пещеры рассматриваются как потенциальные места, где в\\xa0будущем могли\\xa0бы разместиться базы колонистов'),\n",
              "  Document(id='f9a1eec5-0a68-4777-bfad-9b10e6bf6815', metadata={'source': 'https://nplus1.ru/news/2025/03/12/leap', 'title': 'Одноногий робот поищет признаки жизни в\\xa0криовулканах Энцелада. Американские инженеры разрабатывают робота-прыгуна для изучения выбросов гейзеров на\\xa0спутнике Сатурна', 'description': 'N + 1 — главное издание о науке, технике и технологиях', 'language': 'ru'}, page_content='Собранные «Кассини» данные нельзя назвать полными: зонд пролетал только через удаленные от\\xa0поверхности участки шлейфов, где их\\xa0состав уже мог измениться под воздействием внешних условий. Поэтому ученым важно изучить материал как можно ближе к\\xa0источнику выбросов. В\\xa0этом мог\\xa0бы помочь исследовательский аппарат, передвигающийся по\\xa0поверхности. Однако рельеф южного полюса Энцелада очень неровный, поэтому передвижение по\\xa0нему роверов и\\xa0шагоходов может быть сильно затруднено. Отсутствие атмосферы'),\n",
              "  Document(id='ba95f0af-cb53-4cb8-b3f6-33e566b7c275', metadata={'source': 'https://nplus1.ru/news/2025/03/12/leap', 'title': 'Одноногий робот поищет признаки жизни в\\xa0криовулканах Энцелада. Американские инженеры разрабатывают робота-прыгуна для изучения выбросов гейзеров на\\xa0спутнике Сатурна', 'description': 'N + 1 — главное издание о науке, технике и технологиях', 'language': 'ru'}, page_content='облета спутника гигантские шлейфы, поднимающиеся на\\xa0высоту в\\xa0250 километров из\\xa0трещин в\\xa0ледяном покрове на\\xa0южном полюсе. Особый интерес океан представляет для астробиологов\\xa0— анализ собранных станцией данных показал, что в\\xa0выбросах криовулканов присутствуют крупные органические молекулы. Их\\xa0наличие указывает на\\xa0гидротермальную активность и\\xa0потенциальную обитаемость подледного океана Энцелада.'),\n",
              "  Document(id='3292efd3-4bd5-4f90-8a0b-3e31dd8df737', metadata={'source': 'https://nplus1.ru/news/2025/03/02/blue-ghost-done', 'title': 'Частный лунный модуль Blue Ghost высадился в\\xa0Море Кризисов. Это первая полностью успешная мягкая посадка частного аппарата на\\xa0Луну', 'description': 'N + 1 — главное издание о науке, технике и технологиях', 'language': 'ru'}, page_content='Александр Войтюк\\n\\n\\nИнфракрасный космический телескоп WISE, завершивший работу в\\xa0конце лета этого года, сгорел в\\xa0атмосфере Земли вечером 1\\xa0ноября 2024\\xa0года. Ранее ожидалось, что это произойдет в\\xa0декабре этого года или январе 2025\\xa0года, однако рост солнечной активности привел к\\xa0увеличению плотности верхних слоев атмосферы и\\xa0снижение высоты орбиты аппарата произошло быстрее, чем планировалось.\\n\\n\\n\\nЧитать дальше\\n\\n\\n\\n\\n\\n\\n\\n\\n\\n\\n\\n\\n\\n\\n\\n\\n\\n\\n\\n\\n\\n\\n\\n\\n\\n\\n\\n\\n\\n\\nО нас\\n\\n\\nСложность\\n\\n\\nРекламодателям\\n\\n\\nАвторам'),\n",
              "  Document(id='ab72d9fd-df9c-41fc-b3fc-1c71e332ecf6', metadata={'source': 'https://nplus1.ru/news/2024/12/02/tmds-system', 'title': 'Роботизированная платформа с\\xa0лебедкой поможет робоспелеологу спуститься в\\xa0инопланетную пещеру. Она позволяет роботу отсоединяться после спуска для продолжения исследований в\\xa0глубине', 'description': 'N + 1 — главное издание о науке, технике и технологиях', 'language': 'ru'}, page_content='Как отмечают авторы, разработанная ими система позволяет независимым друг от\\xa0друга роботам самостоятельно присоединяться к\\xa0ней или отсоединяться в\\xa0любой момент, чтобы продолжать движение автономно. Кроме того, платформа может использоваться для спуска и\\xa0подъема более одного робота. В\\xa0будущем инженеры планируют доработать механизм стыковки для повышения его надежности в\\xa0условиях неровной поверхности, а\\xa0также разработать специализированный трос для планетарных миссий, который будет легок')],\n",
              " 'answer': 'Нет, в предоставленном контексте нет никакой информации, связанной с именем древнегреческого математика. Все упоминания относятся к научным исследованиям Марса, Луны, Энцелада и работе различных космических аппаратов.'}"
            ]
          },
          "metadata": {},
          "execution_count": 105
        }
      ]
    },
    {
      "cell_type": "code",
      "source": [
        "q5 = \"Дай информацию, связанную с лазерами.\""
      ],
      "metadata": {
        "id": "HyJNM7oplj2M"
      },
      "execution_count": null,
      "outputs": []
    },
    {
      "cell_type": "code",
      "source": [
        "resp5 = retrieval_chain.invoke(\n",
        "    {'input': q5}\n",
        ")"
      ],
      "metadata": {
        "id": "oSBnvxXQl2rx"
      },
      "execution_count": null,
      "outputs": []
    },
    {
      "cell_type": "code",
      "source": [
        "resp5"
      ],
      "metadata": {
        "id": "e5bP6FGVl5ny",
        "colab": {
          "base_uri": "https://localhost:8080/"
        },
        "outputId": "33a110a6-2348-412e-8244-8cb3ed768c5a"
      },
      "execution_count": null,
      "outputs": [
        {
          "output_type": "execute_result",
          "data": {
            "text/plain": [
              "{'input': 'Дай информацию, связанную с лазерами.',\n",
              " 'context': [Document(id='cc73f398-c967-4fdb-8868-ca421e63b275', metadata={'source': 'https://nplus1.ru/news/2025/01/10/spacex-2', 'title': 'Starship впервые выведет полезную нагрузку во\\xa0время седьмого испытательного полета. Запуск намечен на\\xa014\\xa0января', 'description': 'N + 1 — главное издание о науке, технике и технологиях', 'language': 'ru'}, page_content='В\\xa0оборудование башни также были внесены изменения. В\\xa0частности, оно получило дополнительную защиту, чтобы исключить вероятность повреждений во\\xa0время старта ракеты, как это случилось во\\xa0время предыдущего запуска Starship, что привело к\\xa0отмене посадки ускорителя. На\\xa0консолях крана установили несколько радиолокаторов, которые будут использоваться для повышения точности измерения расстояния между «руками» манипулятора и\\xa0возвращающимся ступенями ракеты.'),\n",
              "  Document(id='67265747-1e55-448e-b808-e4a4f57697a5', metadata={'source': 'https://nplus1.ru/news/2025/01/10/spacex-2', 'title': 'Starship впервые выведет полезную нагрузку во\\xa0время седьмого испытательного полета. Запуск намечен на\\xa014\\xa0января', 'description': 'N + 1 — главное издание о науке, технике и технологиях', 'language': 'ru'}, page_content='Во\\xa0время входа в\\xa0атмосферу кораблю устроят стресс-тест. Профиль входа разработан таким образом, чтобы намеренно подвергнуть закрылки сильным нагрузкам в\\xa0точке максимального динамического давления. В\\xa0тепловом щите Starship S33 используются керамические плитки последнего поколения с\\xa0дополнительным абляционным слоем для защиты на\\xa0случай повреждения или потери отдельных плиток. Такая схема уже зарекомендовала себя во\\xa0время предыдущих полетов. Однако в\\xa0этот раз часть плиток будет демонтирована для'),\n",
              "  Document(id='db45e879-ffad-4c7a-b4a7-977059ff9f85', metadata={'source': 'https://nplus1.ru/news/2025/01/17/starship-7-flight-result', 'title': 'Седьмой испытательный полет Starship закончился взрывом второй ступени. Первая ступень смогла вернуться на\\xa0стартовую площадку', 'description': 'N + 1 — главное издание о науке, технике и технологиях', 'language': 'ru'}, page_content='Ожидалось, что в\\xa0ходе текущего полета ракета испытает новые системы авионики и\\xa0теплозащитное покрытие, а\\xa0также модернизированную двигательную систему. Кроме того, передние рули были уменьшены и\\xa0смещены к\\xa0носовой части второй ступени для уменьшения нагрева при повторном входе в\\xa0атмосферу. Предполагалось, что во\\xa0время нахождения в\\xa0космосе вторая ступень Starship развернет десять массогабаритных макетов спутников Starlink следующего поколения, а\\xa0также вновь повторит процедуру перезапуска'),\n",
              "  Document(id='f9a1eec5-0a68-4777-bfad-9b10e6bf6815', metadata={'source': 'https://nplus1.ru/news/2025/03/12/leap', 'title': 'Одноногий робот поищет признаки жизни в\\xa0криовулканах Энцелада. Американские инженеры разрабатывают робота-прыгуна для изучения выбросов гейзеров на\\xa0спутнике Сатурна', 'description': 'N + 1 — главное издание о науке, технике и технологиях', 'language': 'ru'}, page_content='Собранные «Кассини» данные нельзя назвать полными: зонд пролетал только через удаленные от\\xa0поверхности участки шлейфов, где их\\xa0состав уже мог измениться под воздействием внешних условий. Поэтому ученым важно изучить материал как можно ближе к\\xa0источнику выбросов. В\\xa0этом мог\\xa0бы помочь исследовательский аппарат, передвигающийся по\\xa0поверхности. Однако рельеф южного полюса Энцелада очень неровный, поэтому передвижение по\\xa0нему роверов и\\xa0шагоходов может быть сильно затруднено. Отсутствие атмосферы'),\n",
              "  Document(id='3292efd3-4bd5-4f90-8a0b-3e31dd8df737', metadata={'source': 'https://nplus1.ru/news/2025/03/02/blue-ghost-done', 'title': 'Частный лунный модуль Blue Ghost высадился в\\xa0Море Кризисов. Это первая полностью успешная мягкая посадка частного аппарата на\\xa0Луну', 'description': 'N + 1 — главное издание о науке, технике и технологиях', 'language': 'ru'}, page_content='Александр Войтюк\\n\\n\\nИнфракрасный космический телескоп WISE, завершивший работу в\\xa0конце лета этого года, сгорел в\\xa0атмосфере Земли вечером 1\\xa0ноября 2024\\xa0года. Ранее ожидалось, что это произойдет в\\xa0декабре этого года или январе 2025\\xa0года, однако рост солнечной активности привел к\\xa0увеличению плотности верхних слоев атмосферы и\\xa0снижение высоты орбиты аппарата произошло быстрее, чем планировалось.\\n\\n\\n\\nЧитать дальше\\n\\n\\n\\n\\n\\n\\n\\n\\n\\n\\n\\n\\n\\n\\n\\n\\n\\n\\n\\n\\n\\n\\n\\n\\n\\n\\n\\n\\n\\n\\nО нас\\n\\n\\nСложность\\n\\n\\nРекламодателям\\n\\n\\nАвторам')],\n",
              " 'answer': 'Информация о лазерах не упоминается в данном контексте.'}"
            ]
          },
          "metadata": {},
          "execution_count": 108
        }
      ]
    },
    {
      "cell_type": "markdown",
      "source": [
        "## Использование ретривера BM25\n",
        "\n",
        "Теперь для векторизации фрагментов и запроса пользователя используем более простую модель. Модели BM25 основана на векторизации TF-IDF. То есть в отличие от эмбеддинговой модели, где вектор представляет собой числовое представление семантического смысла, модели BM25 векторизируют текст по словам. Можно сказать, что поиск с помощью BM25 - это поиск по ключевым словам.\n",
        "\n",
        "Поскольку BM25 работает со словами, а не со смыслами, нужно как в классическом NLP выполнить предобработку текстов, чтобы уменьшить словарь."
      ],
      "metadata": {
        "id": "dhU56Bu0rsyE"
      }
    },
    {
      "cell_type": "code",
      "source": [
        "import string\n",
        "\n",
        "\n",
        "def tokenize(s):\n",
        "    return s.lower().translate(str.maketrans(\"\", \"\", string.punctuation)).split(\" \")"
      ],
      "metadata": {
        "id": "FT920lanl_Kd"
      },
      "execution_count": null,
      "outputs": []
    },
    {
      "cell_type": "code",
      "source": [
        "!pip install rank_bm25"
      ],
      "metadata": {
        "colab": {
          "base_uri": "https://localhost:8080/"
        },
        "id": "XJGNrtFQeOoR",
        "outputId": "de53e9dc-3d9f-4c4d-f54b-41d8a1e6364c"
      },
      "execution_count": null,
      "outputs": [
        {
          "output_type": "stream",
          "name": "stdout",
          "text": [
            "Requirement already satisfied: rank_bm25 in /usr/local/lib/python3.11/dist-packages (0.2.2)\n",
            "Requirement already satisfied: numpy in /usr/local/lib/python3.11/dist-packages (from rank_bm25) (1.26.4)\n"
          ]
        }
      ]
    },
    {
      "cell_type": "code",
      "source": [
        "bm25_retriever = BM25Retriever.from_documents(\n",
        "      documents=split_docs,\n",
        "      preprocess_func=tokenize,\n",
        "      k=5,\n",
        "  )"
      ],
      "metadata": {
        "id": "tyFBvQ7vmU_s",
        "colab": {
          "base_uri": "https://localhost:8080/",
          "height": 211
        },
        "outputId": "c8ccb094-5c7d-4ca4-b2ae-491a7f9b55ea"
      },
      "execution_count": null,
      "outputs": [
        {
          "output_type": "error",
          "ename": "NameError",
          "evalue": "name 'BM25Retriever' is not defined",
          "traceback": [
            "\u001b[0;31m---------------------------------------------------------------------------\u001b[0m",
            "\u001b[0;31mNameError\u001b[0m                                 Traceback (most recent call last)",
            "\u001b[0;32m<ipython-input-11-0a8aba6a2a02>\u001b[0m in \u001b[0;36m<cell line: 0>\u001b[0;34m()\u001b[0m\n\u001b[0;32m----> 1\u001b[0;31m bm25_retriever = BM25Retriever.from_documents(\n\u001b[0m\u001b[1;32m      2\u001b[0m       \u001b[0mdocuments\u001b[0m\u001b[0;34m=\u001b[0m\u001b[0msplit_docs\u001b[0m\u001b[0;34m,\u001b[0m\u001b[0;34m\u001b[0m\u001b[0;34m\u001b[0m\u001b[0m\n\u001b[1;32m      3\u001b[0m       \u001b[0mpreprocess_func\u001b[0m\u001b[0;34m=\u001b[0m\u001b[0mtokenize\u001b[0m\u001b[0;34m,\u001b[0m\u001b[0;34m\u001b[0m\u001b[0;34m\u001b[0m\u001b[0m\n\u001b[1;32m      4\u001b[0m       \u001b[0mk\u001b[0m\u001b[0;34m=\u001b[0m\u001b[0;36m5\u001b[0m\u001b[0;34m,\u001b[0m\u001b[0;34m\u001b[0m\u001b[0;34m\u001b[0m\u001b[0m\n\u001b[1;32m      5\u001b[0m   )\n",
            "\u001b[0;31mNameError\u001b[0m: name 'BM25Retriever' is not defined"
          ]
        }
      ]
    },
    {
      "cell_type": "code",
      "source": [
        "bm25_retriever.get_relevant_documents(q5)"
      ],
      "metadata": {
        "id": "VS8lbz0Bmf8k",
        "colab": {
          "base_uri": "https://localhost:8080/",
          "height": 141
        },
        "outputId": "a6c53c58-c8f8-4b85-a007-cfe610c9065a"
      },
      "execution_count": null,
      "outputs": [
        {
          "output_type": "error",
          "ename": "NameError",
          "evalue": "name 'bm25_retriever' is not defined",
          "traceback": [
            "\u001b[0;31m---------------------------------------------------------------------------\u001b[0m",
            "\u001b[0;31mNameError\u001b[0m                                 Traceback (most recent call last)",
            "\u001b[0;32m<ipython-input-7-acebc58e743e>\u001b[0m in \u001b[0;36m<cell line: 0>\u001b[0;34m()\u001b[0m\n\u001b[0;32m----> 1\u001b[0;31m \u001b[0mbm25_retriever\u001b[0m\u001b[0;34m.\u001b[0m\u001b[0mget_relevant_documents\u001b[0m\u001b[0;34m(\u001b[0m\u001b[0mq5\u001b[0m\u001b[0;34m)\u001b[0m\u001b[0;34m\u001b[0m\u001b[0;34m\u001b[0m\u001b[0m\n\u001b[0m",
            "\u001b[0;31mNameError\u001b[0m: name 'bm25_retriever' is not defined"
          ]
        }
      ]
    },
    {
      "cell_type": "code",
      "source": [
        "bm25_chain = create_retrieval_chain(bm25_retriever, document_chain)"
      ],
      "metadata": {
        "id": "6DzXYe2vmzLN"
      },
      "execution_count": null,
      "outputs": []
    },
    {
      "cell_type": "code",
      "source": [
        "resp5_2 = bm25_chain.invoke(\n",
        "    {'input': q5}\n",
        ")"
      ],
      "metadata": {
        "id": "RrPY5HnXnNzq"
      },
      "execution_count": null,
      "outputs": []
    },
    {
      "cell_type": "code",
      "source": [
        "resp5_2"
      ],
      "metadata": {
        "id": "eOcn2u-6nW_a",
        "colab": {
          "base_uri": "https://localhost:8080/"
        },
        "outputId": "494225b3-8c2c-47df-e38e-239bb0dff360"
      },
      "execution_count": null,
      "outputs": [
        {
          "output_type": "execute_result",
          "data": {
            "text/plain": [
              "{'input': 'Дай информацию, связанную с лазерами.',\n",
              " 'context': [Document(page_content='Сайт может содержать контент, не предназначенный для лиц младше 18 лет.\\nСвязь с редакцией: [email\\xa0protected]', metadata={'source': 'https://nplus1.ru/news/2024/04/09/delta-heavy-finally', 'title': 'Ракета Delta IV\\xa0Heavy отправилась в\\xa0свой финальный полет. Она летала в\\xa0космос 20\\xa0лет', 'description': 'N + 1 — главное издание о науке, технике и технологиях', 'language': 'ru'}),\n",
              "  Document(page_content='Сайт может содержать контент, не предназначенный для лиц младше 18 лет.\\nСвязь с редакцией: [email\\xa0protected]', metadata={'source': 'https://nplus1.ru/news/2024/05/09/tess-on', 'title': 'Телескоп TESS возобновил научные наблюдения. Он\\xa0второй раз за\\xa0месяц был в\\xa0безопасном режиме', 'description': 'N + 1 — главное издание о науке, технике и технологиях', 'language': 'ru'}),\n",
              "  Document(page_content='Сайт может содержать контент, не предназначенный для лиц младше 18 лет.\\nСвязь с редакцией: [email\\xa0protected]', metadata={'source': 'https://nplus1.ru/news/2024/05/03/change-6-launch', 'title': 'Китайская автоматическая станция «Чанъэ-6» отправилась к\\xa0Луне. Она доставит на\\xa0Землю грунт с\\xa0обратной стороны Луны', 'description': 'N + 1 — главное издание о науке, технике и технологиях', 'language': 'ru'}),\n",
              "  Document(page_content='Сайт может содержать контент, не предназначенный для лиц младше 18 лет.\\nСвязь с редакцией: [email\\xa0protected]', metadata={'source': 'https://nplus1.ru/news/2024/04/18/ingenuity-will-work-until-death', 'title': '«Индженьюити» превратили в\\xa0автономный метеорологический пост. Он\\xa0будет собирать данные, пока окончательно не\\xa0выйдет из\\xa0строя', 'description': 'N + 1 — главное издание о науке, технике и технологиях', 'language': 'ru'}),\n",
              "  Document(page_content='Сайт может содержать контент, не предназначенный для лиц младше 18 лет.\\nСвязь с редакцией: [email\\xa0protected]', metadata={'source': 'https://nplus1.ru/news/2024/04/30/psyche-transmits-laser', 'title': 'Станция Psyche впервые передала технические данные из\\xa0глубокого космоса на\\xa0Землю при помощи лазерной связи. С\\xa0очень большой скоростью', 'description': 'N + 1 — главное издание о науке, технике и технологиях', 'language': 'ru'})],\n",
              " 'answer': 'Информация о лазерах отсутствует в данном контексте.'}"
            ]
          },
          "metadata": {},
          "execution_count": 42
        }
      ]
    },
    {
      "cell_type": "code",
      "source": [
        "resp4_2 = bm25_chain.invoke(\n",
        "    {'input': q4}\n",
        ")"
      ],
      "metadata": {
        "id": "bd7wt34rnY1t"
      },
      "execution_count": null,
      "outputs": []
    },
    {
      "cell_type": "code",
      "source": [
        "resp4_2"
      ],
      "metadata": {
        "id": "JeHo--OlnoB8",
        "colab": {
          "base_uri": "https://localhost:8080/"
        },
        "outputId": "55ad1bb7-718e-45dd-d332-4fa1e50c6e85"
      },
      "execution_count": null,
      "outputs": [
        {
          "output_type": "execute_result",
          "data": {
            "text/plain": [
              "{'input': 'Есть ли какая-то информация, связанная с именем древнегреческого математика?',\n",
              " 'context': [Document(page_content='Андрей Фокин\\n\\n\\nКомпания SpaceX обнародовала результаты расследования причин последовательных взрывов первой и\\xa0второй ступеней ракеты-носителя Starship во\\xa0время второго испытательного полета, состоявшегося 18\\xa0ноября 2023\\xa0года. Информация появилась на\\xa0сайте компании.\\n\\n\\n\\nЧитать дальше\\n\\n\\n\\n\\n\\n\\n\\n\\n\\n\\n\\n\\n\\n\\n\\n\\n\\n\\n\\n\\n\\n\\n\\n\\n\\n\\n\\n\\n\\n\\nО нас\\n\\n\\nСложность\\n\\n\\nРекламодателям\\n\\n\\nАвторам\\n\\n\\n\\n© 2024 N + 1 Интернет-издание / Свидетельство о регистрации СМИ Эл № ФС77-67614', metadata={'source': 'https://nplus1.ru/news/2024/04/03/iss-kaboom', 'title': 'Обломок выброшенных с\\xa0МКС аккумуляторов пробил крышу дома жителя Флориды. Аккумуляторы выбросили с\\xa0борта станции в\\xa02021 году', 'description': 'N + 1 — главное издание о науке, технике и технологиях', 'language': 'ru'}),\n",
              "  Document(page_content='Александр Войтюк\\n\\n\\n\\nКосмический телескоп «Хаббл» 29\\xa0апреля 2024 года вернулся к\\xa0научным наблюдениям после выхода из\\xa0безопасного режима, в\\xa0который перешел 23\\xa0апреля. Переход произошел после того, как один из\\xa0двигателей-маховиков, входящих в\\xa0систему ориентации телескопа в\\xa0пространстве, стал некорректно работать. Всего на\\xa0борту телескопа есть три рабочих и\\xa0три вышедших из\\xa0строя двигателей-маховиков, при этом «Хаббл» способен работать даже с\\xa0одним из\\xa0них.', metadata={'source': 'https://nplus1.ru/news/2024/05/01/hubble-recovery', 'title': '«Хаббл» вернулся к\\xa0наблюдениям после нового сбоя в\\xa0системе ориентации. Он\\xa0провел в\\xa0безопасном режиме неделю', 'description': 'N + 1 — главное издание о науке, технике и технологиях', 'language': 'ru'}),\n",
              "  Document(page_content='Колесные роботы давно зарекомендовали себя в\\xa0изучении Луны и\\xa0Марса, а\\xa0экспериментальный марсианский вертолет «Индженьюити» доказал, что и\\xa0летающие роботы могут быть эффективны на\\xa0других планетах (если есть достаточно плотная атмосфера). К\\xa0сожалению, это не\\xa0относится к\\xa0небольшим небесным телам, таким как астероиды и\\xa0кометы. Для них характерны низкая гравитация, сложный рельеф и\\xa0отсутствие плотной атмосферы. Поэтому оба указанных типа космических роботов не\\xa0смогут там работать. Однако существует', metadata={'source': 'https://nplus1.ru/news/2024/04/12/spacehopper', 'title': 'Трехногого робота-прыгуна испытали в\\xa0условиях микрогравитации. Он\\xa0может переворачиваться в\\xa0полете с\\xa0помощью движений ног', 'description': 'N + 1 — главное издание о науке, технике и технологиях', 'language': 'ru'}),\n",
              "  Document(page_content='Сайт может содержать контент, не предназначенный для лиц младше 18 лет.\\nСвязь с редакцией: [email\\xa0protected]', metadata={'source': 'https://nplus1.ru/news/2024/04/09/delta-heavy-finally', 'title': 'Ракета Delta IV\\xa0Heavy отправилась в\\xa0свой финальный полет. Она летала в\\xa0космос 20\\xa0лет', 'description': 'N + 1 — главное издание о науке, технике и технологиях', 'language': 'ru'}),\n",
              "  Document(page_content='Сайт может содержать контент, не предназначенный для лиц младше 18 лет.\\nСвязь с редакцией: [email\\xa0protected]', metadata={'source': 'https://nplus1.ru/news/2024/04/30/psyche-transmits-laser', 'title': 'Станция Psyche впервые передала технические данные из\\xa0глубокого космоса на\\xa0Землю при помощи лазерной связи. С\\xa0очень большой скоростью', 'description': 'N + 1 — главное издание о науке, технике и технологиях', 'language': 'ru'})],\n",
              " 'answer': 'В предоставленном контексте нет информации, связанной с именем древнегреческого математика.'}"
            ]
          },
          "metadata": {},
          "execution_count": 44
        }
      ]
    },
    {
      "cell_type": "code",
      "source": [
        "resp3_2 = bm25_chain.invoke(\n",
        "    {'input': q3}\n",
        ")"
      ],
      "metadata": {
        "id": "-uFeCxglnqWT"
      },
      "execution_count": null,
      "outputs": []
    },
    {
      "cell_type": "code",
      "source": [
        "resp3_2"
      ],
      "metadata": {
        "id": "2aIL9AL0oSHO",
        "colab": {
          "base_uri": "https://localhost:8080/"
        },
        "outputId": "fda88ea8-e717-4b02-be84-c5529c71673c"
      },
      "execution_count": null,
      "outputs": [
        {
          "output_type": "execute_result",
          "data": {
            "text/plain": [
              "{'input': 'Какая есть информация о неудачных запусках?',\n",
              " 'context': [Document(page_content='Андрей Фокин\\n\\n\\nКомпания SpaceX обнародовала результаты расследования причин последовательных взрывов первой и\\xa0второй ступеней ракеты-носителя Starship во\\xa0время второго испытательного полета, состоявшегося 18\\xa0ноября 2023\\xa0года. Информация появилась на\\xa0сайте компании.\\n\\n\\n\\nЧитать дальше\\n\\n\\n\\n\\n\\n\\n\\n\\n\\n\\n\\n\\n\\n\\n\\n\\n\\n\\n\\n\\n\\n\\n\\n\\n\\n\\n\\n\\n\\n\\nО нас\\n\\n\\nСложность\\n\\n\\nРекламодателям\\n\\n\\nАвторам\\n\\n\\n\\n© 2024 N + 1 Интернет-издание / Свидетельство о регистрации СМИ Эл № ФС77-67614', metadata={'source': 'https://nplus1.ru/news/2024/04/03/iss-kaboom', 'title': 'Обломок выброшенных с\\xa0МКС аккумуляторов пробил крышу дома жителя Флориды. Аккумуляторы выбросили с\\xa0борта станции в\\xa02021 году', 'description': 'N + 1 — главное издание о науке, технике и технологиях', 'language': 'ru'}),\n",
              "  Document(page_content='Александр Войтюк\\n\\n\\n\\nКосмический телескоп «Хаббл» 29\\xa0апреля 2024 года вернулся к\\xa0научным наблюдениям после выхода из\\xa0безопасного режима, в\\xa0который перешел 23\\xa0апреля. Переход произошел после того, как один из\\xa0двигателей-маховиков, входящих в\\xa0систему ориентации телескопа в\\xa0пространстве, стал некорректно работать. Всего на\\xa0борту телескопа есть три рабочих и\\xa0три вышедших из\\xa0строя двигателей-маховиков, при этом «Хаббл» способен работать даже с\\xa0одним из\\xa0них.', metadata={'source': 'https://nplus1.ru/news/2024/05/01/hubble-recovery', 'title': '«Хаббл» вернулся к\\xa0наблюдениям после нового сбоя в\\xa0системе ориентации. Он\\xa0провел в\\xa0безопасном режиме неделю', 'description': 'N + 1 — главное издание о науке, технике и технологиях', 'language': 'ru'}),\n",
              "  Document(page_content='Колесные роботы давно зарекомендовали себя в\\xa0изучении Луны и\\xa0Марса, а\\xa0экспериментальный марсианский вертолет «Индженьюити» доказал, что и\\xa0летающие роботы могут быть эффективны на\\xa0других планетах (если есть достаточно плотная атмосфера). К\\xa0сожалению, это не\\xa0относится к\\xa0небольшим небесным телам, таким как астероиды и\\xa0кометы. Для них характерны низкая гравитация, сложный рельеф и\\xa0отсутствие плотной атмосферы. Поэтому оба указанных типа космических роботов не\\xa0смогут там работать. Однако существует', metadata={'source': 'https://nplus1.ru/news/2024/04/12/spacehopper', 'title': 'Трехногого робота-прыгуна испытали в\\xa0условиях микрогравитации. Он\\xa0может переворачиваться в\\xa0полете с\\xa0помощью движений ног', 'description': 'N + 1 — главное издание о науке, технике и технологиях', 'language': 'ru'}),\n",
              "  Document(page_content='о борьбе за первенство в области пилотируемых космических полетов. Предлагаем вам ознакомиться с фрагментом о том, что заставило Сергея Королева пойти наперекор себе и дать космонавтам доступ к ручному управлению космическим кораблем.', metadata={'source': 'https://nplus1.ru/news/2024/05/09/change-6-lunar-orbit', 'title': 'Китайская автоматическая станция «Чанъэ-6» вышла на\\xa0окололунную орбиту. Она может высадиться на\\xa0Луну в\\xa0начале июня', 'description': 'N + 1 — главное издание о науке, технике и технологиях', 'language': 'ru'}),\n",
              "  Document(page_content='Читать дальше\\n\\n\\n\\n\\n\\n\\n\\n\\n\\n\\n\\n\\n\\n\\n\\n\\n\\n\\n\\n\\n\\n\\n\\n\\n\\n\\n\\n\\n\\n\\nО нас\\n\\n\\nСложность\\n\\n\\nРекламодателям\\n\\n\\nАвторам\\n\\n\\n\\n© 2024 N + 1 Интернет-издание / Свидетельство о регистрации СМИ Эл № ФС77-67614', metadata={'source': 'https://nplus1.ru/news/2024/04/18/dragonfly-go', 'title': 'NASA одобрило постройку октокоптера для Титана. Он\\xa0прибудет к\\xa0спутнику Сатурна в\\xa02034 году', 'description': 'N + 1 — главное издание о науке, технике и технологиях', 'language': 'ru'})],\n",
              " 'answer': 'В данном контексте нет информации о неудачных запусках.'}"
            ]
          },
          "metadata": {},
          "execution_count": 46
        }
      ]
    },
    {
      "cell_type": "code",
      "source": [
        "resp2_2 = bm25_chain.invoke(\n",
        "    {'input': q2}\n",
        ")"
      ],
      "metadata": {
        "id": "FcrmO8vroUFO"
      },
      "execution_count": null,
      "outputs": []
    },
    {
      "cell_type": "code",
      "source": [
        "resp2_2"
      ],
      "metadata": {
        "id": "E8Jt4E81ogec",
        "colab": {
          "base_uri": "https://localhost:8080/"
        },
        "outputId": "d935c29a-aa9f-4804-be23-884eff5908ba"
      },
      "execution_count": null,
      "outputs": [
        {
          "output_type": "execute_result",
          "data": {
            "text/plain": [
              "{'input': 'Когда Хаббл вернулся к работе?',\n",
              " 'context': [Document(page_content='о борьбе за первенство в области пилотируемых космических полетов. Предлагаем вам ознакомиться с фрагментом о том, что заставило Сергея Королева пойти наперекор себе и дать космонавтам доступ к ручному управлению космическим кораблем.', metadata={'source': 'https://nplus1.ru/news/2024/05/09/change-6-lunar-orbit', 'title': 'Китайская автоматическая станция «Чанъэ-6» вышла на\\xa0окололунную орбиту. Она может высадиться на\\xa0Луну в\\xa0начале июня', 'description': 'N + 1 — главное издание о науке, технике и технологиях', 'language': 'ru'}),\n",
              "  Document(page_content='После этого взлетный модуль доставит капсулу на\\xa0окололунную орбиту, где перегрузит ее\\xa0на\\xa0служебный модуль после стыковки с\\xa0ним. В\\xa0конце служебный модуль доставит капсулу к\\xa0Земле и\\xa0сбросит в\\xa0атмосферу. Связь с\\xa0Землей аппаратов при работе на\\xa0Луне обеспечит спутник-ретранслятор «Цюэцяо-2», запущенный ранее.', metadata={'source': 'https://nplus1.ru/news/2024/05/03/change-6-launch', 'title': 'Китайская автоматическая станция «Чанъэ-6» отправилась к\\xa0Луне. Она доставит на\\xa0Землю грунт с\\xa0обратной стороны Луны', 'description': 'N + 1 — главное издание о науке, технике и технологиях', 'language': 'ru'}),\n",
              "  Document(page_content='N + offline\\nN + production\\n\\n\\n\\n\\n\\n\\n\\n\\n\\n\\n\\n\\n\\n\\n\\n\\n\\n\\n\\n\\n\\n\\n\\n\\n\\n\\n\\n\\n\\n\\n\\n\\n\\n\\n\\n\\n\\n\\n\\n\\n\\n\\n\\n\\n19:28\\n\\n\\n01.05.24\\n\\n\\n\\n\\n\\n1.9\\n\\n\\nКосмонавтика\\n\\n\\n\\n\\n\\n\\n\\n\\n\\n\\n\\n\\n\\n\\n\\n\\n\\n\\n\\n\\n\\n\\n\\n            «Хаббл» вернулся к\\xa0наблюдениям после нового сбоя в\\xa0системе ориентации\\n          \\nОн\\xa0провел в\\xa0безопасном режиме неделю\\n\\n\\nАлександр Войтюк', metadata={'source': 'https://nplus1.ru/news/2024/05/01/hubble-recovery', 'title': '«Хаббл» вернулся к\\xa0наблюдениям после нового сбоя в\\xa0системе ориентации. Он\\xa0провел в\\xa0безопасном режиме неделю', 'description': 'N + 1 — главное издание о науке, технике и технологиях', 'language': 'ru'}),\n",
              "  Document(page_content='в\\xa0кратере Аполлон в\\xa0южной полярной области Луны. Прилунение может состояться в\\xa0начале июня, когда в\\xa0этом регионе будут хорошие условия по\\xa0освещенности Солнцем, что важно для аппаратов, работающих на\\xa0солнечных батареях.', metadata={'source': 'https://nplus1.ru/news/2024/05/09/change-6-lunar-orbit', 'title': 'Китайская автоматическая станция «Чанъэ-6» вышла на\\xa0окололунную орбиту. Она может высадиться на\\xa0Луну в\\xa0начале июня', 'description': 'N + 1 — главное издание о науке, технике и технологиях', 'language': 'ru'}),\n",
              "  Document(page_content='Александр Войтюк\\n\\n\\n\\nКосмический телескоп «Хаббл» 29\\xa0апреля 2024 года вернулся к\\xa0научным наблюдениям после выхода из\\xa0безопасного режима, в\\xa0который перешел 23\\xa0апреля. Переход произошел после того, как один из\\xa0двигателей-маховиков, входящих в\\xa0систему ориентации телескопа в\\xa0пространстве, стал некорректно работать. Всего на\\xa0борту телескопа есть три рабочих и\\xa0три вышедших из\\xa0строя двигателей-маховиков, при этом «Хаббл» способен работать даже с\\xa0одним из\\xa0них.', metadata={'source': 'https://nplus1.ru/news/2024/05/01/hubble-recovery', 'title': '«Хаббл» вернулся к\\xa0наблюдениям после нового сбоя в\\xa0системе ориентации. Он\\xa0провел в\\xa0безопасном режиме неделю', 'description': 'N + 1 — главное издание о науке, технике и технологиях', 'language': 'ru'})],\n",
              " 'answer': 'Космический телескоп \"Хаббл\" вернулся к работе 29 апреля 2024 года.'}"
            ]
          },
          "metadata": {},
          "execution_count": 48
        }
      ]
    },
    {
      "cell_type": "code",
      "source": [
        "resp1_2 = bm25_chain.invoke(\n",
        "    {'input': q1}\n",
        ")"
      ],
      "metadata": {
        "id": "qHdJGhzqplBc"
      },
      "execution_count": null,
      "outputs": []
    },
    {
      "cell_type": "code",
      "source": [
        "resp1_2"
      ],
      "metadata": {
        "id": "BXyFv7MupxMP",
        "colab": {
          "base_uri": "https://localhost:8080/"
        },
        "outputId": "06371427-58b2-4ad6-dfb1-5c595015695d"
      },
      "execution_count": null,
      "outputs": [
        {
          "output_type": "execute_result",
          "data": {
            "text/plain": [
              "{'input': 'Какие космические аппараты запускал Китай к Луне?',\n",
              " 'context': [Document(page_content='о борьбе за первенство в области пилотируемых космических полетов. Предлагаем вам ознакомиться с фрагментом о том, что заставило Сергея Королева пойти наперекор себе и дать космонавтам доступ к ручному управлению космическим кораблем.', metadata={'source': 'https://nplus1.ru/news/2024/05/09/change-6-lunar-orbit', 'title': 'Китайская автоматическая станция «Чанъэ-6» вышла на\\xa0окололунную орбиту. Она может высадиться на\\xa0Луну в\\xa0начале июня', 'description': 'N + 1 — главное издание о науке, технике и технологиях', 'language': 'ru'}),\n",
              "  Document(page_content='15:53\\n\\n\\n22.03.24\\n\\n\\n\\n\\n\\n2.9\\n\\n\\nКосмонавтика\\n\\n\\n\\n\\n\\n\\n\\n\\n\\n\\n\\n\\n\\n\\n\\n\\n\\n\\n\\n          Китай запустил спутник-ретранслятор «Цюэцяо-2» для будущих лунных аппаратов\\n        \\nОн\\xa0будет обеспечивать связь с\\xa0Землей\\n\\nАлександр Войтюк\\n\\n\\nКитай отправил к\\xa0Луне аппарат для связи будущих лунных миссий с\\xa0Землей. «Цюэцяо-2» будет работать несколько лет на\\xa0высокоэллиптической окололунной орбите и\\xa0проведет ряд научных экспериментов, сообщает Spacenews.com.\\n\\n\\n\\nЧитать дальше', metadata={'source': 'https://nplus1.ru/news/2024/04/11/danuri-lro', 'title': 'Орбитальный зонд LRO сфотографировал южнокорейский лунный зонд «Данури». Оба аппарата находятся на\\xa0окололунных орбитах', 'description': 'N + 1 — главное издание о науке, технике и технологиях', 'language': 'ru'}),\n",
              "  Document(page_content='Александр Войтюк\\n\\n\\n\\n\\n\\nКоманда первого внеземного дрона «Индженьюити» решила не\\xa0отключать совсем аппарат, а\\xa0превратить его в\\xa0автономную платформу для наблюдений за\\xa0динамикой температуры окружающей среды и\\xa0ее\\xa0запыленности. Накопленные данные будут храниться в\\xa0памяти дрона, пока в\\xa0будущем его не\\xa0посетят астронавты или другие автоматические аппараты, сообщается на\\xa0сайте NASA.', metadata={'source': 'https://nplus1.ru/news/2024/04/18/ingenuity-will-work-until-death', 'title': '«Индженьюити» превратили в\\xa0автономный метеорологический пост. Он\\xa0будет собирать данные, пока окончательно не\\xa0выйдет из\\xa0строя', 'description': 'N + 1 — главное издание о науке, технике и технологиях', 'language': 'ru'}),\n",
              "  Document(page_content='3\\xa0мая 2024 года в\\xa012:27 по\\xa0московскому времени ракета-носитель «Чанчжэн-5» с\\xa0«Чанъэ-6» успешно стартовала с\\xa0космодрома Вэньчан, общая продолжительность миссии оценивается в\\xa053\\xa0дня. Сначала аппараты выйдут на\\xa0окололунную орбиту, затем три из\\xa0них (возвращаемая капсула, посадочный и\\xa0взлетный модули) высадятся на\\xa0Луне, где при помощи бурильного механизма возьмут пробу грунта и\\xa0поместят ее\\xa0в\\xa0капсулу. После этого взлетный модуль доставит капсулу на\\xa0окололунную орбиту, где перегрузит ее\\xa0на\\xa0служебный', metadata={'source': 'https://nplus1.ru/news/2024/05/03/change-6-launch', 'title': 'Китайская автоматическая станция «Чанъэ-6» отправилась к\\xa0Луне. Она доставит на\\xa0Землю грунт с\\xa0обратной стороны Луны', 'description': 'N + 1 — главное издание о науке, технике и технологиях', 'language': 'ru'}),\n",
              "  Document(page_content='Аппараты китайской лунной миссии «Чанъэ-6» ночью 8\\xa0мая 2024 года успешно выполнили маневр торможения при помощи двигательной установки служебного модуля и\\xa0вышли на\\xa0первичную эллиптическую окололунную орбиту с\\xa0перицентром около двухсот километров. В\\xa0дальнейшем «Чанъэ-6» выведет на\\xa0окололунную орбиту пакистанский кубсат ICUBE-Q. После этого он\\xa0сделает орбиту круговой и\\xa0начнет подготовку к\\xa0высадке в\\xa0кратере Аполлон в\\xa0южной полярной области Луны. Прилунение может состояться в\\xa0начале июня, когда', metadata={'source': 'https://nplus1.ru/news/2024/05/09/change-6-lunar-orbit', 'title': 'Китайская автоматическая станция «Чанъэ-6» вышла на\\xa0окололунную орбиту. Она может высадиться на\\xa0Луну в\\xa0начале июня', 'description': 'N + 1 — главное издание о науке, технике и технологиях', 'language': 'ru'})],\n",
              " 'answer': 'Китай запустил аппарат для связи будущих лунных миссий с Землей.'}"
            ]
          },
          "metadata": {},
          "execution_count": 50
        }
      ]
    },
    {
      "cell_type": "markdown",
      "source": [
        "## Сохранение ответов в файл\n",
        "\n",
        "В последующих туториалах мы попробуем оценить качество ответов, даваемых RAG-системой. Для этого сохраним их пока что в файл."
      ],
      "metadata": {
        "id": "ezCIy5InukBM"
      }
    },
    {
      "cell_type": "code",
      "source": [
        "rows = []\n",
        "results = [\n",
        "    resp1, resp2, resp3, resp4, resp5,\n",
        "    resp1_2, resp2_2, resp3_2, resp4_2, resp5_2,\n",
        "]\n",
        "for data in results:\n",
        "  for context in data['context']:\n",
        "    row = {\n",
        "        'input': data['input'],\n",
        "        'context': context.page_content,\n",
        "        'source': context.metadata['source'],\n",
        "        'title': context.metadata['title'],\n",
        "        'description': context.metadata['description'],\n",
        "        'language': context.metadata['language'],\n",
        "        'answer': data['answer']\n",
        "    }\n",
        "    rows.append(row)"
      ],
      "metadata": {
        "id": "WqovhRChvuab"
      },
      "execution_count": null,
      "outputs": []
    },
    {
      "cell_type": "code",
      "source": [
        "import pandas as pd\n",
        "df = pd.DataFrame(rows)\n",
        "\n",
        "df.to_csv('output.csv', index=False)"
      ],
      "metadata": {
        "id": "iPzkwvb9IwM7"
      },
      "execution_count": null,
      "outputs": []
    },
    {
      "cell_type": "markdown",
      "source": [
        "## Вопросно-ответная система с двумя ретриверами\n",
        "Создадим гибрид, где два из пяти фрагментов будут извлекаться по эмбеддингам, а еще три по векторам, полученным с помощью модели BM25."
      ],
      "metadata": {
        "id": "TulPuzKXt4OU"
      }
    },
    {
      "cell_type": "code",
      "source": [
        "embedding_retriever = vector_store.as_retriever(search_kwargs={\"k\": 2})\n",
        "bm25_retriever = BM25Retriever.from_documents(\n",
        "    documents=split_docs,\n",
        "    preprocess_func=tokenize,\n",
        "    k=3,\n",
        ")"
      ],
      "metadata": {
        "id": "Ee379nd5pybe",
        "colab": {
          "base_uri": "https://localhost:8080/",
          "height": 211
        },
        "outputId": "57f7b9a3-7230-48bb-dc4a-a7750a5a1e23"
      },
      "execution_count": null,
      "outputs": [
        {
          "output_type": "error",
          "ename": "NameError",
          "evalue": "name 'vector_store' is not defined",
          "traceback": [
            "\u001b[0;31m---------------------------------------------------------------------------\u001b[0m",
            "\u001b[0;31mNameError\u001b[0m                                 Traceback (most recent call last)",
            "\u001b[0;32m<ipython-input-12-45199b3d2b60>\u001b[0m in \u001b[0;36m<cell line: 0>\u001b[0;34m()\u001b[0m\n\u001b[0;32m----> 1\u001b[0;31m \u001b[0membedding_retriever\u001b[0m \u001b[0;34m=\u001b[0m \u001b[0mvector_store\u001b[0m\u001b[0;34m.\u001b[0m\u001b[0mas_retriever\u001b[0m\u001b[0;34m(\u001b[0m\u001b[0msearch_kwargs\u001b[0m\u001b[0;34m=\u001b[0m\u001b[0;34m{\u001b[0m\u001b[0;34m\"k\"\u001b[0m\u001b[0;34m:\u001b[0m \u001b[0;36m2\u001b[0m\u001b[0;34m}\u001b[0m\u001b[0;34m)\u001b[0m\u001b[0;34m\u001b[0m\u001b[0;34m\u001b[0m\u001b[0m\n\u001b[0m\u001b[1;32m      2\u001b[0m bm25_retriever = BM25Retriever.from_documents(\n\u001b[1;32m      3\u001b[0m     \u001b[0mdocuments\u001b[0m\u001b[0;34m=\u001b[0m\u001b[0msplit_docs\u001b[0m\u001b[0;34m,\u001b[0m\u001b[0;34m\u001b[0m\u001b[0;34m\u001b[0m\u001b[0m\n\u001b[1;32m      4\u001b[0m     \u001b[0mpreprocess_func\u001b[0m\u001b[0;34m=\u001b[0m\u001b[0mtokenize\u001b[0m\u001b[0;34m,\u001b[0m\u001b[0;34m\u001b[0m\u001b[0;34m\u001b[0m\u001b[0m\n\u001b[1;32m      5\u001b[0m     \u001b[0mk\u001b[0m\u001b[0;34m=\u001b[0m\u001b[0;36m3\u001b[0m\u001b[0;34m,\u001b[0m\u001b[0;34m\u001b[0m\u001b[0;34m\u001b[0m\u001b[0m\n",
            "\u001b[0;31mNameError\u001b[0m: name 'vector_store' is not defined"
          ]
        }
      ]
    },
    {
      "cell_type": "code",
      "source": [
        "ensemble_retriever = EnsembleRetriever(\n",
        "    retrievers=[embedding_retriever, bm25_retriever],\n",
        "    weights=[0.4, 0.6],\n",
        ")"
      ],
      "metadata": {
        "id": "xrZ1InyZuXFI"
      },
      "execution_count": null,
      "outputs": []
    },
    {
      "cell_type": "code",
      "source": [
        "from langchain.chains import RetrievalQA\n",
        "qa = RetrievalQA.from_chain_type(\n",
        "    llm=llm,\n",
        "    chain_type=\"stuff\",\n",
        "    retriever=ensemble_retriever,\n",
        "    return_source_documents=True,\n",
        ")"
      ],
      "metadata": {
        "id": "x8plm9Lcua67"
      },
      "execution_count": null,
      "outputs": []
    },
    {
      "cell_type": "code",
      "source": [
        "qa.invoke({\"query\": q1})"
      ],
      "metadata": {
        "id": "ue6TR3gcuo-I"
      },
      "execution_count": null,
      "outputs": []
    },
    {
      "cell_type": "code",
      "source": [
        "qa.invoke({\"query\": q2})"
      ],
      "metadata": {
        "id": "pvrpZ4douyJr"
      },
      "execution_count": null,
      "outputs": []
    },
    {
      "cell_type": "code",
      "source": [
        "qa.invoke({\"query\": q3})"
      ],
      "metadata": {
        "id": "2NbZ-g1ku4ls"
      },
      "execution_count": null,
      "outputs": []
    },
    {
      "cell_type": "code",
      "source": [
        "qa.invoke({\"query\": q4})"
      ],
      "metadata": {
        "id": "TTzK8w-du8yh"
      },
      "execution_count": null,
      "outputs": []
    },
    {
      "cell_type": "code",
      "source": [
        "qa.invoke({\"query\": q5})"
      ],
      "metadata": {
        "id": "GB9LaPQlvB7h"
      },
      "execution_count": null,
      "outputs": []
    },
    {
      "cell_type": "code",
      "source": [],
      "metadata": {
        "id": "nhF1vVf9IRyo"
      },
      "execution_count": null,
      "outputs": []
    }
  ]
}